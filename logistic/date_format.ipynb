{
 "cells": [
  {
   "cell_type": "code",
   "execution_count": 2,
   "metadata": {},
   "outputs": [],
   "source": [
    "import pandas as pd\n",
    "import re\n",
    "import numpy as np"
   ]
  },
  {
   "cell_type": "code",
   "execution_count": 3,
   "metadata": {},
   "outputs": [
    {
     "data": {
      "text/html": [
       "<div>\n",
       "<style scoped>\n",
       "    .dataframe tbody tr th:only-of-type {\n",
       "        vertical-align: middle;\n",
       "    }\n",
       "\n",
       "    .dataframe tbody tr th {\n",
       "        vertical-align: top;\n",
       "    }\n",
       "\n",
       "    .dataframe thead th {\n",
       "        text-align: right;\n",
       "    }\n",
       "</style>\n",
       "<table border=\"1\" class=\"dataframe\">\n",
       "  <thead>\n",
       "    <tr style=\"text-align: right;\">\n",
       "      <th></th>\n",
       "      <th>Metro Manila</th>\n",
       "      <th>Luzon</th>\n",
       "      <th>Visayas</th>\n",
       "      <th>Mindanao</th>\n",
       "    </tr>\n",
       "  </thead>\n",
       "  <tbody>\n",
       "    <tr>\n",
       "      <th>Metro Manila</th>\n",
       "      <td>3</td>\n",
       "      <td>5</td>\n",
       "      <td>7</td>\n",
       "      <td>7</td>\n",
       "    </tr>\n",
       "    <tr>\n",
       "      <th>Luzon</th>\n",
       "      <td>5</td>\n",
       "      <td>5</td>\n",
       "      <td>7</td>\n",
       "      <td>7</td>\n",
       "    </tr>\n",
       "    <tr>\n",
       "      <th>Visayas</th>\n",
       "      <td>7</td>\n",
       "      <td>7</td>\n",
       "      <td>7</td>\n",
       "      <td>7</td>\n",
       "    </tr>\n",
       "    <tr>\n",
       "      <th>Mindanao</th>\n",
       "      <td>7</td>\n",
       "      <td>7</td>\n",
       "      <td>7</td>\n",
       "      <td>7</td>\n",
       "    </tr>\n",
       "  </tbody>\n",
       "</table>\n",
       "</div>"
      ],
      "text/plain": [
       "              Metro Manila  Luzon  Visayas  Mindanao\n",
       "Metro Manila             3      5        7         7\n",
       "Luzon                    5      5        7         7\n",
       "Visayas                  7      7        7         7\n",
       "Mindanao                 7      7        7         7"
      ]
     },
     "execution_count": 3,
     "metadata": {},
     "output_type": "execute_result"
    }
   ],
   "source": [
    "addr_list = ['Metro Manila', 'Luzon', 'Visayas', 'Mindanao']\n",
    "SLA = pd.DataFrame([[3, 5, 7, 7], [5, 5, 7, 7], [7, 7, 7, 7], [7, 7, 7, 7]], \n",
    "                   index = addr_list,\n",
    "                   columns = addr_list)\n",
    "SLA"
   ]
  },
  {
   "cell_type": "code",
   "execution_count": 20,
   "metadata": {},
   "outputs": [
    {
     "data": {
      "text/plain": [
       "[datetime.datetime(2020, 3, 1, 0, 0),\n",
       " datetime.datetime(2020, 3, 8, 0, 0),\n",
       " datetime.datetime(2020, 3, 15, 0, 0),\n",
       " datetime.datetime(2020, 3, 22, 0, 0),\n",
       " datetime.datetime(2020, 3, 25, 0, 0),\n",
       " datetime.datetime(2020, 3, 29, 0, 0),\n",
       " datetime.datetime(2020, 3, 30, 0, 0),\n",
       " datetime.datetime(2020, 3, 31, 0, 0)]"
      ]
     },
     "execution_count": 20,
     "metadata": {},
     "output_type": "execute_result"
    }
   ],
   "source": [
    "import datetime\n",
    "holiday = [datetime.datetime.strptime('2020-03-01', \"%Y-%m-%d\"),\n",
    "           datetime.datetime.strptime('2020-03-08', \"%Y-%m-%d\"),\n",
    "           datetime.datetime.strptime('2020-03-15', \"%Y-%m-%d\"),\n",
    "           datetime.datetime.strptime('2020-03-22', \"%Y-%m-%d\"),\n",
    "           datetime.datetime.strptime('2020-03-25', \"%Y-%m-%d\"),\n",
    "           datetime.datetime.strptime('2020-03-29', \"%Y-%m-%d\"),\n",
    "           datetime.datetime.strptime('2020-03-30', \"%Y-%m-%d\"),\n",
    "           datetime.datetime.strptime('2020-03-31', \"%Y-%m-%d\"),]\n",
    "holiday"
   ]
  },
  {
   "cell_type": "code",
   "execution_count": 8,
   "metadata": {},
   "outputs": [
    {
     "name": "stderr",
     "output_type": "stream",
     "text": [
      "C:\\Users\\pb580\\anaconda3\\envs\\ML_Env\\lib\\site-packages\\numpy\\lib\\arraysetops.py:569: FutureWarning: elementwise comparison failed; returning scalar instead, but in the future will perform elementwise comparison\n",
      "  mask |= (ar1 == a)\n"
     ]
    }
   ],
   "source": [
    "dodf = pd.read_csv('delivery_orders_march_shortaddr.csv', index_col=0)"
   ]
  },
  {
   "cell_type": "code",
   "execution_count": 9,
   "metadata": {},
   "outputs": [
    {
     "data": {
      "text/html": [
       "<div>\n",
       "<style scoped>\n",
       "    .dataframe tbody tr th:only-of-type {\n",
       "        vertical-align: middle;\n",
       "    }\n",
       "\n",
       "    .dataframe tbody tr th {\n",
       "        vertical-align: top;\n",
       "    }\n",
       "\n",
       "    .dataframe thead th {\n",
       "        text-align: right;\n",
       "    }\n",
       "</style>\n",
       "<table border=\"1\" class=\"dataframe\">\n",
       "  <thead>\n",
       "    <tr style=\"text-align: right;\">\n",
       "      <th></th>\n",
       "      <th>orderid</th>\n",
       "      <th>pick</th>\n",
       "      <th>1st_deliver_attempt</th>\n",
       "      <th>2nd_deliver_attempt</th>\n",
       "      <th>buyeraddress</th>\n",
       "      <th>selleraddress</th>\n",
       "    </tr>\n",
       "  </thead>\n",
       "  <tbody>\n",
       "    <tr>\n",
       "      <th>0</th>\n",
       "      <td>2215676524</td>\n",
       "      <td>1583138397</td>\n",
       "      <td>1.583385e+09</td>\n",
       "      <td>NaN</td>\n",
       "      <td>Metro Manila</td>\n",
       "      <td>Metro Manila</td>\n",
       "    </tr>\n",
       "    <tr>\n",
       "      <th>1</th>\n",
       "      <td>2219624609</td>\n",
       "      <td>1583309968</td>\n",
       "      <td>1.583463e+09</td>\n",
       "      <td>1.583799e+09</td>\n",
       "      <td>Metro Manila</td>\n",
       "      <td>Metro Manila</td>\n",
       "    </tr>\n",
       "    <tr>\n",
       "      <th>2</th>\n",
       "      <td>2220979489</td>\n",
       "      <td>1583306434</td>\n",
       "      <td>1.583460e+09</td>\n",
       "      <td>NaN</td>\n",
       "      <td>Metro Manila</td>\n",
       "      <td>Metro Manila</td>\n",
       "    </tr>\n",
       "    <tr>\n",
       "      <th>3</th>\n",
       "      <td>2221066352</td>\n",
       "      <td>1583419016</td>\n",
       "      <td>1.583556e+09</td>\n",
       "      <td>NaN</td>\n",
       "      <td>Metro Manila</td>\n",
       "      <td>Metro Manila</td>\n",
       "    </tr>\n",
       "    <tr>\n",
       "      <th>4</th>\n",
       "      <td>2222478803</td>\n",
       "      <td>1583318305</td>\n",
       "      <td>1.583480e+09</td>\n",
       "      <td>NaN</td>\n",
       "      <td>Luzon</td>\n",
       "      <td>Metro Manila</td>\n",
       "    </tr>\n",
       "  </tbody>\n",
       "</table>\n",
       "</div>"
      ],
      "text/plain": [
       "      orderid        pick  1st_deliver_attempt  2nd_deliver_attempt  \\\n",
       "0  2215676524  1583138397         1.583385e+09                  NaN   \n",
       "1  2219624609  1583309968         1.583463e+09         1.583799e+09   \n",
       "2  2220979489  1583306434         1.583460e+09                  NaN   \n",
       "3  2221066352  1583419016         1.583556e+09                  NaN   \n",
       "4  2222478803  1583318305         1.583480e+09                  NaN   \n",
       "\n",
       "   buyeraddress selleraddress  \n",
       "0  Metro Manila  Metro Manila  \n",
       "1  Metro Manila  Metro Manila  \n",
       "2  Metro Manila  Metro Manila  \n",
       "3  Metro Manila  Metro Manila  \n",
       "4         Luzon  Metro Manila  "
      ]
     },
     "execution_count": 9,
     "metadata": {},
     "output_type": "execute_result"
    }
   ],
   "source": [
    "dodf.head()"
   ]
  },
  {
   "cell_type": "code",
   "execution_count": 11,
   "metadata": {},
   "outputs": [],
   "source": [
    "temp = dodf.copy()"
   ]
  },
  {
   "cell_type": "code",
   "execution_count": 14,
   "metadata": {},
   "outputs": [
    {
     "data": {
      "text/html": [
       "<div>\n",
       "<style scoped>\n",
       "    .dataframe tbody tr th:only-of-type {\n",
       "        vertical-align: middle;\n",
       "    }\n",
       "\n",
       "    .dataframe tbody tr th {\n",
       "        vertical-align: top;\n",
       "    }\n",
       "\n",
       "    .dataframe thead th {\n",
       "        text-align: right;\n",
       "    }\n",
       "</style>\n",
       "<table border=\"1\" class=\"dataframe\">\n",
       "  <thead>\n",
       "    <tr style=\"text-align: right;\">\n",
       "      <th></th>\n",
       "      <th>orderid</th>\n",
       "      <th>pick</th>\n",
       "      <th>1st_deliver_attempt</th>\n",
       "      <th>2nd_deliver_attempt</th>\n",
       "      <th>buyeraddress</th>\n",
       "      <th>selleraddress</th>\n",
       "    </tr>\n",
       "  </thead>\n",
       "  <tbody>\n",
       "    <tr>\n",
       "      <th>0</th>\n",
       "      <td>2215676524</td>\n",
       "      <td>2020-03-02 08:39:57</td>\n",
       "      <td>1.583385e+09</td>\n",
       "      <td>NaN</td>\n",
       "      <td>Metro Manila</td>\n",
       "      <td>Metro Manila</td>\n",
       "    </tr>\n",
       "    <tr>\n",
       "      <th>1</th>\n",
       "      <td>2219624609</td>\n",
       "      <td>2020-03-04 08:19:28</td>\n",
       "      <td>1.583463e+09</td>\n",
       "      <td>1.583799e+09</td>\n",
       "      <td>Metro Manila</td>\n",
       "      <td>Metro Manila</td>\n",
       "    </tr>\n",
       "    <tr>\n",
       "      <th>2</th>\n",
       "      <td>2220979489</td>\n",
       "      <td>2020-03-04 07:20:34</td>\n",
       "      <td>1.583460e+09</td>\n",
       "      <td>NaN</td>\n",
       "      <td>Metro Manila</td>\n",
       "      <td>Metro Manila</td>\n",
       "    </tr>\n",
       "    <tr>\n",
       "      <th>3</th>\n",
       "      <td>2221066352</td>\n",
       "      <td>2020-03-05 14:36:56</td>\n",
       "      <td>1.583556e+09</td>\n",
       "      <td>NaN</td>\n",
       "      <td>Metro Manila</td>\n",
       "      <td>Metro Manila</td>\n",
       "    </tr>\n",
       "    <tr>\n",
       "      <th>4</th>\n",
       "      <td>2222478803</td>\n",
       "      <td>2020-03-04 10:38:25</td>\n",
       "      <td>1.583480e+09</td>\n",
       "      <td>NaN</td>\n",
       "      <td>Luzon</td>\n",
       "      <td>Metro Manila</td>\n",
       "    </tr>\n",
       "  </tbody>\n",
       "</table>\n",
       "</div>"
      ],
      "text/plain": [
       "      orderid                pick  1st_deliver_attempt  2nd_deliver_attempt  \\\n",
       "0  2215676524 2020-03-02 08:39:57         1.583385e+09                  NaN   \n",
       "1  2219624609 2020-03-04 08:19:28         1.583463e+09         1.583799e+09   \n",
       "2  2220979489 2020-03-04 07:20:34         1.583460e+09                  NaN   \n",
       "3  2221066352 2020-03-05 14:36:56         1.583556e+09                  NaN   \n",
       "4  2222478803 2020-03-04 10:38:25         1.583480e+09                  NaN   \n",
       "\n",
       "   buyeraddress selleraddress  \n",
       "0  Metro Manila  Metro Manila  \n",
       "1  Metro Manila  Metro Manila  \n",
       "2  Metro Manila  Metro Manila  \n",
       "3  Metro Manila  Metro Manila  \n",
       "4         Luzon  Metro Manila  "
      ]
     },
     "execution_count": 14,
     "metadata": {},
     "output_type": "execute_result"
    }
   ],
   "source": [
    "temp['pick'] = temp.pick.apply(lambda x: pd.to_datetime(x, unit='s'))\n",
    "temp.head()"
   ]
  },
  {
   "cell_type": "code",
   "execution_count": 15,
   "metadata": {},
   "outputs": [],
   "source": [
    "attemp1 = temp['1st_deliver_attempt']\n",
    "attemp2 = temp['2nd_deliver_attempt']"
   ]
  },
  {
   "cell_type": "code",
   "execution_count": 16,
   "metadata": {},
   "outputs": [],
   "source": [
    "attemp1 = pd.to_datetime(attemp1, unit='s')\n",
    "attemp2 = pd.to_datetime(attemp2, unit='s')"
   ]
  },
  {
   "cell_type": "code",
   "execution_count": 18,
   "metadata": {},
   "outputs": [
    {
     "data": {
      "text/html": [
       "<div>\n",
       "<style scoped>\n",
       "    .dataframe tbody tr th:only-of-type {\n",
       "        vertical-align: middle;\n",
       "    }\n",
       "\n",
       "    .dataframe tbody tr th {\n",
       "        vertical-align: top;\n",
       "    }\n",
       "\n",
       "    .dataframe thead th {\n",
       "        text-align: right;\n",
       "    }\n",
       "</style>\n",
       "<table border=\"1\" class=\"dataframe\">\n",
       "  <thead>\n",
       "    <tr style=\"text-align: right;\">\n",
       "      <th></th>\n",
       "      <th>orderid</th>\n",
       "      <th>pick</th>\n",
       "      <th>1st_deliver_attempt</th>\n",
       "      <th>2nd_deliver_attempt</th>\n",
       "      <th>buyeraddress</th>\n",
       "      <th>selleraddress</th>\n",
       "    </tr>\n",
       "  </thead>\n",
       "  <tbody>\n",
       "    <tr>\n",
       "      <th>0</th>\n",
       "      <td>2215676524</td>\n",
       "      <td>2020-03-02 08:39:57</td>\n",
       "      <td>2020-03-05 05:09:18</td>\n",
       "      <td>NaT</td>\n",
       "      <td>Metro Manila</td>\n",
       "      <td>Metro Manila</td>\n",
       "    </tr>\n",
       "    <tr>\n",
       "      <th>1</th>\n",
       "      <td>2219624609</td>\n",
       "      <td>2020-03-04 08:19:28</td>\n",
       "      <td>2020-03-06 02:53:56</td>\n",
       "      <td>2020-03-10 00:02:56</td>\n",
       "      <td>Metro Manila</td>\n",
       "      <td>Metro Manila</td>\n",
       "    </tr>\n",
       "    <tr>\n",
       "      <th>2</th>\n",
       "      <td>2220979489</td>\n",
       "      <td>2020-03-04 07:20:34</td>\n",
       "      <td>2020-03-06 01:56:19</td>\n",
       "      <td>NaT</td>\n",
       "      <td>Metro Manila</td>\n",
       "      <td>Metro Manila</td>\n",
       "    </tr>\n",
       "    <tr>\n",
       "      <th>3</th>\n",
       "      <td>2221066352</td>\n",
       "      <td>2020-03-05 14:36:56</td>\n",
       "      <td>2020-03-07 04:45:41</td>\n",
       "      <td>NaT</td>\n",
       "      <td>Metro Manila</td>\n",
       "      <td>Metro Manila</td>\n",
       "    </tr>\n",
       "    <tr>\n",
       "      <th>4</th>\n",
       "      <td>2222478803</td>\n",
       "      <td>2020-03-04 10:38:25</td>\n",
       "      <td>2020-03-06 07:41:40</td>\n",
       "      <td>NaT</td>\n",
       "      <td>Luzon</td>\n",
       "      <td>Metro Manila</td>\n",
       "    </tr>\n",
       "  </tbody>\n",
       "</table>\n",
       "</div>"
      ],
      "text/plain": [
       "      orderid                pick 1st_deliver_attempt 2nd_deliver_attempt  \\\n",
       "0  2215676524 2020-03-02 08:39:57 2020-03-05 05:09:18                 NaT   \n",
       "1  2219624609 2020-03-04 08:19:28 2020-03-06 02:53:56 2020-03-10 00:02:56   \n",
       "2  2220979489 2020-03-04 07:20:34 2020-03-06 01:56:19                 NaT   \n",
       "3  2221066352 2020-03-05 14:36:56 2020-03-07 04:45:41                 NaT   \n",
       "4  2222478803 2020-03-04 10:38:25 2020-03-06 07:41:40                 NaT   \n",
       "\n",
       "   buyeraddress selleraddress  \n",
       "0  Metro Manila  Metro Manila  \n",
       "1  Metro Manila  Metro Manila  \n",
       "2  Metro Manila  Metro Manila  \n",
       "3  Metro Manila  Metro Manila  \n",
       "4         Luzon  Metro Manila  "
      ]
     },
     "execution_count": 18,
     "metadata": {},
     "output_type": "execute_result"
    }
   ],
   "source": [
    "temp['1st_deliver_attempt'] = attemp1\n",
    "temp['2nd_deliver_attempt'] = attemp2\n",
    "temp.head()"
   ]
  },
  {
   "cell_type": "code",
   "execution_count": 21,
   "metadata": {},
   "outputs": [],
   "source": [
    "temp.to_csv('logistic.csv', index=False)"
   ]
  },
  {
   "cell_type": "code",
   "execution_count": 22,
   "metadata": {},
   "outputs": [],
   "source": [
    "def least_days(buy, sell):\n",
    "    return SLA.loc[buy, sell]\n",
    "\n",
    "def is_late(pick, first, second, buy, sell):\n",
    "    if second == np.nan:\n",
    "        count = 0\n",
    "        for hol in holiday:\n",
    "            if pick <= hol and hol <= first:\n",
    "                count+=1\n",
    "        if first.day - pick.day - count <= least_days(buy, sell):\n",
    "            return 0\n",
    "        else:\n",
    "            return 1\n",
    "    else:\n",
    "        if second.day - first.day > 3:\n",
    "            return 1\n",
    "        else:\n",
    "            count = 0\n",
    "            for hol in holiday:\n",
    "                if pick <= hol and hol <= second:\n",
    "                    count+=1\n",
    "            if second.day - pick.day - count <= least_days(buy, sell):\n",
    "                return 0\n",
    "            else:\n",
    "                return 1"
   ]
  },
  {
   "cell_type": "code",
   "execution_count": 37,
   "metadata": {},
   "outputs": [],
   "source": [
    "pick_arr = temp['pick']\n",
    "attemp1 = temp['1st_deliver_attempt']\n",
    "attemp2 = temp['2nd_deliver_attempt']\n",
    "buyeraddr = temp['buyeraddress']\n",
    "selleraddr = temp['selleraddress']"
   ]
  },
  {
   "cell_type": "code",
   "execution_count": 47,
   "metadata": {},
   "outputs": [
    {
     "ename": "TypeError",
     "evalue": "'list' object is not callable",
     "output_type": "error",
     "traceback": [
      "\u001b[1;31m---------------------------------------------------------------------------\u001b[0m",
      "\u001b[1;31mTypeError\u001b[0m                                 Traceback (most recent call last)",
      "\u001b[1;32m<ipython-input-47-84b39b2d4546>\u001b[0m in \u001b[0;36m<module>\u001b[1;34m\u001b[0m\n\u001b[1;32m----> 1\u001b[1;33m \u001b[0mis_late_arr\u001b[0m \u001b[1;33m=\u001b[0m \u001b[1;33m[\u001b[0m\u001b[0mis_late\u001b[0m\u001b[1;33m(\u001b[0m\u001b[0mpick_arr\u001b[0m\u001b[1;33m[\u001b[0m\u001b[0mi\u001b[0m\u001b[1;33m]\u001b[0m\u001b[1;33m,\u001b[0m \u001b[0mattemp1\u001b[0m\u001b[1;33m[\u001b[0m\u001b[0mi\u001b[0m\u001b[1;33m]\u001b[0m\u001b[1;33m,\u001b[0m \u001b[0mattemp2\u001b[0m\u001b[1;33m[\u001b[0m\u001b[0mi\u001b[0m\u001b[1;33m]\u001b[0m\u001b[1;33m,\u001b[0m \u001b[0mbuyeraddr\u001b[0m\u001b[1;33m[\u001b[0m\u001b[0mi\u001b[0m\u001b[1;33m]\u001b[0m\u001b[1;33m,\u001b[0m \u001b[0mselleraddr\u001b[0m\u001b[1;33m[\u001b[0m\u001b[0mi\u001b[0m\u001b[1;33m]\u001b[0m\u001b[1;33m)\u001b[0m \u001b[1;32mfor\u001b[0m \u001b[0mi\u001b[0m \u001b[1;32min\u001b[0m \u001b[0mrange\u001b[0m\u001b[1;33m(\u001b[0m\u001b[0mpick_arr\u001b[0m\u001b[1;33m.\u001b[0m\u001b[0mcount\u001b[0m\u001b[1;33m(\u001b[0m\u001b[1;33m)\u001b[0m\u001b[1;33m)\u001b[0m\u001b[1;33m]\u001b[0m\u001b[1;33m\u001b[0m\u001b[1;33m\u001b[0m\u001b[0m\n\u001b[0m\u001b[0;32m      2\u001b[0m \u001b[0mis_late_arr\u001b[0m\u001b[1;33m\u001b[0m\u001b[1;33m\u001b[0m\u001b[0m\n",
      "\u001b[1;32m<ipython-input-47-84b39b2d4546>\u001b[0m in \u001b[0;36m<listcomp>\u001b[1;34m(.0)\u001b[0m\n\u001b[1;32m----> 1\u001b[1;33m \u001b[0mis_late_arr\u001b[0m \u001b[1;33m=\u001b[0m \u001b[1;33m[\u001b[0m\u001b[0mis_late\u001b[0m\u001b[1;33m(\u001b[0m\u001b[0mpick_arr\u001b[0m\u001b[1;33m[\u001b[0m\u001b[0mi\u001b[0m\u001b[1;33m]\u001b[0m\u001b[1;33m,\u001b[0m \u001b[0mattemp1\u001b[0m\u001b[1;33m[\u001b[0m\u001b[0mi\u001b[0m\u001b[1;33m]\u001b[0m\u001b[1;33m,\u001b[0m \u001b[0mattemp2\u001b[0m\u001b[1;33m[\u001b[0m\u001b[0mi\u001b[0m\u001b[1;33m]\u001b[0m\u001b[1;33m,\u001b[0m \u001b[0mbuyeraddr\u001b[0m\u001b[1;33m[\u001b[0m\u001b[0mi\u001b[0m\u001b[1;33m]\u001b[0m\u001b[1;33m,\u001b[0m \u001b[0mselleraddr\u001b[0m\u001b[1;33m[\u001b[0m\u001b[0mi\u001b[0m\u001b[1;33m]\u001b[0m\u001b[1;33m)\u001b[0m \u001b[1;32mfor\u001b[0m \u001b[0mi\u001b[0m \u001b[1;32min\u001b[0m \u001b[0mrange\u001b[0m\u001b[1;33m(\u001b[0m\u001b[0mpick_arr\u001b[0m\u001b[1;33m.\u001b[0m\u001b[0mcount\u001b[0m\u001b[1;33m(\u001b[0m\u001b[1;33m)\u001b[0m\u001b[1;33m)\u001b[0m\u001b[1;33m]\u001b[0m\u001b[1;33m\u001b[0m\u001b[1;33m\u001b[0m\u001b[0m\n\u001b[0m\u001b[0;32m      2\u001b[0m \u001b[0mis_late_arr\u001b[0m\u001b[1;33m\u001b[0m\u001b[1;33m\u001b[0m\u001b[0m\n",
      "\u001b[1;31mTypeError\u001b[0m: 'list' object is not callable"
     ]
    }
   ],
   "source": [
    "is_late_arr = [is_late(pick_arr[i], attemp1[i], attemp2[i], buyeraddr[i], selleraddr[i]) for i in range(pick_arr.)]\n",
    "is_late_arr"
   ]
  },
  {
   "cell_type": "code",
   "execution_count": 29,
   "metadata": {},
   "outputs": [
    {
     "data": {
      "text/html": [
       "<div>\n",
       "<style scoped>\n",
       "    .dataframe tbody tr th:only-of-type {\n",
       "        vertical-align: middle;\n",
       "    }\n",
       "\n",
       "    .dataframe tbody tr th {\n",
       "        vertical-align: top;\n",
       "    }\n",
       "\n",
       "    .dataframe thead th {\n",
       "        text-align: right;\n",
       "    }\n",
       "</style>\n",
       "<table border=\"1\" class=\"dataframe\">\n",
       "  <thead>\n",
       "    <tr style=\"text-align: right;\">\n",
       "      <th></th>\n",
       "      <th>orderid</th>\n",
       "      <th>pick</th>\n",
       "      <th>1st_deliver_attempt</th>\n",
       "      <th>2nd_deliver_attempt</th>\n",
       "      <th>buyeraddress</th>\n",
       "      <th>selleraddress</th>\n",
       "      <th>date_diff_0</th>\n",
       "      <th>date_diff_1</th>\n",
       "    </tr>\n",
       "  </thead>\n",
       "  <tbody>\n",
       "    <tr>\n",
       "      <th>0</th>\n",
       "      <td>2215676524</td>\n",
       "      <td>2020-03-02 08:39:57</td>\n",
       "      <td>2020-03-05 05:09:18</td>\n",
       "      <td>NaT</td>\n",
       "      <td>Metro Manila</td>\n",
       "      <td>Metro Manila</td>\n",
       "      <td>2 days 20:29:21</td>\n",
       "      <td>NaT</td>\n",
       "    </tr>\n",
       "    <tr>\n",
       "      <th>1</th>\n",
       "      <td>2219624609</td>\n",
       "      <td>2020-03-04 08:19:28</td>\n",
       "      <td>2020-03-06 02:53:56</td>\n",
       "      <td>2020-03-10 00:02:56</td>\n",
       "      <td>Metro Manila</td>\n",
       "      <td>Metro Manila</td>\n",
       "      <td>1 days 18:34:28</td>\n",
       "      <td>3 days 21:09:00</td>\n",
       "    </tr>\n",
       "    <tr>\n",
       "      <th>2</th>\n",
       "      <td>2220979489</td>\n",
       "      <td>2020-03-04 07:20:34</td>\n",
       "      <td>2020-03-06 01:56:19</td>\n",
       "      <td>NaT</td>\n",
       "      <td>Metro Manila</td>\n",
       "      <td>Metro Manila</td>\n",
       "      <td>1 days 18:35:45</td>\n",
       "      <td>NaT</td>\n",
       "    </tr>\n",
       "    <tr>\n",
       "      <th>3</th>\n",
       "      <td>2221066352</td>\n",
       "      <td>2020-03-05 14:36:56</td>\n",
       "      <td>2020-03-07 04:45:41</td>\n",
       "      <td>NaT</td>\n",
       "      <td>Metro Manila</td>\n",
       "      <td>Metro Manila</td>\n",
       "      <td>1 days 14:08:45</td>\n",
       "      <td>NaT</td>\n",
       "    </tr>\n",
       "    <tr>\n",
       "      <th>4</th>\n",
       "      <td>2222478803</td>\n",
       "      <td>2020-03-04 10:38:25</td>\n",
       "      <td>2020-03-06 07:41:40</td>\n",
       "      <td>NaT</td>\n",
       "      <td>Luzon</td>\n",
       "      <td>Metro Manila</td>\n",
       "      <td>1 days 21:03:15</td>\n",
       "      <td>NaT</td>\n",
       "    </tr>\n",
       "  </tbody>\n",
       "</table>\n",
       "</div>"
      ],
      "text/plain": [
       "      orderid                pick 1st_deliver_attempt 2nd_deliver_attempt  \\\n",
       "0  2215676524 2020-03-02 08:39:57 2020-03-05 05:09:18                 NaT   \n",
       "1  2219624609 2020-03-04 08:19:28 2020-03-06 02:53:56 2020-03-10 00:02:56   \n",
       "2  2220979489 2020-03-04 07:20:34 2020-03-06 01:56:19                 NaT   \n",
       "3  2221066352 2020-03-05 14:36:56 2020-03-07 04:45:41                 NaT   \n",
       "4  2222478803 2020-03-04 10:38:25 2020-03-06 07:41:40                 NaT   \n",
       "\n",
       "   buyeraddress selleraddress     date_diff_0     date_diff_1  \n",
       "0  Metro Manila  Metro Manila 2 days 20:29:21             NaT  \n",
       "1  Metro Manila  Metro Manila 1 days 18:34:28 3 days 21:09:00  \n",
       "2  Metro Manila  Metro Manila 1 days 18:35:45             NaT  \n",
       "3  Metro Manila  Metro Manila 1 days 14:08:45             NaT  \n",
       "4         Luzon  Metro Manila 1 days 21:03:15             NaT  "
      ]
     },
     "execution_count": 29,
     "metadata": {},
     "output_type": "execute_result"
    }
   ],
   "source": [
    "temp['date_diff_0'] = attemp1 - pick_arr\n",
    "temp['date_diff_1'] = attemp2 - attemp1\n",
    "temp.head()"
   ]
  },
  {
   "cell_type": "code",
   "execution_count": 30,
   "metadata": {},
   "outputs": [],
   "source": [
    "order_ids = []\n",
    "is_late = []"
   ]
  },
  {
   "cell_type": "code",
   "execution_count": 44,
   "metadata": {},
   "outputs": [
    {
     "data": {
      "text/plain": [
       "pandas._libs.tslibs.timestamps.Timestamp"
      ]
     },
     "execution_count": 44,
     "metadata": {},
     "output_type": "execute_result"
    }
   ],
   "source": [
    "type(temp.pick[1])"
   ]
  }
 ],
 "metadata": {
  "kernelspec": {
   "display_name": "Python 3",
   "language": "python",
   "name": "python3"
  },
  "language_info": {
   "codemirror_mode": {
    "name": "ipython",
    "version": 3
   },
   "file_extension": ".py",
   "mimetype": "text/x-python",
   "name": "python",
   "nbconvert_exporter": "python",
   "pygments_lexer": "ipython3",
   "version": "3.7.7"
  }
 },
 "nbformat": 4,
 "nbformat_minor": 4
}
