{
 "cells": [
  {
   "cell_type": "markdown",
   "metadata": {},
   "source": [
    "# Data Analysis by sklearn"
   ]
  },
  {
   "cell_type": "markdown",
   "metadata": {},
   "source": [
    "## Import packages"
   ]
  },
  {
   "cell_type": "code",
   "execution_count": 18,
   "metadata": {},
   "outputs": [],
   "source": [
    "import os\n",
    "import re\n",
    "from tqdm import tqdm\n",
    "\n",
    "import numpy as np\n",
    "import pandas as pd\n",
    "\n",
    "from sklearn.model_selection import train_test_split\n",
    "from sklearn.neighbors import KNeighborsClassifier"
   ]
  },
  {
   "cell_type": "markdown",
   "metadata": {},
   "source": [
    "## Read Data"
   ]
  },
  {
   "cell_type": "code",
   "execution_count": 2,
   "metadata": {},
   "outputs": [],
   "source": [
    "src = 'data/train.csv'"
   ]
  },
  {
   "cell_type": "code",
   "execution_count": 3,
   "metadata": {
    "scrolled": false
   },
   "outputs": [
    {
     "data": {
      "text/html": [
       "<div>\n",
       "<style scoped>\n",
       "    .dataframe tbody tr th:only-of-type {\n",
       "        vertical-align: middle;\n",
       "    }\n",
       "\n",
       "    .dataframe tbody tr th {\n",
       "        vertical-align: top;\n",
       "    }\n",
       "\n",
       "    .dataframe thead th {\n",
       "        text-align: right;\n",
       "    }\n",
       "</style>\n",
       "<table border=\"1\" class=\"dataframe\">\n",
       "  <thead>\n",
       "    <tr style=\"text-align: right;\">\n",
       "      <th></th>\n",
       "      <th>country_code</th>\n",
       "      <th>grass_date</th>\n",
       "      <th>user_id</th>\n",
       "      <th>subject_line_length</th>\n",
       "      <th>last_open_day</th>\n",
       "      <th>last_login_day</th>\n",
       "      <th>last_checkout_day</th>\n",
       "      <th>open_count_last_10_days</th>\n",
       "      <th>open_count_last_30_days</th>\n",
       "      <th>open_count_last_60_days</th>\n",
       "      <th>login_count_last_10_days</th>\n",
       "      <th>login_count_last_30_days</th>\n",
       "      <th>login_count_last_60_days</th>\n",
       "      <th>checkout_count_last_10_days</th>\n",
       "      <th>checkout_count_last_30_days</th>\n",
       "      <th>checkout_count_last_60_days</th>\n",
       "      <th>open_flag</th>\n",
       "      <th>row_id</th>\n",
       "    </tr>\n",
       "  </thead>\n",
       "  <tbody>\n",
       "    <tr>\n",
       "      <th>27150</th>\n",
       "      <td>2</td>\n",
       "      <td>2019-08-04 00:00:00+08:00</td>\n",
       "      <td>63895</td>\n",
       "      <td>36</td>\n",
       "      <td>7</td>\n",
       "      <td>22</td>\n",
       "      <td>37</td>\n",
       "      <td>3</td>\n",
       "      <td>4</td>\n",
       "      <td>6</td>\n",
       "      <td>7</td>\n",
       "      <td>17</td>\n",
       "      <td>53</td>\n",
       "      <td>0</td>\n",
       "      <td>0</td>\n",
       "      <td>8</td>\n",
       "      <td>0</td>\n",
       "      <td>27150</td>\n",
       "    </tr>\n",
       "    <tr>\n",
       "      <th>40977</th>\n",
       "      <td>7</td>\n",
       "      <td>2019-08-13 00:00:00+08:00</td>\n",
       "      <td>50456</td>\n",
       "      <td>66</td>\n",
       "      <td>Never open</td>\n",
       "      <td>5</td>\n",
       "      <td>14</td>\n",
       "      <td>0</td>\n",
       "      <td>0</td>\n",
       "      <td>0</td>\n",
       "      <td>2</td>\n",
       "      <td>8</td>\n",
       "      <td>22</td>\n",
       "      <td>0</td>\n",
       "      <td>2</td>\n",
       "      <td>2</td>\n",
       "      <td>0</td>\n",
       "      <td>40977</td>\n",
       "    </tr>\n",
       "    <tr>\n",
       "      <th>21249</th>\n",
       "      <td>5</td>\n",
       "      <td>2019-07-30 00:00:00+08:00</td>\n",
       "      <td>23218</td>\n",
       "      <td>38</td>\n",
       "      <td>1</td>\n",
       "      <td>10</td>\n",
       "      <td>29</td>\n",
       "      <td>1</td>\n",
       "      <td>1</td>\n",
       "      <td>1</td>\n",
       "      <td>22</td>\n",
       "      <td>70</td>\n",
       "      <td>130</td>\n",
       "      <td>0</td>\n",
       "      <td>1</td>\n",
       "      <td>3</td>\n",
       "      <td>0</td>\n",
       "      <td>21249</td>\n",
       "    </tr>\n",
       "    <tr>\n",
       "      <th>70245</th>\n",
       "      <td>1</td>\n",
       "      <td>2019-09-02 00:00:00+08:00</td>\n",
       "      <td>14628</td>\n",
       "      <td>33</td>\n",
       "      <td>55</td>\n",
       "      <td>3</td>\n",
       "      <td>5</td>\n",
       "      <td>0</td>\n",
       "      <td>0</td>\n",
       "      <td>1</td>\n",
       "      <td>15</td>\n",
       "      <td>48</td>\n",
       "      <td>110</td>\n",
       "      <td>2</td>\n",
       "      <td>5</td>\n",
       "      <td>15</td>\n",
       "      <td>0</td>\n",
       "      <td>70245</td>\n",
       "    </tr>\n",
       "    <tr>\n",
       "      <th>29344</th>\n",
       "      <td>1</td>\n",
       "      <td>2019-08-05 00:00:00+08:00</td>\n",
       "      <td>81503</td>\n",
       "      <td>55</td>\n",
       "      <td>116</td>\n",
       "      <td>1</td>\n",
       "      <td>Never checkout</td>\n",
       "      <td>0</td>\n",
       "      <td>0</td>\n",
       "      <td>0</td>\n",
       "      <td>1</td>\n",
       "      <td>2</td>\n",
       "      <td>7</td>\n",
       "      <td>0</td>\n",
       "      <td>0</td>\n",
       "      <td>0</td>\n",
       "      <td>0</td>\n",
       "      <td>29344</td>\n",
       "    </tr>\n",
       "    <tr>\n",
       "      <th>7831</th>\n",
       "      <td>2</td>\n",
       "      <td>2019-07-21 00:00:00+08:00</td>\n",
       "      <td>100607</td>\n",
       "      <td>43</td>\n",
       "      <td>20</td>\n",
       "      <td>18</td>\n",
       "      <td>Never checkout</td>\n",
       "      <td>0</td>\n",
       "      <td>1</td>\n",
       "      <td>7</td>\n",
       "      <td>1</td>\n",
       "      <td>3</td>\n",
       "      <td>5</td>\n",
       "      <td>0</td>\n",
       "      <td>0</td>\n",
       "      <td>0</td>\n",
       "      <td>0</td>\n",
       "      <td>7831</td>\n",
       "    </tr>\n",
       "    <tr>\n",
       "      <th>26855</th>\n",
       "      <td>7</td>\n",
       "      <td>2019-08-04 00:00:00+08:00</td>\n",
       "      <td>31059</td>\n",
       "      <td>34</td>\n",
       "      <td>3</td>\n",
       "      <td>1</td>\n",
       "      <td>6</td>\n",
       "      <td>3</td>\n",
       "      <td>5</td>\n",
       "      <td>8</td>\n",
       "      <td>12</td>\n",
       "      <td>47</td>\n",
       "      <td>101</td>\n",
       "      <td>2</td>\n",
       "      <td>13</td>\n",
       "      <td>23</td>\n",
       "      <td>1</td>\n",
       "      <td>26855</td>\n",
       "    </tr>\n",
       "    <tr>\n",
       "      <th>9094</th>\n",
       "      <td>3</td>\n",
       "      <td>2019-07-22 00:00:00+08:00</td>\n",
       "      <td>74779</td>\n",
       "      <td>59</td>\n",
       "      <td>3</td>\n",
       "      <td>24</td>\n",
       "      <td>62</td>\n",
       "      <td>1</td>\n",
       "      <td>7</td>\n",
       "      <td>7</td>\n",
       "      <td>1</td>\n",
       "      <td>2</td>\n",
       "      <td>16</td>\n",
       "      <td>0</td>\n",
       "      <td>0</td>\n",
       "      <td>0</td>\n",
       "      <td>1</td>\n",
       "      <td>9094</td>\n",
       "    </tr>\n",
       "    <tr>\n",
       "      <th>51300</th>\n",
       "      <td>2</td>\n",
       "      <td>2019-08-19 00:00:00+08:00</td>\n",
       "      <td>83290</td>\n",
       "      <td>56</td>\n",
       "      <td>45</td>\n",
       "      <td>282</td>\n",
       "      <td>Never checkout</td>\n",
       "      <td>0</td>\n",
       "      <td>0</td>\n",
       "      <td>2</td>\n",
       "      <td>0</td>\n",
       "      <td>0</td>\n",
       "      <td>0</td>\n",
       "      <td>0</td>\n",
       "      <td>0</td>\n",
       "      <td>0</td>\n",
       "      <td>0</td>\n",
       "      <td>51300</td>\n",
       "    </tr>\n",
       "    <tr>\n",
       "      <th>46578</th>\n",
       "      <td>1</td>\n",
       "      <td>2019-08-16 00:00:00+08:00</td>\n",
       "      <td>98453</td>\n",
       "      <td>47</td>\n",
       "      <td>37</td>\n",
       "      <td>7</td>\n",
       "      <td>92</td>\n",
       "      <td>1</td>\n",
       "      <td>1</td>\n",
       "      <td>2</td>\n",
       "      <td>3</td>\n",
       "      <td>17</td>\n",
       "      <td>71</td>\n",
       "      <td>1</td>\n",
       "      <td>1</td>\n",
       "      <td>1</td>\n",
       "      <td>0</td>\n",
       "      <td>46578</td>\n",
       "    </tr>\n",
       "  </tbody>\n",
       "</table>\n",
       "</div>"
      ],
      "text/plain": [
       "       country_code                 grass_date  user_id  subject_line_length  \\\n",
       "27150             2  2019-08-04 00:00:00+08:00    63895                   36   \n",
       "40977             7  2019-08-13 00:00:00+08:00    50456                   66   \n",
       "21249             5  2019-07-30 00:00:00+08:00    23218                   38   \n",
       "70245             1  2019-09-02 00:00:00+08:00    14628                   33   \n",
       "29344             1  2019-08-05 00:00:00+08:00    81503                   55   \n",
       "7831              2  2019-07-21 00:00:00+08:00   100607                   43   \n",
       "26855             7  2019-08-04 00:00:00+08:00    31059                   34   \n",
       "9094              3  2019-07-22 00:00:00+08:00    74779                   59   \n",
       "51300             2  2019-08-19 00:00:00+08:00    83290                   56   \n",
       "46578             1  2019-08-16 00:00:00+08:00    98453                   47   \n",
       "\n",
       "      last_open_day last_login_day last_checkout_day  open_count_last_10_days  \\\n",
       "27150             7             22                37                        3   \n",
       "40977    Never open              5                14                        0   \n",
       "21249             1             10                29                        1   \n",
       "70245            55              3                 5                        0   \n",
       "29344           116              1    Never checkout                        0   \n",
       "7831             20             18    Never checkout                        0   \n",
       "26855             3              1                 6                        3   \n",
       "9094              3             24                62                        1   \n",
       "51300            45            282    Never checkout                        0   \n",
       "46578            37              7                92                        1   \n",
       "\n",
       "       open_count_last_30_days  open_count_last_60_days  \\\n",
       "27150                        4                        6   \n",
       "40977                        0                        0   \n",
       "21249                        1                        1   \n",
       "70245                        0                        1   \n",
       "29344                        0                        0   \n",
       "7831                         1                        7   \n",
       "26855                        5                        8   \n",
       "9094                         7                        7   \n",
       "51300                        0                        2   \n",
       "46578                        1                        2   \n",
       "\n",
       "       login_count_last_10_days  login_count_last_30_days  \\\n",
       "27150                         7                        17   \n",
       "40977                         2                         8   \n",
       "21249                        22                        70   \n",
       "70245                        15                        48   \n",
       "29344                         1                         2   \n",
       "7831                          1                         3   \n",
       "26855                        12                        47   \n",
       "9094                          1                         2   \n",
       "51300                         0                         0   \n",
       "46578                         3                        17   \n",
       "\n",
       "       login_count_last_60_days  checkout_count_last_10_days  \\\n",
       "27150                        53                            0   \n",
       "40977                        22                            0   \n",
       "21249                       130                            0   \n",
       "70245                       110                            2   \n",
       "29344                         7                            0   \n",
       "7831                          5                            0   \n",
       "26855                       101                            2   \n",
       "9094                         16                            0   \n",
       "51300                         0                            0   \n",
       "46578                        71                            1   \n",
       "\n",
       "       checkout_count_last_30_days  checkout_count_last_60_days  open_flag  \\\n",
       "27150                            0                            8          0   \n",
       "40977                            2                            2          0   \n",
       "21249                            1                            3          0   \n",
       "70245                            5                           15          0   \n",
       "29344                            0                            0          0   \n",
       "7831                             0                            0          0   \n",
       "26855                           13                           23          1   \n",
       "9094                             0                            0          1   \n",
       "51300                            0                            0          0   \n",
       "46578                            1                            1          0   \n",
       "\n",
       "       row_id  \n",
       "27150   27150  \n",
       "40977   40977  \n",
       "21249   21249  \n",
       "70245   70245  \n",
       "29344   29344  \n",
       "7831     7831  \n",
       "26855   26855  \n",
       "9094     9094  \n",
       "51300   51300  \n",
       "46578   46578  "
      ]
     },
     "execution_count": 3,
     "metadata": {},
     "output_type": "execute_result"
    }
   ],
   "source": [
    "_train = pd.read_csv(src)\n",
    "_train.sample(10)"
   ]
  },
  {
   "cell_type": "code",
   "execution_count": 4,
   "metadata": {},
   "outputs": [],
   "source": [
    "train = _train.copy()"
   ]
  },
  {
   "cell_type": "markdown",
   "metadata": {},
   "source": [
    "## Transform data and labels into machine-recognizable data"
   ]
  },
  {
   "cell_type": "code",
   "execution_count": 5,
   "metadata": {},
   "outputs": [],
   "source": [
    "columns = list(train.drop(['user_id', 'open_flag', 'row_id'], axis=1, inplace=False).columns)"
   ]
  },
  {
   "cell_type": "code",
   "execution_count": 6,
   "metadata": {},
   "outputs": [],
   "source": [
    "train = train.replace('Never open', -1).replace('Never login', -1).replace('Never checkout', -1)"
   ]
  },
  {
   "cell_type": "code",
   "execution_count": 7,
   "metadata": {},
   "outputs": [],
   "source": [
    "def to_timestamp(datetime):\n",
    "    return datetime.timestamp()"
   ]
  },
  {
   "cell_type": "code",
   "execution_count": 8,
   "metadata": {
    "scrolled": true
   },
   "outputs": [
    {
     "data": {
      "text/plain": [
       "0        1.563206e+09\n",
       "1        1.563206e+09\n",
       "2        1.563206e+09\n",
       "3        1.563206e+09\n",
       "4        1.563206e+09\n",
       "             ...     \n",
       "73534    1.567354e+09\n",
       "73535    1.567354e+09\n",
       "73536    1.567354e+09\n",
       "73537    1.567354e+09\n",
       "73538    1.567354e+09\n",
       "Name: grass_date, Length: 73539, dtype: float64"
      ]
     },
     "execution_count": 8,
     "metadata": {},
     "output_type": "execute_result"
    }
   ],
   "source": [
    "# transform datetime to unit(s)\n",
    "train['grass_date'] = pd.to_datetime(train['grass_date'])\n",
    "train['grass_date'] = train['grass_date'].apply(to_timestamp)\n",
    "train['grass_date']"
   ]
  },
  {
   "cell_type": "code",
   "execution_count": 16,
   "metadata": {
    "scrolled": false
   },
   "outputs": [
    {
     "name": "stderr",
     "output_type": "stream",
     "text": [
      "100%|██████████| 73539/73539 [00:48<00:00, 1508.79it/s]"
     ]
    },
    {
     "name": "stdout",
     "output_type": "stream",
     "text": [
      "[[4, 1563206400.0, 44, '19', '6', '18', 0, 2, 4, 12, 43, 99, 0, 5, 10], [4, 1563206400.0, 44, '9', '4', '8', 2, 9, 17, 18, 48, 90, 1, 1, 4], [6, 1563206400.0, 49, '14', '5', '5', 0, 4, 12, 24, 69, 119, 5, 19, 27], [1, 1563206400.0, 49, '49', '9', '53', 0, 0, 1, 9, 23, 69, 1, 3, 6], [6, 1563206400.0, 49, '227', '6', '221', 0, 0, 0, 2, 5, 5, 0, 0, 0]]\n",
      "[0, 1, 0, 0, 0]\n"
     ]
    },
    {
     "name": "stderr",
     "output_type": "stream",
     "text": [
      "\n"
     ]
    }
   ],
   "source": [
    "_inputs = list(list(train.loc[i, columns]) for i in tqdm(range(len(train))))\n",
    "_labels = train['open_flag'].tolist()\n",
    "print(_inputs[:5])\n",
    "print(_labels[:5])"
   ]
  },
  {
   "cell_type": "code",
   "execution_count": 17,
   "metadata": {},
   "outputs": [],
   "source": [
    "inputs = np.asarray(_inputs, dtype='int32')\n",
    "labels = np.asarray(_labels, dtype='int32')"
   ]
  },
  {
   "cell_type": "markdown",
   "metadata": {},
   "source": [
    "## Split train-test data"
   ]
  },
  {
   "cell_type": "code",
   "execution_count": 19,
   "metadata": {
    "scrolled": true
   },
   "outputs": [
    {
     "name": "stdout",
     "output_type": "stream",
     "text": [
      "58831\n",
      "14708\n"
     ]
    }
   ],
   "source": [
    "x_train, x_test, y_train, y_test = train_test_split(inputs, labels, test_size=0.2)\n",
    "print(len(x_train))\n",
    "print(len(x_test))"
   ]
  },
  {
   "cell_type": "code",
   "execution_count": 20,
   "metadata": {},
   "outputs": [
    {
     "data": {
      "text/plain": [
       "KNeighborsClassifier()"
      ]
     },
     "execution_count": 20,
     "metadata": {},
     "output_type": "execute_result"
    }
   ],
   "source": [
    "knc = KNeighborsClassifier()\n",
    "knc.fit(x_train, y_train)"
   ]
  },
  {
   "cell_type": "code",
   "execution_count": 21,
   "metadata": {},
   "outputs": [
    {
     "data": {
      "text/plain": [
       "array([0, 0, 0, ..., 0, 0, 0])"
      ]
     },
     "execution_count": 21,
     "metadata": {},
     "output_type": "execute_result"
    }
   ],
   "source": [
    "knc.predict(x_test)"
   ]
  }
 ],
 "metadata": {
  "kernelspec": {
   "display_name": "Python 3",
   "language": "python",
   "name": "python3"
  },
  "language_info": {
   "codemirror_mode": {
    "name": "ipython",
    "version": 3
   },
   "file_extension": ".py",
   "mimetype": "text/x-python",
   "name": "python",
   "nbconvert_exporter": "python",
   "pygments_lexer": "ipython3",
   "version": "3.7.7"
  }
 },
 "nbformat": 4,
 "nbformat_minor": 4
}
