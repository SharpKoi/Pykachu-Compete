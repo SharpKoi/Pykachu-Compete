{
 "cells": [
  {
   "cell_type": "markdown",
   "metadata": {},
   "source": [
    "# Data Observation"
   ]
  },
  {
   "cell_type": "markdown",
   "metadata": {},
   "source": [
    "## Import packages"
   ]
  },
  {
   "cell_type": "code",
   "execution_count": 1,
   "metadata": {},
   "outputs": [],
   "source": [
    "import os\n",
    "import re\n",
    "\n",
    "from tqdm import tqdm\n",
    "\n",
    "import numpy as np\n",
    "import pandas as pd"
   ]
  },
  {
   "cell_type": "markdown",
   "metadata": {},
   "source": [
    "## Read data"
   ]
  },
  {
   "cell_type": "code",
   "execution_count": 2,
   "metadata": {},
   "outputs": [],
   "source": [
    "train = pd.read_csv('data/train.csv')\n",
    "test = pd.read_csv('data/test.csv')\n",
    "users = pd.read_csv('data/users.csv')"
   ]
  },
  {
   "cell_type": "markdown",
   "metadata": {},
   "source": [
    "## Data Description"
   ]
  },
  {
   "cell_type": "markdown",
   "metadata": {},
   "source": [
    "### Training Data & Testing Data\n",
    "  \n",
    "|Column Name                              |Column Description                                                        |\n",
    "|-----------------------------------------|--------------------------------------------------------------------------|\n",
    "|**country_code**                         |_An integer code for the country where the user lives_\n",
    "|**grass_date**                           |_The date when the email was sent_\n",
    "|**user_id**                              |_the unique identifier of each user_\n",
    "|**subject_line_length**                  |_the number of characters in the subject of the email_\n",
    "|**last_[open/login/checkout]_day**       |_the number of days since the previous email open, user login, or checkout_\n",
    "|**open_count_last_[10/30/60]_days**      |_the total number of email opens in the last N days_\n",
    "|**login_count_last_[10/30/60]_days**     |_the total number of user logins in the last N days_\n",
    "|**checkout_count_last_[10/30/60]_days**  |_the total number of checkouts by the user in the last N days_\n",
    "|**open_flag**                            |_the target variable. Whether or not the email was opened_\n",
    "|**row_id**                               |"
   ]
  },
  {
   "cell_type": "code",
   "execution_count": 3,
   "metadata": {
    "scrolled": true
   },
   "outputs": [
    {
     "data": {
      "text/html": [
       "<div>\n",
       "<style scoped>\n",
       "    .dataframe tbody tr th:only-of-type {\n",
       "        vertical-align: middle;\n",
       "    }\n",
       "\n",
       "    .dataframe tbody tr th {\n",
       "        vertical-align: top;\n",
       "    }\n",
       "\n",
       "    .dataframe thead th {\n",
       "        text-align: right;\n",
       "    }\n",
       "</style>\n",
       "<table border=\"1\" class=\"dataframe\">\n",
       "  <thead>\n",
       "    <tr style=\"text-align: right;\">\n",
       "      <th></th>\n",
       "      <th>country_code</th>\n",
       "      <th>grass_date</th>\n",
       "      <th>user_id</th>\n",
       "      <th>subject_line_length</th>\n",
       "      <th>last_open_day</th>\n",
       "      <th>last_login_day</th>\n",
       "      <th>last_checkout_day</th>\n",
       "      <th>open_count_last_10_days</th>\n",
       "      <th>open_count_last_30_days</th>\n",
       "      <th>open_count_last_60_days</th>\n",
       "      <th>login_count_last_10_days</th>\n",
       "      <th>login_count_last_30_days</th>\n",
       "      <th>login_count_last_60_days</th>\n",
       "      <th>checkout_count_last_10_days</th>\n",
       "      <th>checkout_count_last_30_days</th>\n",
       "      <th>checkout_count_last_60_days</th>\n",
       "      <th>open_flag</th>\n",
       "      <th>row_id</th>\n",
       "    </tr>\n",
       "  </thead>\n",
       "  <tbody>\n",
       "    <tr>\n",
       "      <th>0</th>\n",
       "      <td>4</td>\n",
       "      <td>2019-07-16 00:00:00+08:00</td>\n",
       "      <td>43</td>\n",
       "      <td>44</td>\n",
       "      <td>19</td>\n",
       "      <td>6</td>\n",
       "      <td>18</td>\n",
       "      <td>0</td>\n",
       "      <td>2</td>\n",
       "      <td>4</td>\n",
       "      <td>12</td>\n",
       "      <td>43</td>\n",
       "      <td>99</td>\n",
       "      <td>0</td>\n",
       "      <td>5</td>\n",
       "      <td>10</td>\n",
       "      <td>0</td>\n",
       "      <td>0</td>\n",
       "    </tr>\n",
       "    <tr>\n",
       "      <th>1</th>\n",
       "      <td>4</td>\n",
       "      <td>2019-07-16 00:00:00+08:00</td>\n",
       "      <td>102</td>\n",
       "      <td>44</td>\n",
       "      <td>9</td>\n",
       "      <td>4</td>\n",
       "      <td>8</td>\n",
       "      <td>2</td>\n",
       "      <td>9</td>\n",
       "      <td>17</td>\n",
       "      <td>18</td>\n",
       "      <td>48</td>\n",
       "      <td>90</td>\n",
       "      <td>1</td>\n",
       "      <td>1</td>\n",
       "      <td>4</td>\n",
       "      <td>1</td>\n",
       "      <td>1</td>\n",
       "    </tr>\n",
       "    <tr>\n",
       "      <th>2</th>\n",
       "      <td>6</td>\n",
       "      <td>2019-07-16 00:00:00+08:00</td>\n",
       "      <td>177</td>\n",
       "      <td>49</td>\n",
       "      <td>14</td>\n",
       "      <td>5</td>\n",
       "      <td>5</td>\n",
       "      <td>0</td>\n",
       "      <td>4</td>\n",
       "      <td>12</td>\n",
       "      <td>24</td>\n",
       "      <td>69</td>\n",
       "      <td>119</td>\n",
       "      <td>5</td>\n",
       "      <td>19</td>\n",
       "      <td>27</td>\n",
       "      <td>0</td>\n",
       "      <td>2</td>\n",
       "    </tr>\n",
       "    <tr>\n",
       "      <th>3</th>\n",
       "      <td>1</td>\n",
       "      <td>2019-07-16 00:00:00+08:00</td>\n",
       "      <td>184</td>\n",
       "      <td>49</td>\n",
       "      <td>49</td>\n",
       "      <td>9</td>\n",
       "      <td>53</td>\n",
       "      <td>0</td>\n",
       "      <td>0</td>\n",
       "      <td>1</td>\n",
       "      <td>9</td>\n",
       "      <td>23</td>\n",
       "      <td>69</td>\n",
       "      <td>1</td>\n",
       "      <td>3</td>\n",
       "      <td>6</td>\n",
       "      <td>0</td>\n",
       "      <td>3</td>\n",
       "    </tr>\n",
       "    <tr>\n",
       "      <th>4</th>\n",
       "      <td>6</td>\n",
       "      <td>2019-07-16 00:00:00+08:00</td>\n",
       "      <td>221</td>\n",
       "      <td>49</td>\n",
       "      <td>227</td>\n",
       "      <td>6</td>\n",
       "      <td>221</td>\n",
       "      <td>0</td>\n",
       "      <td>0</td>\n",
       "      <td>0</td>\n",
       "      <td>2</td>\n",
       "      <td>5</td>\n",
       "      <td>5</td>\n",
       "      <td>0</td>\n",
       "      <td>0</td>\n",
       "      <td>0</td>\n",
       "      <td>0</td>\n",
       "      <td>4</td>\n",
       "    </tr>\n",
       "  </tbody>\n",
       "</table>\n",
       "</div>"
      ],
      "text/plain": [
       "   country_code                 grass_date  user_id  subject_line_length  \\\n",
       "0             4  2019-07-16 00:00:00+08:00       43                   44   \n",
       "1             4  2019-07-16 00:00:00+08:00      102                   44   \n",
       "2             6  2019-07-16 00:00:00+08:00      177                   49   \n",
       "3             1  2019-07-16 00:00:00+08:00      184                   49   \n",
       "4             6  2019-07-16 00:00:00+08:00      221                   49   \n",
       "\n",
       "  last_open_day last_login_day last_checkout_day  open_count_last_10_days  \\\n",
       "0            19              6                18                        0   \n",
       "1             9              4                 8                        2   \n",
       "2            14              5                 5                        0   \n",
       "3            49              9                53                        0   \n",
       "4           227              6               221                        0   \n",
       "\n",
       "   open_count_last_30_days  open_count_last_60_days  login_count_last_10_days  \\\n",
       "0                        2                        4                        12   \n",
       "1                        9                       17                        18   \n",
       "2                        4                       12                        24   \n",
       "3                        0                        1                         9   \n",
       "4                        0                        0                         2   \n",
       "\n",
       "   login_count_last_30_days  login_count_last_60_days  \\\n",
       "0                        43                        99   \n",
       "1                        48                        90   \n",
       "2                        69                       119   \n",
       "3                        23                        69   \n",
       "4                         5                         5   \n",
       "\n",
       "   checkout_count_last_10_days  checkout_count_last_30_days  \\\n",
       "0                            0                            5   \n",
       "1                            1                            1   \n",
       "2                            5                           19   \n",
       "3                            1                            3   \n",
       "4                            0                            0   \n",
       "\n",
       "   checkout_count_last_60_days  open_flag  row_id  \n",
       "0                           10          0       0  \n",
       "1                            4          1       1  \n",
       "2                           27          0       2  \n",
       "3                            6          0       3  \n",
       "4                            0          0       4  "
      ]
     },
     "execution_count": 3,
     "metadata": {},
     "output_type": "execute_result"
    }
   ],
   "source": [
    "train.head()"
   ]
  },
  {
   "cell_type": "markdown",
   "metadata": {},
   "source": [
    "### Users Data\n",
    "\n",
    "|Column Name       |Column Description                                                                                  |\n",
    "|------------------|----------------------------------------------------------------------------------------------------|\n",
    "|**user_id**       |*the unique identifier of each user*\n",
    "|**attr_[1/2/3]**  |*general user attributes*\n",
    "|**age**           |*The user's reported age*\n",
    "|**domain**        |*The user's top-level email domain. Less common domains are bundled together under the label 'other'*"
   ]
  },
  {
   "cell_type": "code",
   "execution_count": 4,
   "metadata": {
    "scrolled": true
   },
   "outputs": [
    {
     "data": {
      "text/html": [
       "<div>\n",
       "<style scoped>\n",
       "    .dataframe tbody tr th:only-of-type {\n",
       "        vertical-align: middle;\n",
       "    }\n",
       "\n",
       "    .dataframe tbody tr th {\n",
       "        vertical-align: top;\n",
       "    }\n",
       "\n",
       "    .dataframe thead th {\n",
       "        text-align: right;\n",
       "    }\n",
       "</style>\n",
       "<table border=\"1\" class=\"dataframe\">\n",
       "  <thead>\n",
       "    <tr style=\"text-align: right;\">\n",
       "      <th></th>\n",
       "      <th>user_id</th>\n",
       "      <th>attr_1</th>\n",
       "      <th>attr_2</th>\n",
       "      <th>attr_3</th>\n",
       "      <th>age</th>\n",
       "      <th>domain</th>\n",
       "    </tr>\n",
       "  </thead>\n",
       "  <tbody>\n",
       "    <tr>\n",
       "      <th>0</th>\n",
       "      <td>0</td>\n",
       "      <td>NaN</td>\n",
       "      <td>1.0</td>\n",
       "      <td>0.0</td>\n",
       "      <td>NaN</td>\n",
       "      <td>@gmail.com</td>\n",
       "    </tr>\n",
       "    <tr>\n",
       "      <th>1</th>\n",
       "      <td>1</td>\n",
       "      <td>1.0</td>\n",
       "      <td>1.0</td>\n",
       "      <td>2.0</td>\n",
       "      <td>50.0</td>\n",
       "      <td>@gmail.com</td>\n",
       "    </tr>\n",
       "    <tr>\n",
       "      <th>2</th>\n",
       "      <td>2</td>\n",
       "      <td>NaN</td>\n",
       "      <td>1.0</td>\n",
       "      <td>0.0</td>\n",
       "      <td>NaN</td>\n",
       "      <td>other</td>\n",
       "    </tr>\n",
       "    <tr>\n",
       "      <th>3</th>\n",
       "      <td>3</td>\n",
       "      <td>NaN</td>\n",
       "      <td>1.0</td>\n",
       "      <td>0.0</td>\n",
       "      <td>NaN</td>\n",
       "      <td>@gmail.com</td>\n",
       "    </tr>\n",
       "    <tr>\n",
       "      <th>4</th>\n",
       "      <td>4</td>\n",
       "      <td>1.0</td>\n",
       "      <td>1.0</td>\n",
       "      <td>2.0</td>\n",
       "      <td>33.0</td>\n",
       "      <td>@gmail.com</td>\n",
       "    </tr>\n",
       "  </tbody>\n",
       "</table>\n",
       "</div>"
      ],
      "text/plain": [
       "   user_id  attr_1  attr_2  attr_3   age      domain\n",
       "0        0     NaN     1.0     0.0   NaN  @gmail.com\n",
       "1        1     1.0     1.0     2.0  50.0  @gmail.com\n",
       "2        2     NaN     1.0     0.0   NaN       other\n",
       "3        3     NaN     1.0     0.0   NaN  @gmail.com\n",
       "4        4     1.0     1.0     2.0  33.0  @gmail.com"
      ]
     },
     "execution_count": 4,
     "metadata": {},
     "output_type": "execute_result"
    }
   ],
   "source": [
    "users.head()"
   ]
  },
  {
   "cell_type": "markdown",
   "metadata": {},
   "source": [
    "## Observation"
   ]
  },
  {
   "cell_type": "code",
   "execution_count": 5,
   "metadata": {},
   "outputs": [
    {
     "data": {
      "text/plain": [
       "(73539, 18)"
      ]
     },
     "execution_count": 5,
     "metadata": {},
     "output_type": "execute_result"
    }
   ],
   "source": [
    "train.shape"
   ]
  },
  {
   "cell_type": "code",
   "execution_count": 6,
   "metadata": {},
   "outputs": [
    {
     "data": {
      "text/plain": [
       "18"
      ]
     },
     "execution_count": 6,
     "metadata": {},
     "output_type": "execute_result"
    }
   ],
   "source": [
    "columns = list(train.columns)\n",
    "len(columns)"
   ]
  },
  {
   "cell_type": "code",
   "execution_count": 7,
   "metadata": {},
   "outputs": [],
   "source": [
    "columns.remove('user_id')\n",
    "columns.remove('open_flag')\n",
    "columns.remove('row_id')"
   ]
  },
  {
   "cell_type": "code",
   "execution_count": 8,
   "metadata": {},
   "outputs": [
    {
     "data": {
      "text/plain": [
       "15"
      ]
     },
     "execution_count": 8,
     "metadata": {},
     "output_type": "execute_result"
    }
   ],
   "source": [
    "len(columns) # The input sequence length"
   ]
  },
  {
   "cell_type": "code",
   "execution_count": 9,
   "metadata": {
    "scrolled": true
   },
   "outputs": [
    {
     "data": {
      "text/plain": [
       "73539"
      ]
     },
     "execution_count": 9,
     "metadata": {},
     "output_type": "execute_result"
    }
   ],
   "source": [
    "# 全部都是 GMT+8\n",
    "len(train[train['grass_date'].str.contains('\\+08:00')])"
   ]
  },
  {
   "cell_type": "code",
   "execution_count": 19,
   "metadata": {},
   "outputs": [
    {
     "name": "stdout",
     "output_type": "stream",
     "text": [
      "Series([], Name: country_code, dtype: int64)\n",
      "\n",
      "\n",
      "Series([], Name: grass_date, dtype: object)\n",
      "\n",
      "\n",
      "Series([], Name: subject_line_length, dtype: int64)\n",
      "\n",
      "\n",
      "14       Never open\n",
      "23       Never open\n",
      "24       Never open\n",
      "71       Never open\n",
      "89       Never open\n",
      "            ...    \n",
      "73487    Never open\n",
      "73490    Never open\n",
      "73491    Never open\n",
      "73492    Never open\n",
      "73536    Never open\n",
      "Name: last_open_day, Length: 7518, dtype: object\n",
      "\n",
      "\n",
      "1739     Never login\n",
      "7022     Never login\n",
      "11759    Never login\n",
      "12159    Never login\n",
      "12170    Never login\n",
      "            ...     \n",
      "54478    Never login\n",
      "60991    Never login\n",
      "67568    Never login\n",
      "71812    Never login\n",
      "73536    Never login\n",
      "Name: last_login_day, Length: 279, dtype: object\n",
      "\n",
      "\n",
      "26       Never checkout\n",
      "62       Never checkout\n",
      "121      Never checkout\n",
      "127      Never checkout\n",
      "179      Never checkout\n",
      "              ...      \n",
      "73529    Never checkout\n",
      "73532    Never checkout\n",
      "73536    Never checkout\n",
      "73537    Never checkout\n",
      "73538    Never checkout\n",
      "Name: last_checkout_day, Length: 16905, dtype: object\n",
      "\n",
      "\n",
      "Series([], Name: open_count_last_10_days, dtype: int64)\n",
      "\n",
      "\n",
      "Series([], Name: open_count_last_30_days, dtype: int64)\n",
      "\n",
      "\n",
      "Series([], Name: open_count_last_60_days, dtype: int64)\n",
      "\n",
      "\n",
      "Series([], Name: login_count_last_10_days, dtype: int64)\n",
      "\n",
      "\n",
      "Series([], Name: login_count_last_30_days, dtype: int64)\n",
      "\n",
      "\n",
      "Series([], Name: login_count_last_60_days, dtype: int64)\n",
      "\n",
      "\n",
      "Series([], Name: checkout_count_last_10_days, dtype: int64)\n",
      "\n",
      "\n",
      "Series([], Name: checkout_count_last_30_days, dtype: int64)\n",
      "\n",
      "\n",
      "Series([], Name: checkout_count_last_60_days, dtype: int64)\n",
      "\n",
      "\n"
     ]
    }
   ],
   "source": [
    "for col in columns:\n",
    "    print(train[train[col].astype(str).str.contains('Never')][col])\n",
    "    print('\\n')"
   ]
  }
 ],
 "metadata": {
  "kernelspec": {
   "display_name": "Python 3",
   "language": "python",
   "name": "python3"
  },
  "language_info": {
   "codemirror_mode": {
    "name": "ipython",
    "version": 3
   },
   "file_extension": ".py",
   "mimetype": "text/x-python",
   "name": "python",
   "nbconvert_exporter": "python",
   "pygments_lexer": "ipython3",
   "version": "3.7.7"
  }
 },
 "nbformat": 4,
 "nbformat_minor": 4
}
