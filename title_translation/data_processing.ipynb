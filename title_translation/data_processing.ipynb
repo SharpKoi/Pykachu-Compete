{
 "cells": [
  {
   "cell_type": "markdown",
   "metadata": {},
   "source": [
    "## Import packages"
   ]
  },
  {
   "cell_type": "code",
   "execution_count": 15,
   "metadata": {},
   "outputs": [],
   "source": [
    "import pandas as pd\n",
    "pd.set_option('display.max_colwidth', 0)"
   ]
  },
  {
   "cell_type": "markdown",
   "metadata": {},
   "source": [
    "## Load data from files\n",
    "Loading data from files requires some time. We dont want to load it again, so we reserve two dataframes for each data.\n",
    "And we operate one of them and leave the other in origin."
   ]
  },
  {
   "cell_type": "code",
   "execution_count": 5,
   "metadata": {},
   "outputs": [],
   "source": [
    "train_en_backup = pd.read_csv('data/train_en.csv')\n",
    "train_tcn_backup = pd.read_csv('data/train_tcn.csv')\n",
    "test_backup = pd.read_csv('data/test.csv')"
   ]
  },
  {
   "cell_type": "markdown",
   "metadata": {},
   "source": [
    "## Copy the data"
   ]
  },
  {
   "cell_type": "code",
   "execution_count": null,
   "metadata": {},
   "outputs": [],
   "source": [
    "train_en_df = train_en_backup.copy()\n",
    "train_tcn_df = train_tcn_backup.copy()\n",
    "test_df = test_backup.copy()"
   ]
  },
  {
   "cell_type": "markdown",
   "metadata": {},
   "source": [
    "## Observe the data"
   ]
  },
  {
   "cell_type": "code",
   "execution_count": 7,
   "metadata": {},
   "outputs": [
    {
     "data": {
      "text/html": [
       "<div>\n",
       "<style scoped>\n",
       "    .dataframe tbody tr th:only-of-type {\n",
       "        vertical-align: middle;\n",
       "    }\n",
       "\n",
       "    .dataframe tbody tr th {\n",
       "        vertical-align: top;\n",
       "    }\n",
       "\n",
       "    .dataframe thead th {\n",
       "        text-align: right;\n",
       "    }\n",
       "</style>\n",
       "<table border=\"1\" class=\"dataframe\">\n",
       "  <thead>\n",
       "    <tr style=\"text-align: right;\">\n",
       "      <th></th>\n",
       "      <th>product_title</th>\n",
       "      <th>category</th>\n",
       "    </tr>\n",
       "  </thead>\n",
       "  <tbody>\n",
       "    <tr>\n",
       "      <th>0</th>\n",
       "      <td>Recollections Color Splash Clear Stamps &amp; Stencil</td>\n",
       "      <td>Hobbies &amp; Stationery</td>\n",
       "    </tr>\n",
       "    <tr>\n",
       "      <th>1</th>\n",
       "      <td>soap,lotion scrub set 400</td>\n",
       "      <td>Health &amp; Personal Care</td>\n",
       "    </tr>\n",
       "    <tr>\n",
       "      <th>2</th>\n",
       "      <td>Spigen Galaxy S10e Case Tough Armor Gunmetal</td>\n",
       "      <td>Mobile Accessories</td>\n",
       "    </tr>\n",
       "    <tr>\n",
       "      <th>3</th>\n",
       "      <td>Acrylic Lanalon Bright Red</td>\n",
       "      <td>Hobbies &amp; Stationery</td>\n",
       "    </tr>\n",
       "    <tr>\n",
       "      <th>4</th>\n",
       "      <td>303 FLAT SHEET/Blanket 100% cotton</td>\n",
       "      <td>Home &amp; Living</td>\n",
       "    </tr>\n",
       "  </tbody>\n",
       "</table>\n",
       "</div>"
      ],
      "text/plain": [
       "                                       product_title                category\n",
       "0  Recollections Color Splash Clear Stamps & Stencil    Hobbies & Stationery\n",
       "1                          soap,lotion scrub set 400  Health & Personal Care\n",
       "2       Spigen Galaxy S10e Case Tough Armor Gunmetal      Mobile Accessories\n",
       "3                         Acrylic Lanalon Bright Red    Hobbies & Stationery\n",
       "4                 303 FLAT SHEET/Blanket 100% cotton           Home & Living"
      ]
     },
     "execution_count": 7,
     "metadata": {},
     "output_type": "execute_result"
    }
   ],
   "source": [
    "train_en_df.head()"
   ]
  },
  {
   "cell_type": "code",
   "execution_count": 8,
   "metadata": {},
   "outputs": [
    {
     "data": {
      "text/html": [
       "<div>\n",
       "<style scoped>\n",
       "    .dataframe tbody tr th:only-of-type {\n",
       "        vertical-align: middle;\n",
       "    }\n",
       "\n",
       "    .dataframe tbody tr th {\n",
       "        vertical-align: top;\n",
       "    }\n",
       "\n",
       "    .dataframe thead th {\n",
       "        text-align: right;\n",
       "    }\n",
       "</style>\n",
       "<table border=\"1\" class=\"dataframe\">\n",
       "  <thead>\n",
       "    <tr style=\"text-align: right;\">\n",
       "      <th></th>\n",
       "      <th>product_title</th>\n",
       "      <th>category</th>\n",
       "    </tr>\n",
       "  </thead>\n",
       "  <tbody>\n",
       "    <tr>\n",
       "      <th>0</th>\n",
       "      <td>Gucci Gucci Guilty Pour Femme Stud Edition 罪愛女...</td>\n",
       "      <td>Health &amp; Beauty</td>\n",
       "    </tr>\n",
       "    <tr>\n",
       "      <th>1</th>\n",
       "      <td>（二手）PS4 GTA 5 俠盜獵車手5 Grand Theif Auto V繁體 中文版</td>\n",
       "      <td>Game Kingdom</td>\n",
       "    </tr>\n",
       "    <tr>\n",
       "      <th>2</th>\n",
       "      <td>百獸卡</td>\n",
       "      <td>Life &amp; Entertainment</td>\n",
       "    </tr>\n",
       "    <tr>\n",
       "      <th>3</th>\n",
       "      <td>nac nac活氧全效柔衣素</td>\n",
       "      <td>Mother &amp; Baby</td>\n",
       "    </tr>\n",
       "    <tr>\n",
       "      <th>4</th>\n",
       "      <td>#Nike耐吉官方F.C. 男子足球長褲新款標準型 拒水 拉鏈褲腳\\nCD0557</td>\n",
       "      <td>Men's Apparel</td>\n",
       "    </tr>\n",
       "  </tbody>\n",
       "</table>\n",
       "</div>"
      ],
      "text/plain": [
       "                                       product_title              category\n",
       "0  Gucci Gucci Guilty Pour Femme Stud Edition 罪愛女...       Health & Beauty\n",
       "1      （二手）PS4 GTA 5 俠盜獵車手5 Grand Theif Auto V繁體 中文版          Game Kingdom\n",
       "2                                                百獸卡  Life & Entertainment\n",
       "3                                     nac nac活氧全效柔衣素         Mother & Baby\n",
       "4          #Nike耐吉官方F.C. 男子足球長褲新款標準型 拒水 拉鏈褲腳\\nCD0557         Men's Apparel"
      ]
     },
     "execution_count": 8,
     "metadata": {},
     "output_type": "execute_result"
    }
   ],
   "source": [
    "train_tcn_df.head()"
   ]
  },
  {
   "cell_type": "code",
   "execution_count": 9,
   "metadata": {},
   "outputs": [
    {
     "data": {
      "text/html": [
       "<div>\n",
       "<style scoped>\n",
       "    .dataframe tbody tr th:only-of-type {\n",
       "        vertical-align: middle;\n",
       "    }\n",
       "\n",
       "    .dataframe tbody tr th {\n",
       "        vertical-align: top;\n",
       "    }\n",
       "\n",
       "    .dataframe thead th {\n",
       "        text-align: right;\n",
       "    }\n",
       "</style>\n",
       "<table border=\"1\" class=\"dataframe\">\n",
       "  <thead>\n",
       "    <tr style=\"text-align: right;\">\n",
       "      <th></th>\n",
       "      <th>product_title</th>\n",
       "      <th>category</th>\n",
       "    </tr>\n",
       "  </thead>\n",
       "  <tbody>\n",
       "    <tr>\n",
       "      <th>0</th>\n",
       "      <td>Xing★內刷毛孕婦打底褲側邊條紋春裝外穿托腹長褲顯瘦打底加大尺碼孕婦褲</td>\n",
       "      <td>Sports &amp; Travel</td>\n",
       "    </tr>\n",
       "    <tr>\n",
       "      <th>1</th>\n",
       "      <td>★2★蕾絲花邊孕婦安全褲韓版時尚百搭休閒防走光三分打底褲托腹褲</td>\n",
       "      <td>Women's Apparel</td>\n",
       "    </tr>\n",
       "    <tr>\n",
       "      <th>2</th>\n",
       "      <td>安啦內衣春夏少女發育文胸無鋼圈運動透氣網紗網眼背心式有插片雙層少女國中生女生穿著感超舒適透氣...</td>\n",
       "      <td>Men's Apparel</td>\n",
       "    </tr>\n",
       "    <tr>\n",
       "      <th>3</th>\n",
       "      <td>兒童泳衣歐美女童表演服兒童泳衣美人魚cosplay泳衣連衣裙時尚小美人魚衣服</td>\n",
       "      <td>Sports &amp; Travel</td>\n",
       "    </tr>\n",
       "    <tr>\n",
       "      <th>4</th>\n",
       "      <td>韓國成人加粗加厚發繩兒童髮圈女童橡皮筋頭飾紮頭發的皮筋</td>\n",
       "      <td>Babies &amp; Kids</td>\n",
       "    </tr>\n",
       "  </tbody>\n",
       "</table>\n",
       "</div>"
      ],
      "text/plain": [
       "                                       product_title         category\n",
       "0               Xing★內刷毛孕婦打底褲側邊條紋春裝外穿托腹長褲顯瘦打底加大尺碼孕婦褲  Sports & Travel\n",
       "1                    ★2★蕾絲花邊孕婦安全褲韓版時尚百搭休閒防走光三分打底褲托腹褲  Women's Apparel\n",
       "2  安啦內衣春夏少女發育文胸無鋼圈運動透氣網紗網眼背心式有插片雙層少女國中生女生穿著感超舒適透氣...    Men's Apparel\n",
       "3             兒童泳衣歐美女童表演服兒童泳衣美人魚cosplay泳衣連衣裙時尚小美人魚衣服  Sports & Travel\n",
       "4                        韓國成人加粗加厚發繩兒童髮圈女童橡皮筋頭飾紮頭發的皮筋    Babies & Kids"
      ]
     },
     "execution_count": 9,
     "metadata": {},
     "output_type": "execute_result"
    }
   ],
   "source": [
    "test_df.head()"
   ]
  },
  {
   "cell_type": "code",
   "execution_count": 14,
   "metadata": {},
   "outputs": [
    {
     "data": {
      "text/html": [
       "<div>\n",
       "<style scoped>\n",
       "    .dataframe tbody tr th:only-of-type {\n",
       "        vertical-align: middle;\n",
       "    }\n",
       "\n",
       "    .dataframe tbody tr th {\n",
       "        vertical-align: top;\n",
       "    }\n",
       "\n",
       "    .dataframe thead th {\n",
       "        text-align: right;\n",
       "    }\n",
       "</style>\n",
       "<table border=\"1\" class=\"dataframe\">\n",
       "  <thead>\n",
       "    <tr style=\"text-align: right;\">\n",
       "      <th></th>\n",
       "      <th>product_title</th>\n",
       "      <th>category</th>\n",
       "    </tr>\n",
       "  </thead>\n",
       "  <tbody>\n",
       "    <tr>\n",
       "      <th>469733</th>\n",
       "      <td>Pastry Brownies box 5x6.75x1.5\\\",Home &amp; Living\\n225536256,High Quaity Earrings,Women Accessories\\n6714050633,Jordan PSG Shirt - Men’s M,Men's Apparel\\n6917205801,Fancy formal/casual fashionable jewelry set (necklace/earrings) 06#,Women Accessories\\n1497941539,ColourGlaze Vivid Lip Gloss “Fox”,Makeup &amp; Fragrances\\n6531906300,Kids original Jacket (KD),Babies &amp; Kids\\n7439026237,Check out live selling,Women's Apparel\\n283052557,URBAN DECAY VINTAGE LUPSTICK,Makeup &amp; Fragrances\\n7535956931,MG 1/100 GN-001 GUNDAM EXIA,Toys</td>\n",
       "      <td>Games &amp; Collectibles\"</td>\n",
       "    </tr>\n",
       "    <tr>\n",
       "      <th>74079</th>\n",
       "      <td>COD💥BASIC BACK UP PHONE G4 1.77\\\",Mobiles &amp; Gadgets\\n4916099219,LMJ Super Bass Portable Wireless Bluetooth Speaker,Mobiles &amp; Gadgets\\n2205969977,Korean Bucket Hat,Men's Bags &amp; Accessories\\n5113766398,Preloved Anne Klein authentic two way bag,Women's Bags\\n4440221716,The body shop shea body butter moisturizing,Health &amp; Personal Care\\n919295647,Diatomite Bathroom mat Water Absorbent Boards,Home &amp; Living\\n7837430253,COCO TANAKA ANKLE BOOTS,Women Shoes\\n2872449891,RELX|Cucumber|Pods|Cartridge|Single|1pc|Vape Juice,Mobiles &amp; Gadgets\\n4334137389,MK Brenner Rose Gold,Women Accessories\\n2556452664,Jade Beauty Massage Sticks Natural Jape Guasha Facial Beauty Massage Tool Jade Roller,Health &amp; Personal Care\\n2140043912,Heir of Fire,Hobbies &amp; Stationery\\n413911065,Original kimono 95 cm height or 18-24 months baby girl 2T,Babies &amp; Kids\\n370754040,Live Love Dream Undies pack of 2 size Medium,Women's Apparel\\n665002838,BOSTON CELTICS NBA TEES SHIRT TSHIRT,Men's Apparel\\n970661007,Women's  Grain Long Clutch Wallet with Rabbit Ear Rivet PU,Women Accessories\\n1427139811,Cross straps beauty chest pad chest wrapped women bralette,Women's Apparel\\n5217888770,Funko POP! Star Wars Lieutenant Connix Vinyl Figure,Toys</td>\n",
       "      <td>Games &amp; Collectibles\"</td>\n",
       "    </tr>\n",
       "    <tr>\n",
       "      <th>447936</th>\n",
       "      <td>Ingco Hand Riviter HR105 10.5\\\",Home &amp; Living\\n2382024119,Adidas Men’s sneakers,Men Shoes\\n315602993,owl earrings,Women Accessories\\n6340143768,Anta Woman 7/8 Legging Pants 6927334-3,Women's Apparel\\n5739553830,ForMe T shirt dress Size XS,Women's Apparel\\n2805299029,ORIHGINAL XIAOMI EARPHONE,Mobile Accessories\\n1917026181,Organic Cacao Nibs,Groceries\\n3436252462,SamSung S5360 Galaxy Y/S5830 Wave Y MSM HK Battery,Mobile Accessories\\n4516329881,Manual Massager for Family Extendable Back Scratcher Stainless Steel Telescopic Anti Itch Claw,Makeup &amp; Fragrances\\n1138080287,Silverworks X3736 Black Fashion Tone Design Earrings,Women Accessories\\n1468815766,HN Moisturizing +PLUS Conditioner (200ml &amp; 400ml),Health &amp; Personal Care\\n2091013786,AUTHENTIC FENDI WATCH,Women Accessories\\n1069601071,Pretty Love Nathaniel Wand Sex toys Adult Toys,Health &amp; Personal Care\\n5917704605,Funko POP! Disney Nightmare Before Christmas Lock Vinyl Figure,Toys</td>\n",
       "      <td>Games &amp; Collectibles\"</td>\n",
       "    </tr>\n",
       "    <tr>\n",
       "      <th>449683</th>\n",
       "      <td>6pcs Animal Foil Balloon 18\\\",Home &amp; Living\\n4804590146,[MALL]New school backpack size 15 (M),Women's Bags\\n1325137805,1557 mac multi tasking powder&amp;foundation in one all day wear,Health &amp; Personal Care\\n319292690,Awei A885BL IPX4 Waterproof Bluetooth Headphone 100% legit,Mobile Accessories\\n6438959990,[BL] Sexy Highwaisted Pants,Women's Apparel\\n487581838,Boxes fondant smoother alpha cutter,Home &amp; Living\\n4540452546,Sanitizer Wall Holder,Health &amp; Personal Care\\n2660376155,Maybelline Colossal Mascara - Black,Makeup &amp; Fragrances\\n7817546812,DAISO Japan Whitening Gel,Health &amp; Personal Care\\n5636086576,TELA PER YARD COTTON 1,Hobbies &amp; Stationery\\n1719048453,Ladies Shirt,Women's Apparel\\n5103368982,Adidas logo printing men's comfortable breathable fashion casual T-shirt #42,Men's Apparel\\n2337333252,IVT/HOT COUPLE SHIRT (2 for 150),Women's Apparel\\n5837585570,KITSCH CO. BALIWAG FXD WHITE (Unisex),Men's Apparel\\n2482338770,Uniqlo White Mickey Mouse Shirt,Men's Apparel\\n1386594613,Ladies leather belt long,Women Accessories\\n301080627,100% Original iPhones 👍🏻📱,Mobile Accessories\\n4814383208,SALE‼MEN/LADIES Branded Overruns T-Shirts/Top|DYSE ONE&lt;010720&gt;,Women's Apparel\\n213350062,casio vintage watch authentic big face,Men's Bags &amp; Accessories\\n2726276504,✨ ITZY Yuna Kpop Leather Metal Waist Chain Belt ✨,Women Accessories\\n84924353,BANGKOK GOLD NECKLACE,Women Accessories\\n1654895226,poiuytr,Women's Apparel\\n1012298367,COD🔥28 inches McQUEEN,Babies &amp; Kids\\n4416393380,Hard Straw 100pcs and 1 Kilo (red color),Home &amp; Living\\n2178402249,COD*Spelling Booklet Pad,Hobbies &amp; Stationery\\n5239512455,BTS Bangbangcon Portable charger photocards,Toys</td>\n",
       "      <td>Games &amp; Collectibles\"</td>\n",
       "    </tr>\n",
       "    <tr>\n",
       "      <th>216302</th>\n",
       "      <td>18k saudi gold necklace 18\\\",Women Accessories\\n6908051574,Basic Beach Hat Bowknot Straw Hat  Floppy Hat Sun Visor,Women Accessories\\n954752775,API Stress Coat - 8oz,Groceries\\n1608623511,Cellphone wallet,Women Accessories\\n2417722430,PIAA OTTO STYLE HORN 400Hz/500Hz (2PCS. POWER HORN),Motors\\n29506035,Badminton Bag BR9607 D,Sports &amp; Travel\\n2078882247,Tactical MOLLE Pouch EDC Security Pack Tool Carry Waist Bag,Sports &amp; Travel\\n141146917,Cherry Mobile Superion Radar C,Mobile Accessories\\n654719814,Eco Bottle with Sipper Seal 500ML &amp; 1L &amp; 2L,Home &amp; Living\\n2034746994,OVALTINE Swiss Formula Rich Chocolate Drink 10 296g,Groceries\\n3107216819,Plus size jumpsuits sleeveless wide leg jumpsuits,Women's Apparel\\n367776667,Scarf hangers 10pcs.,Home &amp; Living\\n815560862,Ticks Away Anti-Tick &amp; Flea Spray 100ml  for Dogs &amp; Cats,Pet Care\\n7402133044,P1ZBAD24BROTHERCISSPRINTER,Hobbies &amp; Stationery\\n3400295526,samsung s6 full tempered glasss screen protector,Mobile Accessories\\n279289785,Beachkin w/Zipper,Women's Bags\\n2274928195,JELT Wooden Popsicle Sticks Short,Hobbies &amp; Stationery\\n1280252825,ELECTRIC CIRCULAR SAW-AMY02-185,Home &amp; Living\\n2082203981,MIJU GLOW Castor Oil w/ Mascara Brush 10ml SPAIN ORIGIN 🇪🇦,Health &amp; Personal Care\\n4146494,BRAVE,Men's Apparel\\n2705156627,MOTORSTAR KNAPSACK SPRAYER 2 IN 1,Home &amp; Living\\n2687883444,Watchportal Casio LRW-200H-7E2 White Resin Strap Watch for Women,Women Accessories\\n1383532933,Dream Set Doctor Medical,Babies &amp; Kids\\n1855060878,LEGO Toy Story - Alien with Space Ship,Toys</td>\n",
       "      <td>Games &amp; Collectibles\"</td>\n",
       "    </tr>\n",
       "  </tbody>\n",
       "</table>\n",
       "</div>"
      ],
      "text/plain": [
       "                                                                                                                                                                                                                                                                                                                                                                                                                                                                                                                                                                                                                                                                                                                                                                                                                                                                                                                                                                                                                                                                                                                                                                                                                                                                                                                                                                                                                                                                                                                                                                                                                                                                                                                 product_title  \\\n",
       "469733  Pastry Brownies box 5x6.75x1.5\\\",Home & Living\\n225536256,High Quaity Earrings,Women Accessories\\n6714050633,Jordan PSG Shirt - Men’s M,Men's Apparel\\n6917205801,Fancy formal/casual fashionable jewelry set (necklace/earrings) 06#,Women Accessories\\n1497941539,ColourGlaze Vivid Lip Gloss “Fox”,Makeup & Fragrances\\n6531906300,Kids original Jacket (KD),Babies & Kids\\n7439026237,Check out live selling,Women's Apparel\\n283052557,URBAN DECAY VINTAGE LUPSTICK,Makeup & Fragrances\\n7535956931,MG 1/100 GN-001 GUNDAM EXIA,Toys                                                                                                                                                                                                                                                                                                                                                                                                                                                                                                                                                                                                                                                                                                                                                                                                                                                                                                                                                                                                                                                                                                                                                                                \n",
       "74079   COD💥BASIC BACK UP PHONE G4 1.77\\\",Mobiles & Gadgets\\n4916099219,LMJ Super Bass Portable Wireless Bluetooth Speaker,Mobiles & Gadgets\\n2205969977,Korean Bucket Hat,Men's Bags & Accessories\\n5113766398,Preloved Anne Klein authentic two way bag,Women's Bags\\n4440221716,The body shop shea body butter moisturizing,Health & Personal Care\\n919295647,Diatomite Bathroom mat Water Absorbent Boards,Home & Living\\n7837430253,COCO TANAKA ANKLE BOOTS,Women Shoes\\n2872449891,RELX|Cucumber|Pods|Cartridge|Single|1pc|Vape Juice,Mobiles & Gadgets\\n4334137389,MK Brenner Rose Gold,Women Accessories\\n2556452664,Jade Beauty Massage Sticks Natural Jape Guasha Facial Beauty Massage Tool Jade Roller,Health & Personal Care\\n2140043912,Heir of Fire,Hobbies & Stationery\\n413911065,Original kimono 95 cm height or 18-24 months baby girl 2T,Babies & Kids\\n370754040,Live Love Dream Undies pack of 2 size Medium,Women's Apparel\\n665002838,BOSTON CELTICS NBA TEES SHIRT TSHIRT,Men's Apparel\\n970661007,Women's  Grain Long Clutch Wallet with Rabbit Ear Rivet PU,Women Accessories\\n1427139811,Cross straps beauty chest pad chest wrapped women bralette,Women's Apparel\\n5217888770,Funko POP! Star Wars Lieutenant Connix Vinyl Figure,Toys                                                                                                                                                                                                                                                                                                                                                                                                                                                             \n",
       "447936  Ingco Hand Riviter HR105 10.5\\\",Home & Living\\n2382024119,Adidas Men’s sneakers,Men Shoes\\n315602993,owl earrings,Women Accessories\\n6340143768,Anta Woman 7/8 Legging Pants 6927334-3,Women's Apparel\\n5739553830,ForMe T shirt dress Size XS,Women's Apparel\\n2805299029,ORIHGINAL XIAOMI EARPHONE,Mobile Accessories\\n1917026181,Organic Cacao Nibs,Groceries\\n3436252462,SamSung S5360 Galaxy Y/S5830 Wave Y MSM HK Battery,Mobile Accessories\\n4516329881,Manual Massager for Family Extendable Back Scratcher Stainless Steel Telescopic Anti Itch Claw,Makeup & Fragrances\\n1138080287,Silverworks X3736 Black Fashion Tone Design Earrings,Women Accessories\\n1468815766,HN Moisturizing +PLUS Conditioner (200ml & 400ml),Health & Personal Care\\n2091013786,AUTHENTIC FENDI WATCH,Women Accessories\\n1069601071,Pretty Love Nathaniel Wand Sex toys Adult Toys,Health & Personal Care\\n5917704605,Funko POP! Disney Nightmare Before Christmas Lock Vinyl Figure,Toys                                                                                                                                                                                                                                                                                                                                                                                                                                                                                                                                                                                                                                                                                                                                          \n",
       "449683  6pcs Animal Foil Balloon 18\\\",Home & Living\\n4804590146,[MALL]New school backpack size 15 (M),Women's Bags\\n1325137805,1557 mac multi tasking powder&foundation in one all day wear,Health & Personal Care\\n319292690,Awei A885BL IPX4 Waterproof Bluetooth Headphone 100% legit,Mobile Accessories\\n6438959990,[BL] Sexy Highwaisted Pants,Women's Apparel\\n487581838,Boxes fondant smoother alpha cutter,Home & Living\\n4540452546,Sanitizer Wall Holder,Health & Personal Care\\n2660376155,Maybelline Colossal Mascara - Black,Makeup & Fragrances\\n7817546812,DAISO Japan Whitening Gel,Health & Personal Care\\n5636086576,TELA PER YARD COTTON 1,Hobbies & Stationery\\n1719048453,Ladies Shirt,Women's Apparel\\n5103368982,Adidas logo printing men's comfortable breathable fashion casual T-shirt #42,Men's Apparel\\n2337333252,IVT/HOT COUPLE SHIRT (2 for 150),Women's Apparel\\n5837585570,KITSCH CO. BALIWAG FXD WHITE (Unisex),Men's Apparel\\n2482338770,Uniqlo White Mickey Mouse Shirt,Men's Apparel\\n1386594613,Ladies leather belt long,Women Accessories\\n301080627,100% Original iPhones 👍🏻📱,Mobile Accessories\\n4814383208,SALE‼MEN/LADIES Branded Overruns T-Shirts/Top|DYSE ONE<010720>,Women's Apparel\\n213350062,casio vintage watch authentic big face,Men's Bags & Accessories\\n2726276504,✨ ITZY Yuna Kpop Leather Metal Waist Chain Belt ✨,Women Accessories\\n84924353,BANGKOK GOLD NECKLACE,Women Accessories\\n1654895226,poiuytr,Women's Apparel\\n1012298367,COD🔥28 inches McQUEEN,Babies & Kids\\n4416393380,Hard Straw 100pcs and 1 Kilo (red color),Home & Living\\n2178402249,COD*Spelling Booklet Pad,Hobbies & Stationery\\n5239512455,BTS Bangbangcon Portable charger photocards,Toys   \n",
       "216302  18k saudi gold necklace 18\\\",Women Accessories\\n6908051574,Basic Beach Hat Bowknot Straw Hat  Floppy Hat Sun Visor,Women Accessories\\n954752775,API Stress Coat - 8oz,Groceries\\n1608623511,Cellphone wallet,Women Accessories\\n2417722430,PIAA OTTO STYLE HORN 400Hz/500Hz (2PCS. POWER HORN),Motors\\n29506035,Badminton Bag BR9607 D,Sports & Travel\\n2078882247,Tactical MOLLE Pouch EDC Security Pack Tool Carry Waist Bag,Sports & Travel\\n141146917,Cherry Mobile Superion Radar C,Mobile Accessories\\n654719814,Eco Bottle with Sipper Seal 500ML & 1L & 2L,Home & Living\\n2034746994,OVALTINE Swiss Formula Rich Chocolate Drink 10 296g,Groceries\\n3107216819,Plus size jumpsuits sleeveless wide leg jumpsuits,Women's Apparel\\n367776667,Scarf hangers 10pcs.,Home & Living\\n815560862,Ticks Away Anti-Tick & Flea Spray 100ml  for Dogs & Cats,Pet Care\\n7402133044,P1ZBAD24BROTHERCISSPRINTER,Hobbies & Stationery\\n3400295526,samsung s6 full tempered glasss screen protector,Mobile Accessories\\n279289785,Beachkin w/Zipper,Women's Bags\\n2274928195,JELT Wooden Popsicle Sticks Short,Hobbies & Stationery\\n1280252825,ELECTRIC CIRCULAR SAW-AMY02-185,Home & Living\\n2082203981,MIJU GLOW Castor Oil w/ Mascara Brush 10ml SPAIN ORIGIN 🇪🇦,Health & Personal Care\\n4146494,BRAVE,Men's Apparel\\n2705156627,MOTORSTAR KNAPSACK SPRAYER 2 IN 1,Home & Living\\n2687883444,Watchportal Casio LRW-200H-7E2 White Resin Strap Watch for Women,Women Accessories\\n1383532933,Dream Set Doctor Medical,Babies & Kids\\n1855060878,LEGO Toy Story - Alien with Space Ship,Toys                                                                                                                                  \n",
       "\n",
       "                      category  \n",
       "469733   Games & Collectibles\"  \n",
       "74079    Games & Collectibles\"  \n",
       "447936   Games & Collectibles\"  \n",
       "449683   Games & Collectibles\"  \n",
       "216302   Games & Collectibles\"  "
      ]
     },
     "execution_count": 14,
     "metadata": {},
     "output_type": "execute_result"
    }
   ],
   "source": [
    "train_en_df[(train_en_df['product_title'].str.contains('\\n') &\n",
    "            train_en_df['product_title'].str.contains('\\\"') &\n",
    "            train_en_df['product_title'].str.contains(','))].sample(5)"
   ]
  },
  {
   "cell_type": "code",
   "execution_count": 19,
   "metadata": {},
   "outputs": [
    {
     "data": {
      "text/plain": [
       "(239,)"
      ]
     },
     "execution_count": 19,
     "metadata": {},
     "output_type": "execute_result"
    }
   ],
   "source": [
    "train_en_df.loc[train_en_df['category'] == ' Games & Collectibles\"', 'product_title'].shape"
   ]
  },
  {
   "cell_type": "code",
   "execution_count": 21,
   "metadata": {},
   "outputs": [
    {
     "data": {
      "text/plain": [
       "array([[[1, 2, 3, 4, 5, 6, 7, 8]]])"
      ]
     },
     "execution_count": 21,
     "metadata": {},
     "output_type": "execute_result"
    }
   ],
   "source": [
    "import numpy as np\n",
    "l = [1, 2, 3, 4, 5, 6, 7, 8]\n",
    "np.array(l).reshape(1, 1, len(l))"
   ]
  }
 ],
 "metadata": {
  "kernelspec": {
   "display_name": "Python 3",
   "language": "python",
   "name": "python3"
  },
  "language_info": {
   "codemirror_mode": {
    "name": "ipython",
    "version": 3
   },
   "file_extension": ".py",
   "mimetype": "text/x-python",
   "name": "python",
   "nbconvert_exporter": "python",
   "pygments_lexer": "ipython3",
   "version": "3.7.7"
  }
 },
 "nbformat": 4,
 "nbformat_minor": 4
}
