{
 "cells": [
  {
   "cell_type": "markdown",
   "metadata": {},
   "source": [
    "# Feature Engineering"
   ]
  },
  {
   "cell_type": "markdown",
   "metadata": {},
   "source": [
    "## Import packages"
   ]
  },
  {
   "cell_type": "code",
   "execution_count": 10,
   "metadata": {},
   "outputs": [],
   "source": [
    "import re\n",
    "import numpy as np\n",
    "import pandas as pd\n",
    "pd.set_option('display.max_colwidth', 0)"
   ]
  },
  {
   "cell_type": "code",
   "execution_count": 11,
   "metadata": {},
   "outputs": [],
   "source": [
    "dest = 'data/cleaned_data/'"
   ]
  },
  {
   "cell_type": "markdown",
   "metadata": {},
   "source": [
    "## Read raw data"
   ]
  },
  {
   "cell_type": "code",
   "execution_count": 3,
   "metadata": {},
   "outputs": [],
   "source": [
    "_df = pd.read_csv('data/train.csv')"
   ]
  },
  {
   "cell_type": "code",
   "execution_count": 4,
   "metadata": {},
   "outputs": [],
   "source": [
    "df = _df.copy()"
   ]
  },
  {
   "cell_type": "markdown",
   "metadata": {},
   "source": [
    "## Initially clean data"
   ]
  },
  {
   "cell_type": "code",
   "execution_count": 5,
   "metadata": {},
   "outputs": [],
   "source": [
    "df['review'] = df['review'].str.lower().str.strip().str.replace(u'\\u200b', ' ')"
   ]
  },
  {
   "cell_type": "markdown",
   "metadata": {},
   "source": [
    "========================================================================================================================"
   ]
  },
  {
   "cell_type": "markdown",
   "metadata": {},
   "source": [
    "## Emoji Transformation\n",
    "<i class=\"fa fa-exclamation-circle\"></i> 方向2"
   ]
  },
  {
   "cell_type": "code",
   "execution_count": 6,
   "metadata": {},
   "outputs": [],
   "source": [
    "import emoji\n",
    "import emojis"
   ]
  },
  {
   "cell_type": "code",
   "execution_count": 7,
   "metadata": {},
   "outputs": [],
   "source": [
    "def widen_emoji(text):\n",
    "    for c in text:\n",
    "        if c in emoji.UNICODE_EMOJI.keys():\n",
    "            text = ' '.join(text.replace(c, (' '+c+' ')).split())\n",
    "    return text"
   ]
  },
  {
   "cell_type": "code",
   "execution_count": 8,
   "metadata": {},
   "outputs": [],
   "source": [
    "df['review'] = df['review'].apply(widen_emoji)"
   ]
  },
  {
   "cell_type": "code",
   "execution_count": 9,
   "metadata": {},
   "outputs": [
    {
     "name": "stdout",
     "output_type": "stream",
     "text": [
      "19163\n"
     ]
    },
    {
     "data": {
      "text/plain": [
       "73499     already the third time shopping here. fast delivery. packing neatly 👍 and that makes shopping again and again because the price was really friendly than others.                                             \n",
       "84643     alhamdulillah until dngan safely packaged glasses .. makasihh ka akuuu 3x udh to good order all the mace which deform. recomend deh create wedding souvenir mantullllllll 👍 🏻 👍 🏻 👍 🏻 👍 🏻 👍 🏻 😊 😊 😊 😊 💓 💓 💓 💓\n",
       "135174    the product price is very good. the product quality is excellent. response excellent product quality good seller. fast delivery. top bgt deh 👍                                                               \n",
       "96542     very good product delivery is also fast sellers of its response its principal baikkkk top markotopp aliass mantullll 😍 😍 😍                                                                                   \n",
       "121879    love the pants. ganda ng fit. thank you seller! 😊                                                                                                                                                            \n",
       "Name: review, dtype: object"
      ]
     },
     "execution_count": 9,
     "metadata": {},
     "output_type": "execute_result"
    }
   ],
   "source": [
    "# 檢查一下是否轉換成功\n",
    "emoji_df = df[df['review'].str.contains(u'[\\U00002600-\\U000027BF]|[\\U0001f300-\\U0001f64F]|[\\U0001f680-\\U0001f6FF]')]\n",
    "print(len(emoji_df))\n",
    "emoji_df.sample(5)['review']"
   ]
  },
  {
   "cell_type": "code",
   "execution_count": 10,
   "metadata": {},
   "outputs": [],
   "source": [
    "# 用空白分開emoji後的資料\n",
    "df.to_csv('data/cleaned_data/data_emoji.csv', index=False)"
   ]
  },
  {
   "cell_type": "code",
   "execution_count": 11,
   "metadata": {},
   "outputs": [],
   "source": [
    "df['review'] = df['review'].apply(emojis.decode)"
   ]
  },
  {
   "cell_type": "code",
   "execution_count": 12,
   "metadata": {},
   "outputs": [],
   "source": [
    "# 用空白分開emoji且把emoji轉成單詞後的資料\n",
    "df.to_csv('data/cleaned_data/data_emoji2word.csv', index=False)"
   ]
  },
  {
   "cell_type": "markdown",
   "metadata": {},
   "source": [
    "## Abbreviation Decompose\n",
    "<i class=\"fa fa-exclamation-circle\"></i> 方向4"
   ]
  },
  {
   "cell_type": "code",
   "execution_count": 13,
   "metadata": {},
   "outputs": [
    {
     "name": "stdout",
     "output_type": "stream",
     "text": [
      "9300\n"
     ]
    },
    {
     "data": {
      "text/html": [
       "<div>\n",
       "<style scoped>\n",
       "    .dataframe tbody tr th:only-of-type {\n",
       "        vertical-align: middle;\n",
       "    }\n",
       "\n",
       "    .dataframe tbody tr th {\n",
       "        vertical-align: top;\n",
       "    }\n",
       "\n",
       "    .dataframe thead th {\n",
       "        text-align: right;\n",
       "    }\n",
       "</style>\n",
       "<table border=\"1\" class=\"dataframe\">\n",
       "  <thead>\n",
       "    <tr style=\"text-align: right;\">\n",
       "      <th></th>\n",
       "      <th>review_id</th>\n",
       "      <th>review</th>\n",
       "      <th>rating</th>\n",
       "    </tr>\n",
       "  </thead>\n",
       "  <tbody>\n",
       "    <tr>\n",
       "      <th>88750</th>\n",
       "      <td>88750</td>\n",
       "      <td>awesome awesome speed of the ship's delivery speed fabulous quality of goods awesome awesome value cp cp value</td>\n",
       "      <td>4</td>\n",
       "    </tr>\n",
       "    <tr>\n",
       "      <th>131106</th>\n",
       "      <td>131106</td>\n",
       "      <td>crispy'm not inexpensive to buy. fresh, not rancid smell delicious, seal the bag well-ordered 500-gram bags of 250 * 2 can not.</td>\n",
       "      <td>5</td>\n",
       "    </tr>\n",
       "    <tr>\n",
       "      <th>12768</th>\n",
       "      <td>12768</td>\n",
       "      <td>i didn't receive the correct item. i didn't like the color. this lip balm is p279. had i known, i should have bought from malls. i requested for return/exchange but it didn't work in this shop. only 1 is processed for refund because seller wanted separate case for 2 items in their error. i hate them</td>\n",
       "      <td>1</td>\n",
       "    </tr>\n",
       "    <tr>\n",
       "      <th>52158</th>\n",
       "      <td>52158</td>\n",
       "      <td>baguuus lahh corresponding price also fast delivery ...... just kemrin message today sudh smpai .... hopefully fadeproof and subscriptions can thank for the seller n'shopee</td>\n",
       "      <td>3</td>\n",
       "    </tr>\n",
       "    <tr>\n",
       "      <th>88520</th>\n",
       "      <td>88520</td>\n",
       "      <td>excellent product quality excellent product price is very good delivery speed is very good seller's response</td>\n",
       "      <td>4</td>\n",
       "    </tr>\n",
       "    <tr>\n",
       "      <th>125669</th>\n",
       "      <td>125669</td>\n",
       "      <td>excellent product quality excellent product price is very good delivery speed is very good seller's response</td>\n",
       "      <td>5</td>\n",
       "    </tr>\n",
       "    <tr>\n",
       "      <th>81121</th>\n",
       "      <td>81121</td>\n",
       "      <td>quality meets art products by'm really pretty cute â â â â â â â â â â â â â figure much kg kg kg kg kg kg kg. then i the woman was wearing haaaaa.</td>\n",
       "      <td>4</td>\n",
       "    </tr>\n",
       "    <tr>\n",
       "      <th>41055</th>\n",
       "      <td>41055</td>\n",
       "      <td>women's socks and my clothes do not match.</td>\n",
       "      <td>3</td>\n",
       "    </tr>\n",
       "    <tr>\n",
       "      <th>133229</th>\n",
       "      <td>133229</td>\n",
       "      <td>very comfy, nice design and very affordable. i'm just curious where the parcel that went with it, is not that nadeliver me well while at the same naship, 10 pcs pa naman yun.</td>\n",
       "      <td>5</td>\n",
       "    </tr>\n",
       "    <tr>\n",
       "      <th>100797</th>\n",
       "      <td>100797</td>\n",
       "      <td>thank you for making my first shopee experienced wonderful.  delivery: earlier than expecting even more from those items of china packaging: i'm not the nagreceived but since no dent or damage for sure nice pagkakapackaged overall, i am satisfied, date nov.6, 2019, 1593 php</td>\n",
       "      <td>4</td>\n",
       "    </tr>\n",
       "  </tbody>\n",
       "</table>\n",
       "</div>"
      ],
      "text/plain": [
       "        review_id  \\\n",
       "88750   88750       \n",
       "131106  131106      \n",
       "12768   12768       \n",
       "52158   52158       \n",
       "88520   88520       \n",
       "125669  125669      \n",
       "81121   81121       \n",
       "41055   41055       \n",
       "133229  133229      \n",
       "100797  100797      \n",
       "\n",
       "                                                                                                                                                                                                                                                                                                              review  \\\n",
       "88750   awesome awesome speed of the ship's delivery speed fabulous quality of goods awesome awesome value cp cp value                                                                                                                                                                                                 \n",
       "131106  crispy'm not inexpensive to buy. fresh, not rancid smell delicious, seal the bag well-ordered 500-gram bags of 250 * 2 can not.                                                                                                                                                                                \n",
       "12768   i didn't receive the correct item. i didn't like the color. this lip balm is p279. had i known, i should have bought from malls. i requested for return/exchange but it didn't work in this shop. only 1 is processed for refund because seller wanted separate case for 2 items in their error. i hate them   \n",
       "52158   baguuus lahh corresponding price also fast delivery ...... just kemrin message today sudh smpai .... hopefully fadeproof and subscriptions can thank for the seller n'shopee                                                                                                                                   \n",
       "88520   excellent product quality excellent product price is very good delivery speed is very good seller's response                                                                                                                                                                                                   \n",
       "125669  excellent product quality excellent product price is very good delivery speed is very good seller's response                                                                                                                                                                                                   \n",
       "81121   quality meets art products by'm really pretty cute â â â â â â â â â â â â â figure much kg kg kg kg kg kg kg. then i the woman was wearing haaaaa.                                                                                                                                                            \n",
       "41055   women's socks and my clothes do not match.                                                                                                                                                                                                                                                                     \n",
       "133229  very comfy, nice design and very affordable. i'm just curious where the parcel that went with it, is not that nadeliver me well while at the same naship, 10 pcs pa naman yun.                                                                                                                                 \n",
       "100797  thank you for making my first shopee experienced wonderful.  delivery: earlier than expecting even more from those items of china packaging: i'm not the nagreceived but since no dent or damage for sure nice pagkakapackaged overall, i am satisfied, date nov.6, 2019, 1593 php                             \n",
       "\n",
       "        rating  \n",
       "88750   4       \n",
       "131106  5       \n",
       "12768   1       \n",
       "52158   3       \n",
       "88520   4       \n",
       "125669  5       \n",
       "81121   4       \n",
       "41055   3       \n",
       "133229  5       \n",
       "100797  4       "
      ]
     },
     "execution_count": 13,
     "metadata": {},
     "output_type": "execute_result"
    }
   ],
   "source": [
    "# 檢查含有 xx'xx 的review\n",
    "def check_abbr():\n",
    "    abbr_pat = re.compile(r'[\\w]+\\'[\\w]+')\n",
    "    return df[df['review'].str.contains(abbr_pat)]\n",
    "\n",
    "abbr_df = check_abbr()\n",
    "print(len(abbr_df))\n",
    "abbr_df.sample(10)"
   ]
  },
  {
   "cell_type": "code",
   "execution_count": 14,
   "metadata": {},
   "outputs": [],
   "source": [
    "mapping = {'\\'s': ' ', '\\'m': ' am', '\\'re': ' are', '\\'ll': ' will', '\\'d': ' would', '\\'t': ' not', '\\'ve': ' have'}\n",
    "\n",
    "for abbr in mapping.keys():\n",
    "    df['review'] = df['review'].str.replace(abbr, mapping[abbr])"
   ]
  },
  {
   "cell_type": "code",
   "execution_count": 15,
   "metadata": {},
   "outputs": [],
   "source": [
    "# 剩下的很多都是打錯或印尼後綴詞 不管了\n",
    "df['review'] = df['review'].str.replace('\\'', '').str.replace('oclock', 'o\\'clock')"
   ]
  },
  {
   "cell_type": "code",
   "execution_count": 16,
   "metadata": {},
   "outputs": [],
   "source": [
    "df.to_csv('data/cleaned_data/data_sol24.csv', index=False)"
   ]
  },
  {
   "cell_type": "markdown",
   "metadata": {},
   "source": [
    "## Spelling Correction\n",
    "<i class=\"fa fa-exclamation-circle\"></i> 方向1  \n",
    "I have no idea.... \n",
    "交給 JiaLing 了"
   ]
  },
  {
   "cell_type": "code",
   "execution_count": 1,
   "metadata": {},
   "outputs": [],
   "source": [
    "import re\n",
    "import pandas as pd\n",
    "pd.set_option('display.max_colwidth', 0)\n",
    "\n",
    "from sol1 import trim_letters, detect_language, spell_checker"
   ]
  },
  {
   "cell_type": "code",
   "execution_count": 2,
   "metadata": {},
   "outputs": [],
   "source": [
    "_df1 = pd.read_csv('data/cleaned_data/data_sol24.csv')"
   ]
  },
  {
   "cell_type": "code",
   "execution_count": 3,
   "metadata": {},
   "outputs": [],
   "source": [
    "df1 = _df1.copy()"
   ]
  },
  {
   "cell_type": "code",
   "execution_count": 4,
   "metadata": {},
   "outputs": [
    {
     "data": {
      "text/html": [
       "<div>\n",
       "<style scoped>\n",
       "    .dataframe tbody tr th:only-of-type {\n",
       "        vertical-align: middle;\n",
       "    }\n",
       "\n",
       "    .dataframe tbody tr th {\n",
       "        vertical-align: top;\n",
       "    }\n",
       "\n",
       "    .dataframe thead th {\n",
       "        text-align: right;\n",
       "    }\n",
       "</style>\n",
       "<table border=\"1\" class=\"dataframe\">\n",
       "  <thead>\n",
       "    <tr style=\"text-align: right;\">\n",
       "      <th></th>\n",
       "      <th>review_id</th>\n",
       "      <th>review</th>\n",
       "      <th>rating</th>\n",
       "    </tr>\n",
       "  </thead>\n",
       "  <tbody>\n",
       "    <tr>\n",
       "      <th>145482</th>\n",
       "      <td>145482</td>\n",
       "      <td>eeee infuriated by this reseller x :pout: :pout: :pout: never sold very cheaply off her shirt tu la salary kt lawa2 exhausted here this month anyway :joy: :joy: :joy: awk stores have special brackets now he  a little cloth plus gt2 sy suke  crazy .. remember kn ade to reject what all okay .. terbaikkk la sis .. judging by more than 5 sy nk bg :kissing_heart:</td>\n",
       "      <td>5</td>\n",
       "    </tr>\n",
       "    <tr>\n",
       "      <th>43483</th>\n",
       "      <td>43483</td>\n",
       "      <td>ssssiiiiiiipppppppp eeeeeennnnnaaaaakkkkk mmmmaaaaannnnniiiiiiiiissssss hhhahahahahhaa syg ......... no moldy</td>\n",
       "      <td>3</td>\n",
       "    </tr>\n",
       "    <tr>\n",
       "      <th>90382</th>\n",
       "      <td>90382</td>\n",
       "      <td>ttttttttttoooooooooooooooooooooooppppppppbiiiiiinnnnnnnnnnnnnnnnnnnnnnnnnnnnnnnnnnnnnnnnngiiiittttttttttttttttttttttttt. thaaaaaannnnnnnnnnnnnnnnnn yoooooooooooooooooooouuuuuuuuuuuuuuuuuuuuuuuuuuuuuuuuuuuuuu</td>\n",
       "      <td>4</td>\n",
       "    </tr>\n",
       "    <tr>\n",
       "      <th>141340</th>\n",
       "      <td>141340</td>\n",
       "      <td>uuuuuuuu shoes like that makaiiii wkwkw lucukkkk which lainnnn do not forget pd order yesss :heart_eyes: :heart_eyes:</td>\n",
       "      <td>5</td>\n",
       "    </tr>\n",
       "    <tr>\n",
       "      <th>128115</th>\n",
       "      <td>128115</td>\n",
       "      <td>hhhmmm ... confused shopping where? in destoree aja  jack shirt / shirt men / kaos distro #kaosdistro #kaospria #kaosmurah</td>\n",
       "      <td>5</td>\n",
       "    </tr>\n",
       "    <tr>\n",
       "      <th>116903</th>\n",
       "      <td>116903</td>\n",
       "      <td>aaaaaaaabbbbbbnccccccccddddddddeeeeeeefffffgggghhhhiiiiiioooopppp  aaaaaaaabbbbbbnccccccccddddddddeeeeeeefffffgggghhhhiiiiiioooopppp</td>\n",
       "      <td>5</td>\n",
       "    </tr>\n",
       "    <tr>\n",
       "      <th>145859</th>\n",
       "      <td>145859</td>\n",
       "      <td>ddddddddddddddddd receive goods and then wrap it up any other other other other other other other other other other other other other other other other other other other other other other. not too long a wait, :heart_eyes: :heart_eyes: :heart_eyes: :heart_eyes: .</td>\n",
       "      <td>5</td>\n",
       "    </tr>\n",
       "    <tr>\n",
       "      <th>37176</th>\n",
       "      <td>37176</td>\n",
       "      <td>mmmmmmaaaannnnnrtttttuuuuuullllllll.....  mmmmaaannnnntttttaaaaappppp bbbbeeeeetuuuuuuulllll.....</td>\n",
       "      <td>3</td>\n",
       "    </tr>\n",
       "    <tr>\n",
       "      <th>84350</th>\n",
       "      <td>84350</td>\n",
       "      <td>nnnkkkjjhhgvbb. nhjmjfdsssdghhjj jkklllkgffcbhjkmmnnnb</td>\n",
       "      <td>4</td>\n",
       "    </tr>\n",
       "    <tr>\n",
       "      <th>84970</th>\n",
       "      <td>84970</td>\n",
       "      <td>ddddddddddddddddddddddddddddddddddddddddddd dddddddddddddddddddddddddddddddddddddddddd. but wait a little longer. because foreign</td>\n",
       "      <td>4</td>\n",
       "    </tr>\n",
       "  </tbody>\n",
       "</table>\n",
       "</div>"
      ],
      "text/plain": [
       "        review_id  \\\n",
       "145482  145482      \n",
       "43483   43483       \n",
       "90382   90382       \n",
       "141340  141340      \n",
       "128115  128115      \n",
       "116903  116903      \n",
       "145859  145859      \n",
       "37176   37176       \n",
       "84350   84350       \n",
       "84970   84970       \n",
       "\n",
       "                                                                                                                                                                                                                                                                                                                                                                          review  \\\n",
       "145482  eeee infuriated by this reseller x :pout: :pout: :pout: never sold very cheaply off her shirt tu la salary kt lawa2 exhausted here this month anyway :joy: :joy: :joy: awk stores have special brackets now he  a little cloth plus gt2 sy suke  crazy .. remember kn ade to reject what all okay .. terbaikkk la sis .. judging by more than 5 sy nk bg :kissing_heart:   \n",
       "43483   ssssiiiiiiipppppppp eeeeeennnnnaaaaakkkkk mmmmaaaaannnnniiiiiiiiissssss hhhahahahahhaa syg ......... no moldy                                                                                                                                                                                                                                                              \n",
       "90382   ttttttttttoooooooooooooooooooooooppppppppbiiiiiinnnnnnnnnnnnnnnnnnnnnnnnnnnnnnnnnnnnnnnnngiiiittttttttttttttttttttttttt. thaaaaaannnnnnnnnnnnnnnnnn yoooooooooooooooooooouuuuuuuuuuuuuuuuuuuuuuuuuuuuuuuuuuuuuu                                                                                                                                                            \n",
       "141340  uuuuuuuu shoes like that makaiiii wkwkw lucukkkk which lainnnn do not forget pd order yesss :heart_eyes: :heart_eyes:                                                                                                                                                                                                                                                      \n",
       "128115  hhhmmm ... confused shopping where? in destoree aja  jack shirt / shirt men / kaos distro #kaosdistro #kaospria #kaosmurah                                                                                                                                                                                                                                                 \n",
       "116903  aaaaaaaabbbbbbnccccccccddddddddeeeeeeefffffgggghhhhiiiiiioooopppp  aaaaaaaabbbbbbnccccccccddddddddeeeeeeefffffgggghhhhiiiiiioooopppp                                                                                                                                                                                                                                       \n",
       "145859  ddddddddddddddddd receive goods and then wrap it up any other other other other other other other other other other other other other other other other other other other other other other. not too long a wait, :heart_eyes: :heart_eyes: :heart_eyes: :heart_eyes: .                                                                                                    \n",
       "37176   mmmmmmaaaannnnnrtttttuuuuuullllllll.....  mmmmaaannnnntttttaaaaappppp bbbbeeeeetuuuuuuulllll.....                                                                                                                                                                                                                                                                          \n",
       "84350   nnnkkkjjhhgvbb. nhjmjfdsssdghhjj jkklllkgffcbhjkmmnnnb                                                                                                                                                                                                                                                                                                                     \n",
       "84970   ddddddddddddddddddddddddddddddddddddddddddd dddddddddddddddddddddddddddddddddddddddddd. but wait a little longer. because foreign                                                                                                                                                                                                                                          \n",
       "\n",
       "        rating  \n",
       "145482  5       \n",
       "43483   3       \n",
       "90382   4       \n",
       "141340  5       \n",
       "128115  5       \n",
       "116903  5       \n",
       "145859  5       \n",
       "37176   3       \n",
       "84350   4       \n",
       "84970   4       "
      ]
     },
     "execution_count": 4,
     "metadata": {},
     "output_type": "execute_result"
    }
   ],
   "source": [
    "pattern = re.compile(r\"([a-zA-z_])\\1{2,}\", re.DOTALL)\n",
    "df1[df1['review'].str.match(pattern)].sample(10)"
   ]
  },
  {
   "cell_type": "code",
   "execution_count": 5,
   "metadata": {},
   "outputs": [],
   "source": [
    "df1['review'] = df1['review'].apply(trim_letters)"
   ]
  },
  {
   "cell_type": "code",
   "execution_count": 8,
   "metadata": {},
   "outputs": [
    {
     "data": {
      "text/html": [
       "<div>\n",
       "<style scoped>\n",
       "    .dataframe tbody tr th:only-of-type {\n",
       "        vertical-align: middle;\n",
       "    }\n",
       "\n",
       "    .dataframe tbody tr th {\n",
       "        vertical-align: top;\n",
       "    }\n",
       "\n",
       "    .dataframe thead th {\n",
       "        text-align: right;\n",
       "    }\n",
       "</style>\n",
       "<table border=\"1\" class=\"dataframe\">\n",
       "  <thead>\n",
       "    <tr style=\"text-align: right;\">\n",
       "      <th></th>\n",
       "      <th>review_id</th>\n",
       "      <th>review</th>\n",
       "      <th>rating</th>\n",
       "    </tr>\n",
       "  </thead>\n",
       "  <tbody>\n",
       "    <tr>\n",
       "      <th>20819</th>\n",
       "      <td>20819</td>\n",
       "      <td>jjsjehgebsbdbsnskkshe jjsjehgebsbdbsnskkshe vebjjsjehgebsbdbsnskkshe vebevcsccsccsvbnsnbbsbmnbvsnsnsvvsbsbbsnsj8822162068642799jjsjehgebsbdbsnskkshe vebevcsccsccsvbnsnbbsbmnbvsnsnsvvsbsbbsnsj8822162068642799jjsjehgebsbdbsnskkshe vebevcsccsccsvbnsnbbsbmnbvsnsnsvvsbsbbsnsj8822162068642799</td>\n",
       "      <td>2</td>\n",
       "    </tr>\n",
       "    <tr>\n",
       "      <th>29748</th>\n",
       "      <td>29748</td>\n",
       "      <td>kk, which aloevera there ya kok gk kk? i pesenan less aloeveranya ... gmn tu kk?</td>\n",
       "      <td>3</td>\n",
       "    </tr>\n",
       "    <tr>\n",
       "      <th>72558</th>\n",
       "      <td>72558</td>\n",
       "      <td>kk kk on prodak trimakasih suggest very helpful complaint my partner so resolved.</td>\n",
       "      <td>4</td>\n",
       "    </tr>\n",
       "    <tr>\n",
       "      <th>141377</th>\n",
       "      <td>141377</td>\n",
       "      <td>ww dd ff ss a a a a a a a a a a a a a aa gg xx bb qq hh jj kk mm 22222222222223 33333333333333</td>\n",
       "      <td>5</td>\n",
       "    </tr>\n",
       "    <tr>\n",
       "      <th>36860</th>\n",
       "      <td>36860</td>\n",
       "      <td>ssiipp... terpercaya</td>\n",
       "      <td>3</td>\n",
       "    </tr>\n",
       "    <tr>\n",
       "      <th>100444</th>\n",
       "      <td>100444</td>\n",
       "      <td>kk thanks ata response, for improved fabric quality yahh.</td>\n",
       "      <td>4</td>\n",
       "    </tr>\n",
       "    <tr>\n",
       "      <th>92129</th>\n",
       "      <td>92129</td>\n",
       "      <td>tthhee bbeesstt bbaannggett</td>\n",
       "      <td>4</td>\n",
       "    </tr>\n",
       "    <tr>\n",
       "      <th>45324</th>\n",
       "      <td>45324</td>\n",
       "      <td>xxl size. tp tetep same gakmuat my husband. yaudah finally i wrote that pakek :relieved: :grimacing:</td>\n",
       "      <td>3</td>\n",
       "    </tr>\n",
       "    <tr>\n",
       "      <th>93525</th>\n",
       "      <td>93525</td>\n",
       "      <td>kk bgus bnget 100% kyx dfto</td>\n",
       "      <td>4</td>\n",
       "    </tr>\n",
       "    <tr>\n",
       "      <th>48334</th>\n",
       "      <td>48334</td>\n",
       "      <td>mmaanttaab, jiiwaa pookooe heheheehhehehee</td>\n",
       "      <td>3</td>\n",
       "    </tr>\n",
       "  </tbody>\n",
       "</table>\n",
       "</div>"
      ],
      "text/plain": [
       "        review_id  \\\n",
       "20819   20819       \n",
       "29748   29748       \n",
       "72558   72558       \n",
       "141377  141377      \n",
       "36860   36860       \n",
       "100444  100444      \n",
       "92129   92129       \n",
       "45324   45324       \n",
       "93525   93525       \n",
       "48334   48334       \n",
       "\n",
       "                                                                                                                                                                                                                                                                                                 review  \\\n",
       "20819   jjsjehgebsbdbsnskkshe jjsjehgebsbdbsnskkshe vebjjsjehgebsbdbsnskkshe vebevcsccsccsvbnsnbbsbmnbvsnsnsvvsbsbbsnsj8822162068642799jjsjehgebsbdbsnskkshe vebevcsccsccsvbnsnbbsbmnbvsnsnsvvsbsbbsnsj8822162068642799jjsjehgebsbdbsnskkshe vebevcsccsccsvbnsnbbsbmnbvsnsnsvvsbsbbsnsj8822162068642799   \n",
       "29748   kk, which aloevera there ya kok gk kk? i pesenan less aloeveranya ... gmn tu kk?                                                                                                                                                                                                                  \n",
       "72558   kk kk on prodak trimakasih suggest very helpful complaint my partner so resolved.                                                                                                                                                                                                                 \n",
       "141377  ww dd ff ss a a a a a a a a a a a a a aa gg xx bb qq hh jj kk mm 22222222222223 33333333333333                                                                                                                                                                                                    \n",
       "36860   ssiipp... terpercaya                                                                                                                                                                                                                                                                              \n",
       "100444  kk thanks ata response, for improved fabric quality yahh.                                                                                                                                                                                                                                         \n",
       "92129   tthhee bbeesstt bbaannggett                                                                                                                                                                                                                                                                       \n",
       "45324   xxl size. tp tetep same gakmuat my husband. yaudah finally i wrote that pakek :relieved: :grimacing:                                                                                                                                                                                              \n",
       "93525   kk bgus bnget 100% kyx dfto                                                                                                                                                                                                                                                                       \n",
       "48334   mmaanttaab, jiiwaa pookooe heheheehhehehee                                                                                                                                                                                                                                                        \n",
       "\n",
       "        rating  \n",
       "20819   2       \n",
       "29748   3       \n",
       "72558   4       \n",
       "141377  5       \n",
       "36860   3       \n",
       "100444  4       \n",
       "92129   4       \n",
       "45324   3       \n",
       "93525   4       \n",
       "48334   3       "
      ]
     },
     "execution_count": 8,
     "metadata": {},
     "output_type": "execute_result"
    }
   ],
   "source": [
    "pattern = re.compile(r\"([a-zA-z_])\\1\", re.DOTALL)\n",
    "df1[df1['review'].str.match(pattern)].sample(10)"
   ]
  },
  {
   "cell_type": "code",
   "execution_count": 12,
   "metadata": {},
   "outputs": [],
   "source": [
    "df1.to_csv(dest+'data_sol241.csv', index=False)"
   ]
  },
  {
   "cell_type": "markdown",
   "metadata": {},
   "source": [
    "## Meaningless Spelling Filter\n",
    "<span style='color:#FF0000'><i class=\"fa fa-exclamation-circle\"></i> 這個cell必須建立在方向2、4、1都解決的前提下才能執行。</span>  \n",
    "<i class=\"fa fa-exclamation-circle\"></i> 方向5  \n",
    "過濾掉那些亂打字的字串，目前的做法是詞頻小於n個的都拿掉，可能會拿掉一些正常單詞，但出現數量太少也不會影響學習。"
   ]
  },
  {
   "cell_type": "code",
   "execution_count": 22,
   "metadata": {},
   "outputs": [],
   "source": [
    "import nltk\n",
    "# nltk.download('stopwords') 沒下載過的話把註解拿掉\n",
    "# nltk.download('punkt') 沒下載過的話把註解拿掉\n",
    "\n",
    "import string\n",
    "from nltk.corpus import stopwords"
   ]
  },
  {
   "cell_type": "code",
   "execution_count": 13,
   "metadata": {},
   "outputs": [],
   "source": [
    "# 讀取處理好的檔\n",
    "df = pd.read_csv(dest+'data_sol241.csv')"
   ]
  },
  {
   "cell_type": "code",
   "execution_count": 14,
   "metadata": {},
   "outputs": [
    {
     "data": {
      "text/html": [
       "<div>\n",
       "<style scoped>\n",
       "    .dataframe tbody tr th:only-of-type {\n",
       "        vertical-align: middle;\n",
       "    }\n",
       "\n",
       "    .dataframe tbody tr th {\n",
       "        vertical-align: top;\n",
       "    }\n",
       "\n",
       "    .dataframe thead th {\n",
       "        text-align: right;\n",
       "    }\n",
       "</style>\n",
       "<table border=\"1\" class=\"dataframe\">\n",
       "  <thead>\n",
       "    <tr style=\"text-align: right;\">\n",
       "      <th></th>\n",
       "      <th>review_id</th>\n",
       "      <th>review</th>\n",
       "      <th>rating</th>\n",
       "    </tr>\n",
       "  </thead>\n",
       "  <tbody>\n",
       "  </tbody>\n",
       "</table>\n",
       "</div>"
      ],
      "text/plain": [
       "Empty DataFrame\n",
       "Columns: [review_id, review, rating]\n",
       "Index: []"
      ]
     },
     "execution_count": 14,
     "metadata": {},
     "output_type": "execute_result"
    }
   ],
   "source": [
    "df[df['review'].isna()]"
   ]
  },
  {
   "cell_type": "code",
   "execution_count": 19,
   "metadata": {},
   "outputs": [],
   "source": [
    "# 先把符號過濾掉\n",
    "df['review'] = df['review'].str.replace(r'[^\\w\\s\\r\\n]', '')"
   ]
  },
  {
   "cell_type": "code",
   "execution_count": 31,
   "metadata": {},
   "outputs": [],
   "source": [
    "# 定義最小詞頻(3就有很強的效果了，4以上明顯會過濾掉有意義單詞)\n",
    "TOL = 3"
   ]
  },
  {
   "cell_type": "code",
   "execution_count": 23,
   "metadata": {},
   "outputs": [],
   "source": [
    "# 把所有單詞丟進words\n",
    "words = []\n",
    "stops = stopwords.words('english') + list(string.punctuation)\n",
    "wordslist = df['review'].apply(nltk.word_tokenize)\n",
    "for i in range(len(df)):\n",
    "    words.extend([word for word in wordslist[i] if word not in stops])"
   ]
  },
  {
   "cell_type": "code",
   "execution_count": 24,
   "metadata": {},
   "outputs": [
    {
     "data": {
      "text/plain": [
       "FreqDist({'good': 84675, 'product': 57888, 'quality': 51062, 'delivery': 37286, 'thumbsup': 36940, 'seller': 24232, 'price': 21506, 'speed': 20585, 'excellent': 19924, 'awesome': 19138, ...})"
      ]
     },
     "execution_count": 24,
     "metadata": {},
     "output_type": "execute_result"
    }
   ],
   "source": [
    "# 統計每個單詞出現的量(詞頻)\n",
    "wordfreqs = nltk.FreqDist(words)\n",
    "wordfreqs"
   ]
  },
  {
   "cell_type": "code",
   "execution_count": 35,
   "metadata": {
    "scrolled": true
   },
   "outputs": [],
   "source": [
    "# 看一下哪些東西可以刪\n",
    "def get_meanless_words(tolerance=3, maxlen=10):\n",
    "    removables = {}\n",
    "    wordfreq_arr = np.array(list(wordfreqs.items()))\n",
    "    for wf in wordfreq_arr:\n",
    "        if (int(wf[1]) <= tolerance) and (len(wf[0]) >= maxlen):\n",
    "            removables[wf[0]] = wf[1]\n",
    "\n",
    "    return removables\n",
    "\n",
    "meanless_words_dict = get_meanless_words(TOL, 10)"
   ]
  },
  {
   "cell_type": "code",
   "execution_count": 36,
   "metadata": {},
   "outputs": [
    {
     "data": {
      "text/plain": [
       "13827"
      ]
     },
     "execution_count": 36,
     "metadata": {},
     "output_type": "execute_result"
    }
   ],
   "source": [
    "len(meanless_words_dict)"
   ]
  },
  {
   "cell_type": "code",
   "execution_count": 37,
   "metadata": {},
   "outputs": [],
   "source": [
    "# 過濾掉無意義的詞，丟回df裡\n",
    "cleaned_texts = []\n",
    "meanless_words = list(meanless_words_dict.keys())\n",
    "for wl in wordslist:\n",
    "    cleaned_words = []\n",
    "    for w in wl:\n",
    "        if w not in meanless_words:\n",
    "            cleaned_words.append(w)\n",
    "    cleaned_texts.append(' '.join(cleaned_words))\n",
    "\n",
    "df['review'] = cleaned_texts"
   ]
  },
  {
   "cell_type": "code",
   "execution_count": 38,
   "metadata": {},
   "outputs": [
    {
     "data": {
      "text/html": [
       "<div>\n",
       "<style scoped>\n",
       "    .dataframe tbody tr th:only-of-type {\n",
       "        vertical-align: middle;\n",
       "    }\n",
       "\n",
       "    .dataframe tbody tr th {\n",
       "        vertical-align: top;\n",
       "    }\n",
       "\n",
       "    .dataframe thead th {\n",
       "        text-align: right;\n",
       "    }\n",
       "</style>\n",
       "<table border=\"1\" class=\"dataframe\">\n",
       "  <thead>\n",
       "    <tr style=\"text-align: right;\">\n",
       "      <th></th>\n",
       "      <th>review_id</th>\n",
       "      <th>review</th>\n",
       "      <th>rating</th>\n",
       "    </tr>\n",
       "  </thead>\n",
       "  <tbody>\n",
       "  </tbody>\n",
       "</table>\n",
       "</div>"
      ],
      "text/plain": [
       "Empty DataFrame\n",
       "Columns: [review_id, review, rating]\n",
       "Index: []"
      ]
     },
     "execution_count": 38,
     "metadata": {},
     "output_type": "execute_result"
    }
   ],
   "source": [
    "df[df['review'].str.match(r'^[\\s]+$')]"
   ]
  },
  {
   "cell_type": "code",
   "execution_count": 40,
   "metadata": {},
   "outputs": [],
   "source": [
    "df.to_csv(dest+'trainbest.csv', index=False)"
   ]
  }
 ],
 "metadata": {
  "kernelspec": {
   "display_name": "Python 3",
   "language": "python",
   "name": "python3"
  },
  "language_info": {
   "codemirror_mode": {
    "name": "ipython",
    "version": 3
   },
   "file_extension": ".py",
   "mimetype": "text/x-python",
   "name": "python",
   "nbconvert_exporter": "python",
   "pygments_lexer": "ipython3",
   "version": "3.7.7"
  }
 },
 "nbformat": 4,
 "nbformat_minor": 4
}
