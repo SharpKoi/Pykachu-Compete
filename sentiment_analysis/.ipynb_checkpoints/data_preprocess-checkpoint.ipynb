{
 "cells": [
  {
   "cell_type": "markdown",
   "metadata": {},
   "source": [
    "# Data pre-processing"
   ]
  },
  {
   "cell_type": "markdown",
   "metadata": {},
   "source": [
    "## Import packages"
   ]
  },
  {
   "cell_type": "code",
   "execution_count": 110,
   "metadata": {},
   "outputs": [],
   "source": [
    "import pandas as pd\n",
    "import numpy as np\n",
    "import re\n",
    "pd.set_option('display.max_colwidth', 0)"
   ]
  },
  {
   "cell_type": "markdown",
   "metadata": {},
   "source": [
    "## Read data from .csv"
   ]
  },
  {
   "cell_type": "code",
   "execution_count": 111,
   "metadata": {},
   "outputs": [],
   "source": [
    "train_df = pd.read_csv('data/train.csv')\n",
    "test_df = pd.read_csv('data/test.csv')"
   ]
  },
  {
   "cell_type": "markdown",
   "metadata": {},
   "source": [
    "## Make a copy to operate"
   ]
  },
  {
   "cell_type": "code",
   "execution_count": 123,
   "metadata": {},
   "outputs": [],
   "source": [
    "train = train_df.copy()\n",
    "test = test_df.copy()"
   ]
  },
  {
   "cell_type": "code",
   "execution_count": 124,
   "metadata": {},
   "outputs": [
    {
     "data": {
      "text/html": [
       "<div>\n",
       "<style scoped>\n",
       "    .dataframe tbody tr th:only-of-type {\n",
       "        vertical-align: middle;\n",
       "    }\n",
       "\n",
       "    .dataframe tbody tr th {\n",
       "        vertical-align: top;\n",
       "    }\n",
       "\n",
       "    .dataframe thead th {\n",
       "        text-align: right;\n",
       "    }\n",
       "</style>\n",
       "<table border=\"1\" class=\"dataframe\">\n",
       "  <thead>\n",
       "    <tr style=\"text-align: right;\">\n",
       "      <th></th>\n",
       "      <th>review_id</th>\n",
       "      <th>review</th>\n",
       "      <th>rating</th>\n",
       "    </tr>\n",
       "  </thead>\n",
       "  <tbody>\n",
       "    <tr>\n",
       "      <th>0</th>\n",
       "      <td>0</td>\n",
       "      <td>Ga disappointed neat products .. Meletot Hilsnyaa Speed ​​of delivery is good.</td>\n",
       "      <td>1</td>\n",
       "    </tr>\n",
       "    <tr>\n",
       "      <th>1</th>\n",
       "      <td>1</td>\n",
       "      <td>Rdtanya replace broken glass, broken chargernya</td>\n",
       "      <td>1</td>\n",
       "    </tr>\n",
       "    <tr>\n",
       "      <th>2</th>\n",
       "      <td>2</td>\n",
       "      <td>Nyesel bngt dsni shopping antecedent photo message pictures gk according foto.di existing collagen super fit nyampe holo my house open ehhh collagen contents even in the face pdahal jg description super existing collagen originalnya.pas writing my check lg in photo captions already ma The change ma pictures that the face.</td>\n",
       "      <td>1</td>\n",
       "    </tr>\n",
       "    <tr>\n",
       "      <th>3</th>\n",
       "      <td>3</td>\n",
       "      <td>Sent a light blue suit goods ga want a refund</td>\n",
       "      <td>1</td>\n",
       "    </tr>\n",
       "    <tr>\n",
       "      <th>4</th>\n",
       "      <td>4</td>\n",
       "      <td>Pendants came with dents and scratches on its surface. The coating looks like it will change colour quickly.</td>\n",
       "      <td>1</td>\n",
       "    </tr>\n",
       "  </tbody>\n",
       "</table>\n",
       "</div>"
      ],
      "text/plain": [
       "   review_id  \\\n",
       "0  0           \n",
       "1  1           \n",
       "2  2           \n",
       "3  3           \n",
       "4  4           \n",
       "\n",
       "                                                                                                                                                                                                                                                                                                                                review  \\\n",
       "0  Ga disappointed neat products .. Meletot Hilsnyaa Speed ​​of delivery is good.                                                                                                                                                                                                                                                        \n",
       "1  Rdtanya replace broken glass, broken chargernya                                                                                                                                                                                                                                                                                       \n",
       "2  Nyesel bngt dsni shopping antecedent photo message pictures gk according foto.di existing collagen super fit nyampe holo my house open ehhh collagen contents even in the face pdahal jg description super existing collagen originalnya.pas writing my check lg in photo captions already ma The change ma pictures that the face.   \n",
       "3  Sent a light blue suit goods ga want a refund                                                                                                                                                                                                                                                                                         \n",
       "4  Pendants came with dents and scratches on its surface. The coating looks like it will change colour quickly.                                                                                                                                                                                                                          \n",
       "\n",
       "   rating  \n",
       "0  1       \n",
       "1  1       \n",
       "2  1       \n",
       "3  1       \n",
       "4  1       "
      ]
     },
     "execution_count": 124,
     "metadata": {},
     "output_type": "execute_result"
    }
   ],
   "source": [
    "# check if success on reading data\n",
    "train.head()"
   ]
  },
  {
   "cell_type": "markdown",
   "metadata": {},
   "source": [
    "## Clean data"
   ]
  },
  {
   "cell_type": "markdown",
   "metadata": {},
   "source": [
    "### Initially clean data"
   ]
  },
  {
   "cell_type": "code",
   "execution_count": 125,
   "metadata": {},
   "outputs": [],
   "source": [
    "def initially_clean(df):\n",
    "    df.drop('review_id', axis=1, inplace=True)\n",
    "    df['review'] = df['review'].str.strip().str.lower()"
   ]
  },
  {
   "cell_type": "code",
   "execution_count": 126,
   "metadata": {},
   "outputs": [],
   "source": [
    "initially_clean(train)\n",
    "initially_clean(test)"
   ]
  },
  {
   "cell_type": "markdown",
   "metadata": {},
   "source": [
    "### Save the initially cleaned data"
   ]
  },
  {
   "cell_type": "code",
   "execution_count": 127,
   "metadata": {},
   "outputs": [],
   "source": [
    "train_apostrophe = train.copy()\n",
    "test_apostrophe = test.copy()"
   ]
  },
  {
   "cell_type": "code",
   "execution_count": 159,
   "metadata": {},
   "outputs": [],
   "source": [
    "train_apostrophe.to_csv('data/cleaned_data/train_symbols.csv', index=False)\n",
    "test_apostrophe.to_csv('data/cleaned_data/test_symbols.csv', index=False)"
   ]
  },
  {
   "cell_type": "markdown",
   "metadata": {},
   "source": [
    "### Clean some meaningless symbol\n",
    "Note that we want to exclude all the meaningless symbol except the emoji😂 since emoji😂 can be a feature for sentiment."
   ]
  },
  {
   "cell_type": "code",
   "execution_count": 135,
   "metadata": {},
   "outputs": [],
   "source": [
    "symbol_list = [chr(i) for i in range(33, 48)]\n",
    "symbol_list.extend([chr(i) for i in range(58, 65)])\n",
    "symbol_list.extend([chr(i) for i in range(91, 97)])\n",
    "symbol_list.extend([chr(i) for i in range(123, 127)])"
   ]
  },
  {
   "cell_type": "code",
   "execution_count": 137,
   "metadata": {},
   "outputs": [],
   "source": [
    "def clean_ascii_symbols(df, col):\n",
    "    for s in symbol_list:\n",
    "        df[col] = df[col].str.replace(s, '')"
   ]
  },
  {
   "cell_type": "code",
   "execution_count": 140,
   "metadata": {},
   "outputs": [],
   "source": [
    "clean_ascii_symbols(train, 'review')\n",
    "clean_ascii_symbols(test, 'review')"
   ]
  },
  {
   "cell_type": "markdown",
   "metadata": {},
   "source": [
    "### Clean all the rows with blank review"
   ]
  },
  {
   "cell_type": "code",
   "execution_count": 146,
   "metadata": {},
   "outputs": [],
   "source": [
    "# remove the rows with blank review\n",
    "def clean_blank_rows(df, col):\n",
    "    blank_index_list = df[df[col].str.match('^[^\\S]*$')].index\n",
    "    df.drop(blank_index_list, inplace=True)"
   ]
  },
  {
   "cell_type": "code",
   "execution_count": 147,
   "metadata": {},
   "outputs": [],
   "source": [
    "clean_blank_rows(train, 'review')\n",
    "clean_blank_rows(test, 'review')"
   ]
  },
  {
   "cell_type": "code",
   "execution_count": 155,
   "metadata": {},
   "outputs": [
    {
     "data": {
      "text/html": [
       "<div>\n",
       "<style scoped>\n",
       "    .dataframe tbody tr th:only-of-type {\n",
       "        vertical-align: middle;\n",
       "    }\n",
       "\n",
       "    .dataframe tbody tr th {\n",
       "        vertical-align: top;\n",
       "    }\n",
       "\n",
       "    .dataframe thead th {\n",
       "        text-align: right;\n",
       "    }\n",
       "</style>\n",
       "<table border=\"1\" class=\"dataframe\">\n",
       "  <thead>\n",
       "    <tr style=\"text-align: right;\">\n",
       "      <th></th>\n",
       "      <th>review</th>\n",
       "      <th>rating</th>\n",
       "    </tr>\n",
       "  </thead>\n",
       "  <tbody>\n",
       "    <tr>\n",
       "      <th>34054</th>\n",
       "      <td>quickly up good product seller friendly</td>\n",
       "      <td>3</td>\n",
       "    </tr>\n",
       "    <tr>\n",
       "      <th>29493</th>\n",
       "      <td>good quality of goods packaging is perfect looks very texture but little other big stars are great</td>\n",
       "      <td>3</td>\n",
       "    </tr>\n",
       "    <tr>\n",
       "      <th>123392</th>\n",
       "      <td>has been successfully completed through sensitive shipping good quality products</td>\n",
       "      <td>5</td>\n",
       "    </tr>\n",
       "    <tr>\n",
       "      <th>62924</th>\n",
       "      <td>thanks for the goods have been received</td>\n",
       "      <td>3</td>\n",
       "    </tr>\n",
       "    <tr>\n",
       "      <th>8149</th>\n",
       "      <td>this does not cover  its not like a sponge for polishing but it made me a sponge thoks why im here so i cut sales but the pressure to perform well as for you</td>\n",
       "      <td>1</td>\n",
       "    </tr>\n",
       "    <tr>\n",
       "      <th>49189</th>\n",
       "      <td>goods have been received good to order good seller</td>\n",
       "      <td>3</td>\n",
       "    </tr>\n",
       "    <tr>\n",
       "      <th>48437</th>\n",
       "      <td>weight slippers turns</td>\n",
       "      <td>3</td>\n",
       "    </tr>\n",
       "    <tr>\n",
       "      <th>118720</th>\n",
       "      <td>excellent quality very accommodating seller wellpackaged item shipped immediately item shipped immediately item shipped immediately item shipped immediately item shipped immediately item shipped immediately item shipped immediately item shipped immediately will order again</td>\n",
       "      <td>5</td>\n",
       "    </tr>\n",
       "    <tr>\n",
       "      <th>136524</th>\n",
       "      <td>excellent service by seller</td>\n",
       "      <td>5</td>\n",
       "    </tr>\n",
       "    <tr>\n",
       "      <th>139401</th>\n",
       "      <td>the product quality is excellent the original product the product price is very good delivery speed is very baik☺️⭐⭐⭐⭐⭐</td>\n",
       "      <td>5</td>\n",
       "    </tr>\n",
       "    <tr>\n",
       "      <th>46071</th>\n",
       "      <td>thx the goods have arrived with perfect timing cheap and satisfying</td>\n",
       "      <td>3</td>\n",
       "    </tr>\n",
       "    <tr>\n",
       "      <th>14972</th>\n",
       "      <td>ok quality</td>\n",
       "      <td>2</td>\n",
       "    </tr>\n",
       "    <tr>\n",
       "      <th>120221</th>\n",
       "      <td>good quality just no box included</td>\n",
       "      <td>5</td>\n",
       "    </tr>\n",
       "    <tr>\n",
       "      <th>49337</th>\n",
       "      <td>his delivery longer possible because of foreign passable goods</td>\n",
       "      <td>3</td>\n",
       "    </tr>\n",
       "    <tr>\n",
       "      <th>74029</th>\n",
       "      <td>good like the perfect picture 🥰🥰🥰</td>\n",
       "      <td>4</td>\n",
       "    </tr>\n",
       "    <tr>\n",
       "      <th>68553</th>\n",
       "      <td>⭐⭐⭐⭐⭐produk seller response okesesuai expectations  too expensive  thats sis definitely want to return ☹️</td>\n",
       "      <td>4</td>\n",
       "    </tr>\n",
       "    <tr>\n",
       "      <th>133889</th>\n",
       "      <td>tuyệttttttttttttttttttttt vờiiiiiiiiiiiiiiiiiiiiiiii</td>\n",
       "      <td>5</td>\n",
       "    </tr>\n",
       "    <tr>\n",
       "      <th>755</th>\n",
       "      <td>sorry about sy cm 1 star sj love because sy upset condition of the goods of cardboard that already koyak2 and filthy dirty jg kompor berminyak bau and the top just as the brown wrna ituhrsnya kl bhn of stenlis the shiny new wktu her</td>\n",
       "      <td>1</td>\n",
       "    </tr>\n",
       "    <tr>\n",
       "      <th>142019</th>\n",
       "      <td>very speedy delivery original products the price is cheap</td>\n",
       "      <td>5</td>\n",
       "    </tr>\n",
       "    <tr>\n",
       "      <th>104182</th>\n",
       "      <td>worth buying cool cloth</td>\n",
       "      <td>4</td>\n",
       "    </tr>\n",
       "    <tr>\n",
       "      <th>97337</th>\n",
       "      <td>recommenda seller all was good  security product is also nice</td>\n",
       "      <td>4</td>\n",
       "    </tr>\n",
       "    <tr>\n",
       "      <th>8261</th>\n",
       "      <td>the product quality is not good thin blanket material bgt</td>\n",
       "      <td>1</td>\n",
       "    </tr>\n",
       "    <tr>\n",
       "      <th>62628</th>\n",
       "      <td>good delivery speed</td>\n",
       "      <td>3</td>\n",
       "    </tr>\n",
       "    <tr>\n",
       "      <th>13249</th>\n",
       "      <td>hps battery is depleted ga ga can be charged and can be in use anymore so the carcass home  the quality matches the price</td>\n",
       "      <td>1</td>\n",
       "    </tr>\n",
       "    <tr>\n",
       "      <th>116202</th>\n",
       "      <td>good product quality good value for money</td>\n",
       "      <td>5</td>\n",
       "    </tr>\n",
       "    <tr>\n",
       "      <th>145672</th>\n",
       "      <td>💋sp too great</td>\n",
       "      <td>5</td>\n",
       "    </tr>\n",
       "    <tr>\n",
       "      <th>92226</th>\n",
       "      <td>super super fast shipment of a good seller thank you for your awesome speed of the ship awesome awesome quality goods cp value awesome service</td>\n",
       "      <td>4</td>\n",
       "    </tr>\n",
       "    <tr>\n",
       "      <th>88555</th>\n",
       "      <td>has been well received thanks kak hopefully successful shop always</td>\n",
       "      <td>4</td>\n",
       "    </tr>\n",
       "    <tr>\n",
       "      <th>46996</th>\n",
       "      <td>pants fit like flavor syrup receive pictures but remember to be washed</td>\n",
       "      <td>3</td>\n",
       "    </tr>\n",
       "    <tr>\n",
       "      <th>111622</th>\n",
       "      <td>shopee express super fast deliveryitem received in good condition and well packaging thank you so much for the newbie free gift 💕</td>\n",
       "      <td>5</td>\n",
       "    </tr>\n",
       "  </tbody>\n",
       "</table>\n",
       "</div>"
      ],
      "text/plain": [
       "                                                                                                                                                                                                                                                                                   review  \\\n",
       "34054   quickly up good product seller friendly                                                                                                                                                                                                                                             \n",
       "29493   good quality of goods packaging is perfect looks very texture but little other big stars are great                                                                                                                                                                                  \n",
       "123392  has been successfully completed through sensitive shipping good quality products                                                                                                                                                                                                    \n",
       "62924   thanks for the goods have been received                                                                                                                                                                                                                                             \n",
       "8149    this does not cover  its not like a sponge for polishing but it made me a sponge thoks why im here so i cut sales but the pressure to perform well as for you                                                                                                                       \n",
       "49189   goods have been received good to order good seller                                                                                                                                                                                                                                  \n",
       "48437   weight slippers turns                                                                                                                                                                                                                                                               \n",
       "118720  excellent quality very accommodating seller wellpackaged item shipped immediately item shipped immediately item shipped immediately item shipped immediately item shipped immediately item shipped immediately item shipped immediately item shipped immediately will order again   \n",
       "136524  excellent service by seller                                                                                                                                                                                                                                                         \n",
       "139401  the product quality is excellent the original product the product price is very good delivery speed is very baik☺️⭐⭐⭐⭐⭐                                                                                                                                                             \n",
       "46071   thx the goods have arrived with perfect timing cheap and satisfying                                                                                                                                                                                                                 \n",
       "14972   ok quality                                                                                                                                                                                                                                                                          \n",
       "120221  good quality just no box included                                                                                                                                                                                                                                                   \n",
       "49337   his delivery longer possible because of foreign passable goods                                                                                                                                                                                                                      \n",
       "74029   good like the perfect picture 🥰🥰🥰                                                                                                                                                                                                                                                   \n",
       "68553   ⭐⭐⭐⭐⭐produk seller response okesesuai expectations  too expensive  thats sis definitely want to return ☹️                                                                                                                                                                           \n",
       "133889  tuyệttttttttttttttttttttt vờiiiiiiiiiiiiiiiiiiiiiiii                                                                                                                                                                                                                                \n",
       "755     sorry about sy cm 1 star sj love because sy upset condition of the goods of cardboard that already koyak2 and filthy dirty jg kompor berminyak bau and the top just as the brown wrna ituhrsnya kl bhn of stenlis the shiny new wktu her                                            \n",
       "142019  very speedy delivery original products the price is cheap                                                                                                                                                                                                                           \n",
       "104182  worth buying cool cloth                                                                                                                                                                                                                                                             \n",
       "97337   recommenda seller all was good  security product is also nice                                                                                                                                                                                                                       \n",
       "8261    the product quality is not good thin blanket material bgt                                                                                                                                                                                                                           \n",
       "62628   good delivery speed                                                                                                                                                                                                                                                                 \n",
       "13249   hps battery is depleted ga ga can be charged and can be in use anymore so the carcass home  the quality matches the price                                                                                                                                                           \n",
       "116202  good product quality good value for money                                                                                                                                                                                                                                           \n",
       "145672  💋sp too great                                                                                                                                                                                                                                                                       \n",
       "92226   super super fast shipment of a good seller thank you for your awesome speed of the ship awesome awesome quality goods cp value awesome service                                                                                                                                      \n",
       "88555   has been well received thanks kak hopefully successful shop always                                                                                                                                                                                                                  \n",
       "46996   pants fit like flavor syrup receive pictures but remember to be washed                                                                                                                                                                                                              \n",
       "111622  shopee express super fast deliveryitem received in good condition and well packaging thank you so much for the newbie free gift 💕                                                                                                                                                   \n",
       "\n",
       "        rating  \n",
       "34054   3       \n",
       "29493   3       \n",
       "123392  5       \n",
       "62924   3       \n",
       "8149    1       \n",
       "49189   3       \n",
       "48437   3       \n",
       "118720  5       \n",
       "136524  5       \n",
       "139401  5       \n",
       "46071   3       \n",
       "14972   2       \n",
       "120221  5       \n",
       "49337   3       \n",
       "74029   4       \n",
       "68553   4       \n",
       "133889  5       \n",
       "755     1       \n",
       "142019  5       \n",
       "104182  4       \n",
       "97337   4       \n",
       "8261    1       \n",
       "62628   3       \n",
       "13249   1       \n",
       "116202  5       \n",
       "145672  5       \n",
       "92226   4       \n",
       "88555   4       \n",
       "46996   3       \n",
       "111622  5       "
      ]
     },
     "execution_count": 155,
     "metadata": {},
     "output_type": "execute_result"
    }
   ],
   "source": [
    "# pick 30 samples to check if they looks good\n",
    "train.sample(30)"
   ]
  },
  {
   "cell_type": "markdown",
   "metadata": {},
   "source": [
    "### Save the symbols cleaned data"
   ]
  },
  {
   "cell_type": "code",
   "execution_count": 160,
   "metadata": {},
   "outputs": [],
   "source": [
    "train.to_csv('data/cleaned_data/train_nosymbols.csv', index=False)\n",
    "test.to_csv('data/cleaned_data/test_nosymbols.csv', index=False)"
   ]
  }
 ],
 "metadata": {
  "kernelspec": {
   "display_name": "Python 3",
   "language": "python",
   "name": "python3"
  },
  "language_info": {
   "codemirror_mode": {
    "name": "ipython",
    "version": 3
   },
   "file_extension": ".py",
   "mimetype": "text/x-python",
   "name": "python",
   "nbconvert_exporter": "python",
   "pygments_lexer": "ipython3",
   "version": "3.7.7"
  }
 },
 "nbformat": 4,
 "nbformat_minor": 4
}
