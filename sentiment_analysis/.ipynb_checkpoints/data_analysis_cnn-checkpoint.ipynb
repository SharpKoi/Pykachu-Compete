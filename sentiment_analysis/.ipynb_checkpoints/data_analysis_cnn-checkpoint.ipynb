{
 "cells": [
  {
   "cell_type": "markdown",
   "metadata": {},
   "source": [
    "# Data Analysis"
   ]
  },
  {
   "cell_type": "markdown",
   "metadata": {},
   "source": [
    "## Import packages"
   ]
  },
  {
   "cell_type": "code",
   "execution_count": 90,
   "metadata": {},
   "outputs": [],
   "source": [
    "import os\n",
    "\n",
    "import numpy as np\n",
    "import pandas as pd\n",
    "import re\n",
    "\n",
    "import matplotlib.pyplot as plt\n",
    "import plotly.express as px\n",
    "import plotly.graph_objects as go\n",
    "from plotly.subplots import make_subplots\n",
    "\n",
    "from sklearn.model_selection import train_test_split\n",
    "\n",
    "import tensorflow as tf\n",
    "\n",
    "from keras.preprocessing.text import Tokenizer\n",
    "from keras.preprocessing.sequence import pad_sequences\n",
    "from keras.utils.np_utils import to_categorical\n",
    "from keras.utils import plot_model\n",
    "from keras.layers import Dense, Input, Flatten\n",
    "from keras.layers import Conv1D, GlobalMaxPooling1D, MaxPooling1D, Embedding, Dropout\n",
    "from keras.models import Model\n",
    "from keras.callbacks import ModelCheckpoint"
   ]
  },
  {
   "cell_type": "markdown",
   "metadata": {},
   "source": [
    "## Define constants"
   ]
  },
  {
   "cell_type": "code",
   "execution_count": 3,
   "metadata": {},
   "outputs": [],
   "source": [
    "MAX_VOCABULARY_NUM = 200000\n",
    "WORD_SEQUENCE_LENGTH = 1000\n",
    "EMBEDDING_DIM = 100\n",
    "LABEL_NUM = 5"
   ]
  },
  {
   "cell_type": "markdown",
   "metadata": {},
   "source": [
    "## Read data"
   ]
  },
  {
   "cell_type": "code",
   "execution_count": 4,
   "metadata": {},
   "outputs": [
    {
     "data": {
      "text/html": [
       "<div>\n",
       "<style scoped>\n",
       "    .dataframe tbody tr th:only-of-type {\n",
       "        vertical-align: middle;\n",
       "    }\n",
       "\n",
       "    .dataframe tbody tr th {\n",
       "        vertical-align: top;\n",
       "    }\n",
       "\n",
       "    .dataframe thead th {\n",
       "        text-align: right;\n",
       "    }\n",
       "</style>\n",
       "<table border=\"1\" class=\"dataframe\">\n",
       "  <thead>\n",
       "    <tr style=\"text-align: right;\">\n",
       "      <th></th>\n",
       "      <th>review_id</th>\n",
       "      <th>review</th>\n",
       "      <th>rating</th>\n",
       "    </tr>\n",
       "  </thead>\n",
       "  <tbody>\n",
       "    <tr>\n",
       "      <th>89972</th>\n",
       "      <td>89972</td>\n",
       "      <td>In production from 2016 to 2019. OLD BOX - PAP...</td>\n",
       "      <td>4</td>\n",
       "    </tr>\n",
       "    <tr>\n",
       "      <th>25785</th>\n",
       "      <td>25785</td>\n",
       "      <td>Mesh and sutures lepas😢</td>\n",
       "      <td>2</td>\n",
       "    </tr>\n",
       "    <tr>\n",
       "      <th>15755</th>\n",
       "      <td>15755</td>\n",
       "      <td>Cain lovely but small size .. for which I buy ...</td>\n",
       "      <td>2</td>\n",
       "    </tr>\n",
       "    <tr>\n",
       "      <th>80347</th>\n",
       "      <td>80347</td>\n",
       "      <td>Wonderful lady boss! Fast response and goods r...</td>\n",
       "      <td>4</td>\n",
       "    </tr>\n",
       "    <tr>\n",
       "      <th>121111</th>\n",
       "      <td>121111</td>\n",
       "      <td>Direct dipakee ni sand and can only be made us...</td>\n",
       "      <td>5</td>\n",
       "    </tr>\n",
       "    <tr>\n",
       "      <th>74364</th>\n",
       "      <td>74364</td>\n",
       "      <td>Good product quality Fast seller response Fast...</td>\n",
       "      <td>4</td>\n",
       "    </tr>\n",
       "    <tr>\n",
       "      <th>135580</th>\n",
       "      <td>135580</td>\n",
       "      <td>Good, to order .. Always satisfying shopping i...</td>\n",
       "      <td>5</td>\n",
       "    </tr>\n",
       "    <tr>\n",
       "      <th>41644</th>\n",
       "      <td>41644</td>\n",
       "      <td>Although cheap .... luxury tpi</td>\n",
       "      <td>3</td>\n",
       "    </tr>\n",
       "    <tr>\n",
       "      <th>5108</th>\n",
       "      <td>5108</td>\n",
       "      <td>Product quality is poor</td>\n",
       "      <td>1</td>\n",
       "    </tr>\n",
       "    <tr>\n",
       "      <th>94175</th>\n",
       "      <td>94175</td>\n",
       "      <td>Pungent smell</td>\n",
       "      <td>4</td>\n",
       "    </tr>\n",
       "  </tbody>\n",
       "</table>\n",
       "</div>"
      ],
      "text/plain": [
       "        review_id                                             review  rating\n",
       "89972       89972  In production from 2016 to 2019. OLD BOX - PAP...       4\n",
       "25785       25785                            Mesh and sutures lepas😢       2\n",
       "15755       15755  Cain lovely but small size .. for which I buy ...       2\n",
       "80347       80347  Wonderful lady boss! Fast response and goods r...       4\n",
       "121111     121111  Direct dipakee ni sand and can only be made us...       5\n",
       "74364       74364  Good product quality Fast seller response Fast...       4\n",
       "135580     135580  Good, to order .. Always satisfying shopping i...       5\n",
       "41644       41644                     Although cheap .... luxury tpi       3\n",
       "5108         5108                            Product quality is poor       1\n",
       "94175       94175                                      Pungent smell       4"
      ]
     },
     "execution_count": 4,
     "metadata": {},
     "output_type": "execute_result"
    }
   ],
   "source": [
    "_df = pd.read_csv('data/train.csv')\n",
    "_df.sample(10)"
   ]
  },
  {
   "cell_type": "code",
   "execution_count": 5,
   "metadata": {},
   "outputs": [],
   "source": [
    "df = _df.copy()"
   ]
  },
  {
   "cell_type": "markdown",
   "metadata": {},
   "source": [
    "## Clean data initially"
   ]
  },
  {
   "cell_type": "code",
   "execution_count": 6,
   "metadata": {},
   "outputs": [
    {
     "data": {
      "text/html": [
       "<div>\n",
       "<style scoped>\n",
       "    .dataframe tbody tr th:only-of-type {\n",
       "        vertical-align: middle;\n",
       "    }\n",
       "\n",
       "    .dataframe tbody tr th {\n",
       "        vertical-align: top;\n",
       "    }\n",
       "\n",
       "    .dataframe thead th {\n",
       "        text-align: right;\n",
       "    }\n",
       "</style>\n",
       "<table border=\"1\" class=\"dataframe\">\n",
       "  <thead>\n",
       "    <tr style=\"text-align: right;\">\n",
       "      <th></th>\n",
       "      <th>review</th>\n",
       "      <th>rating</th>\n",
       "    </tr>\n",
       "  </thead>\n",
       "  <tbody>\n",
       "    <tr>\n",
       "      <th>6794</th>\n",
       "      <td>children shovel</td>\n",
       "      <td>1</td>\n",
       "    </tr>\n",
       "    <tr>\n",
       "      <th>31368</th>\n",
       "      <td>seller friendly, hrga trjngkau..cm same thin m...</td>\n",
       "      <td>3</td>\n",
       "    </tr>\n",
       "    <tr>\n",
       "      <th>94018</th>\n",
       "      <td>successfully reloaded. tq !</td>\n",
       "      <td>4</td>\n",
       "    </tr>\n",
       "    <tr>\n",
       "      <th>9841</th>\n",
       "      <td>items same picture the fabric was loose in the...</td>\n",
       "      <td>1</td>\n",
       "    </tr>\n",
       "    <tr>\n",
       "      <th>133042</th>\n",
       "      <td>the original product, sticker cutting hargq ch...</td>\n",
       "      <td>5</td>\n",
       "    </tr>\n",
       "  </tbody>\n",
       "</table>\n",
       "</div>"
      ],
      "text/plain": [
       "                                                   review  rating\n",
       "6794                                      children shovel       1\n",
       "31368   seller friendly, hrga trjngkau..cm same thin m...       3\n",
       "94018                         successfully reloaded. tq !       4\n",
       "9841    items same picture the fabric was loose in the...       1\n",
       "133042  the original product, sticker cutting hargq ch...       5"
      ]
     },
     "execution_count": 6,
     "metadata": {},
     "output_type": "execute_result"
    }
   ],
   "source": [
    "df.drop('review_id', axis=1, inplace=True)\n",
    "df['review'] = df['review'].str.strip().str.lower()\n",
    "df.sample(5)"
   ]
  },
  {
   "cell_type": "code",
   "execution_count": 7,
   "metadata": {},
   "outputs": [],
   "source": [
    "# replace the unicode space into space\n",
    "df['review'] = df['review'].str.replace(u'\\u200b', ' ')"
   ]
  },
  {
   "cell_type": "code",
   "execution_count": 8,
   "metadata": {},
   "outputs": [
    {
     "data": {
      "text/html": [
       "<div>\n",
       "<style scoped>\n",
       "    .dataframe tbody tr th:only-of-type {\n",
       "        vertical-align: middle;\n",
       "    }\n",
       "\n",
       "    .dataframe tbody tr th {\n",
       "        vertical-align: top;\n",
       "    }\n",
       "\n",
       "    .dataframe thead th {\n",
       "        text-align: right;\n",
       "    }\n",
       "</style>\n",
       "<table border=\"1\" class=\"dataframe\">\n",
       "  <thead>\n",
       "    <tr style=\"text-align: right;\">\n",
       "      <th></th>\n",
       "      <th>review</th>\n",
       "      <th>rating</th>\n",
       "    </tr>\n",
       "  </thead>\n",
       "  <tbody>\n",
       "    <tr>\n",
       "      <th>10683</th>\n",
       "      <td>set of 7 no goods shop is right, why take writ...</td>\n",
       "      <td>0</td>\n",
       "    </tr>\n",
       "    <tr>\n",
       "      <th>7452</th>\n",
       "      <td>it's not a full glue 🙄</td>\n",
       "      <td>0</td>\n",
       "    </tr>\n",
       "    <tr>\n",
       "      <th>5410</th>\n",
       "      <td>it merits sew the zipper pull is not distorted...</td>\n",
       "      <td>0</td>\n",
       "    </tr>\n",
       "    <tr>\n",
       "      <th>6284</th>\n",
       "      <td>delivery ,, old, morbidly knp through j &amp; t aj...</td>\n",
       "      <td>0</td>\n",
       "    </tr>\n",
       "    <tr>\n",
       "      <th>14023</th>\n",
       "      <td>i've often order these stores, fast delivery b...</td>\n",
       "      <td>0</td>\n",
       "    </tr>\n",
       "    <tr>\n",
       "      <th>6158</th>\n",
       "      <td>not working,</td>\n",
       "      <td>0</td>\n",
       "    </tr>\n",
       "    <tr>\n",
       "      <th>10311</th>\n",
       "      <td>fabric hot, thin, being ruffled.</td>\n",
       "      <td>0</td>\n",
       "    </tr>\n",
       "    <tr>\n",
       "      <th>4795</th>\n",
       "      <td>fast delivery, good enough but turned out to b...</td>\n",
       "      <td>0</td>\n",
       "    </tr>\n",
       "    <tr>\n",
       "      <th>2436</th>\n",
       "      <td>good materials appropriate pricing, thin pocke...</td>\n",
       "      <td>0</td>\n",
       "    </tr>\n",
       "    <tr>\n",
       "      <th>12504</th>\n",
       "      <td>now why some repack yes when orders that no re...</td>\n",
       "      <td>0</td>\n",
       "    </tr>\n",
       "  </tbody>\n",
       "</table>\n",
       "</div>"
      ],
      "text/plain": [
       "                                                  review  rating\n",
       "10683  set of 7 no goods shop is right, why take writ...       0\n",
       "7452                              it's not a full glue 🙄       0\n",
       "5410   it merits sew the zipper pull is not distorted...       0\n",
       "6284   delivery ,, old, morbidly knp through j & t aj...       0\n",
       "14023  i've often order these stores, fast delivery b...       0\n",
       "6158                                        not working,       0\n",
       "10311                   fabric hot, thin, being ruffled.       0\n",
       "4795   fast delivery, good enough but turned out to b...       0\n",
       "2436   good materials appropriate pricing, thin pocke...       0\n",
       "12504  now why some repack yes when orders that no re...       0"
      ]
     },
     "execution_count": 8,
     "metadata": {},
     "output_type": "execute_result"
    }
   ],
   "source": [
    "# rating to index\n",
    "df['rating'] = df['rating'] - 1\n",
    "df[df['rating'] == 0].sample(10)"
   ]
  },
  {
   "cell_type": "markdown",
   "metadata": {},
   "source": [
    "## Transform data and labels into machine-recognizable data"
   ]
  },
  {
   "cell_type": "code",
   "execution_count": 9,
   "metadata": {},
   "outputs": [
    {
     "name": "stdout",
     "output_type": "stream",
     "text": [
      "['ga disappointed neat products .. meletot hilsnyaa speed   of delivery is good.', 'rdtanya replace broken glass, broken chargernya', 'nyesel bngt dsni shopping antecedent photo message pictures gk according foto.di existing collagen super fit nyampe holo my house open ehhh collagen contents even in the face pdahal jg description super existing collagen originalnya.pas writing my check lg in photo captions already ma the change ma pictures that the face.', 'sent a light blue suit goods ga want a refund', 'pendants came with dents and scratches on its surface. the coating looks like it will change colour quickly.']\n",
      "[0, 0, 0, 0, 0]\n"
     ]
    }
   ],
   "source": [
    "texts = df['review'].tolist()\n",
    "labels = df['rating'].tolist()\n",
    "print(texts[:5])\n",
    "print(labels[:5])"
   ]
  },
  {
   "cell_type": "code",
   "execution_count": 10,
   "metadata": {},
   "outputs": [],
   "source": [
    "text_arr = np.array(texts)\n",
    "label_arr = np.array(labels)"
   ]
  },
  {
   "cell_type": "code",
   "execution_count": 11,
   "metadata": {},
   "outputs": [],
   "source": [
    "# 隨機挑四萬筆出來訓練\n",
    "random_index = np.random.choice([i for i in range(len(df))], 40000, replace=False)\n",
    "train_texts = text_arr[random_index]\n",
    "train_labels = label_arr[random_index]"
   ]
  },
  {
   "cell_type": "code",
   "execution_count": 12,
   "metadata": {},
   "outputs": [],
   "source": [
    "train_texts = train_texts.tolist()\n",
    "train_labels = train_labels.tolist()"
   ]
  },
  {
   "cell_type": "code",
   "execution_count": 13,
   "metadata": {},
   "outputs": [
    {
     "name": "stdout",
     "output_type": "stream",
     "text": [
      "Total vocabulary numbers:  31378\n"
     ]
    }
   ],
   "source": [
    "tokenizer = Tokenizer(num_words=MAX_VOCABULARY_NUM)\n",
    "tokenizer.fit_on_texts(train_texts)\n",
    "word_sequences = tokenizer.texts_to_sequences(train_texts)\n",
    "\n",
    "word_id_dict = tokenizer.word_index\n",
    "print('Total vocabulary numbers: ', len(word_id_dict))"
   ]
  },
  {
   "cell_type": "code",
   "execution_count": 14,
   "metadata": {},
   "outputs": [
    {
     "data": {
      "text/plain": [
       "['pants belly than his rather wide, unlike the sample images. shop full delivery, packaging certainly',\n",
       " 'with rubbing wear nakakhilo',\n",
       " 'the quality of the product has good charts charger to be watched again that it will last for overall okay, good transportation service from ceaa.',\n",
       " 'awesome speed of the ship awesome awesome quality merchandise value cp',\n",
       " 'super pretty. shop also get free gifts. will support long-term shop. product packaging to make sure',\n",
       " 'the product quality is not good. the product quality is not good. the product quality is not good.',\n",
       " 'i have received the goods in accordance with the order, thanks',\n",
       " 'delivery took longer time than we expected. delivery by ninjavan was good. both tables were good and stable. happy with the purchase. only the white table had some brown stains, as shown in the attached picture.',\n",
       " 'thick material. am very satisfied. jd deserve subscriptions',\n",
       " 'poor delivery speed seller unfavorable response']"
      ]
     },
     "execution_count": 14,
     "metadata": {},
     "output_type": "execute_result"
    }
   ],
   "source": [
    "train_texts[:10]"
   ]
  },
  {
   "cell_type": "code",
   "execution_count": 15,
   "metadata": {},
   "outputs": [
    {
     "data": {
      "text/plain": [
       "array([[0., 0., 1., 0., 0.],\n",
       "       [0., 0., 1., 0., 0.],\n",
       "       [0., 0., 1., 0., 0.],\n",
       "       ...,\n",
       "       [0., 0., 0., 1., 0.],\n",
       "       [0., 0., 0., 0., 1.],\n",
       "       [1., 0., 0., 0., 0.]], dtype=float32)"
      ]
     },
     "execution_count": 15,
     "metadata": {},
     "output_type": "execute_result"
    }
   ],
   "source": [
    "# padding sequences by post method\n",
    "word_sequences = pad_sequences(word_sequences, padding='post', maxlen=WORD_SEQUENCE_LENGTH)\n",
    "\n",
    "train_labels = to_categorical(np.asarray(train_labels))\n",
    "train_labels"
   ]
  },
  {
   "cell_type": "markdown",
   "metadata": {},
   "source": [
    "## Split train-test data"
   ]
  },
  {
   "cell_type": "code",
   "execution_count": 16,
   "metadata": {},
   "outputs": [
    {
     "name": "stdout",
     "output_type": "stream",
     "text": [
      "32000\n",
      "8000\n"
     ]
    }
   ],
   "source": [
    "x_train, x_test, y_train, y_test = train_test_split(word_sequences, train_labels, test_size=0.2)\n",
    "print(len(x_train))\n",
    "print(len(x_test))"
   ]
  },
  {
   "cell_type": "markdown",
   "metadata": {},
   "source": [
    "## Construct the embedding layer"
   ]
  },
  {
   "cell_type": "code",
   "execution_count": 17,
   "metadata": {},
   "outputs": [],
   "source": [
    "embedding_dict = {}\n",
    "\n",
    "with open('data/lib/glove.6B.100d.txt', encoding='utf8') as f:\n",
    "    for line in f:\n",
    "        values = line.split()\n",
    "        word = values[0]\n",
    "        coefs = np.asarray(values[1:], dtype='float32')\n",
    "        embedding_dict[word] = coefs\n",
    "\n",
    "f.close()"
   ]
  },
  {
   "cell_type": "code",
   "execution_count": 18,
   "metadata": {},
   "outputs": [],
   "source": [
    "embedding_matrix = np.zeros((len(word_id_dict) + 1, EMBEDDING_DIM))\n",
    "\n",
    "for word, i in word_id_dict.items():\n",
    "    embedding_vec = embedding_dict.get(word)\n",
    "    if embedding_vec is not None:\n",
    "        embedding_matrix[i] = embedding_vec"
   ]
  },
  {
   "cell_type": "code",
   "execution_count": 19,
   "metadata": {},
   "outputs": [],
   "source": [
    "embedding_layer = Embedding(input_dim=len(word_id_dict)+1, \n",
    "                           output_dim=EMBEDDING_DIM, \n",
    "                           weights=[embedding_matrix], \n",
    "                           input_length=MAX_VOCABULARY_NUM, \n",
    "                           trainable=False)"
   ]
  },
  {
   "cell_type": "markdown",
   "metadata": {},
   "source": [
    "## Construct CNN model"
   ]
  },
  {
   "cell_type": "code",
   "execution_count": 23,
   "metadata": {},
   "outputs": [
    {
     "name": "stdout",
     "output_type": "stream",
     "text": [
      "Model: \"model_1\"\n",
      "_________________________________________________________________\n",
      "Layer (type)                 Output Shape              Param #   \n",
      "=================================================================\n",
      "input_3 (InputLayer)         [(None, 1000)]            0         \n",
      "_________________________________________________________________\n",
      "embedding (Embedding)        (None, 1000, 100)         3137900   \n",
      "_________________________________________________________________\n",
      "conv1d_8 (Conv1D)            (None, 996, 256)          128256    \n",
      "_________________________________________________________________\n",
      "max_pooling1d_6 (MaxPooling1 (None, 332, 256)          0         \n",
      "_________________________________________________________________\n",
      "conv1d_9 (Conv1D)            (None, 328, 256)          327936    \n",
      "_________________________________________________________________\n",
      "max_pooling1d_7 (MaxPooling1 (None, 109, 256)          0         \n",
      "_________________________________________________________________\n",
      "conv1d_10 (Conv1D)           (None, 105, 256)          327936    \n",
      "_________________________________________________________________\n",
      "max_pooling1d_8 (MaxPooling1 (None, 35, 256)           0         \n",
      "_________________________________________________________________\n",
      "conv1d_11 (Conv1D)           (None, 31, 256)           327936    \n",
      "_________________________________________________________________\n",
      "global_max_pooling1d_2 (Glob (None, 256)               0         \n",
      "_________________________________________________________________\n",
      "dropout_2 (Dropout)          (None, 256)               0         \n",
      "_________________________________________________________________\n",
      "flatten_2 (Flatten)          (None, 256)               0         \n",
      "_________________________________________________________________\n",
      "dense_2 (Dense)              (None, 256)               65792     \n",
      "_________________________________________________________________\n",
      "dropout_3 (Dropout)          (None, 256)               0         \n",
      "_________________________________________________________________\n",
      "dense_3 (Dense)              (None, 5)                 1285      \n",
      "=================================================================\n",
      "Total params: 4,317,041\n",
      "Trainable params: 1,179,141\n",
      "Non-trainable params: 3,137,900\n",
      "_________________________________________________________________\n"
     ]
    }
   ],
   "source": [
    "# increase the filters amount and layers amount\n",
    "# use adam optimizer(not yet)\n",
    "# change the activation function of classify layer to sigmoid function(not yet)\n",
    "seq_input = Input(shape=(WORD_SEQUENCE_LENGTH,), dtype='int32')\n",
    "embedding_seq = embedding_layer(seq_input)\n",
    "\n",
    "conv_layer1 = Conv1D(256, 5, activation='relu')(embedding_seq)\n",
    "pool_layer1 = MaxPooling1D(3)(conv_layer1)\n",
    "\n",
    "conv_layer2 = Conv1D(256, 5, activation='relu', padding='same')(pool_layer1)\n",
    "pool_layer2 = MaxPooling1D(3)(conv_layer2)\n",
    "\n",
    "conv_layer3 = Conv1D(256, 5, activation='relu', padding='same')(pool_layer2)\n",
    "pool_layer3 = MaxPooling1D(3)(conv_layer3)\n",
    "\n",
    "conv_layer4 = Conv1D(256, 5, activation='relu', padding='same')(pool_layer3)\n",
    "pool_layer4 = GlobalMaxPooling1D()(conv_layer4)\n",
    "drop_layer1 = Dropout(.1)(pool_layer4)\n",
    "\n",
    "flatten_layer = Flatten()(drop_layer1)\n",
    "dense_layer = Dense(256, activation='relu')(flatten_layer)\n",
    "drop_layer2 = Dropout(.1)(dense_layer)\n",
    "\n",
    "predict_layer = Dense(LABEL_NUM, activation='softmax')(drop_layer2)\n",
    "\n",
    "model=Model(seq_input, predict_layer)\n",
    "model.compile(loss='categorical_crossentropy',\n",
    "              optimizer='adam',\n",
    "              metrics=['accuracy'])\n",
    "model.summary()\n",
    "cp = ModelCheckpoint('model/model_cnn_.hdf5',monitor='val_accuracy',verbose=1,save_best_only=True)"
   ]
  },
  {
   "cell_type": "code",
   "execution_count": 24,
   "metadata": {
    "scrolled": true
   },
   "outputs": [
    {
     "name": "stdout",
     "output_type": "stream",
     "text": [
      "Epoch 1/20\n",
      "31996/32000 [============================>.] - ETA: 0s - loss: 1.3217 - accuracy: 0.3789\n",
      "Epoch 00001: val_accuracy improved from -inf to 0.41275, saving model to model/model_cnn_.hdf5\n",
      "32000/32000 [==============================] - 431s 13ms/step - loss: 1.3217 - accuracy: 0.3789 - val_loss: 1.2556 - val_accuracy: 0.4128\n",
      "Epoch 2/20\n",
      "31996/32000 [============================>.] - ETA: 0s - loss: 1.2427 - accuracy: 0.4187\n",
      "Epoch 00002: val_accuracy improved from 0.41275 to 0.42375, saving model to model/model_cnn_.hdf5\n",
      "32000/32000 [==============================] - 457s 14ms/step - loss: 1.2426 - accuracy: 0.4187 - val_loss: 1.2479 - val_accuracy: 0.4238\n",
      "Epoch 3/20\n",
      "31997/32000 [============================>.] - ETA: 0s - loss: 1.2043 - accuracy: 0.4322 ETA: 0s - loss: 1.2\n",
      "Epoch 00003: val_accuracy did not improve from 0.42375\n",
      "32000/32000 [==============================] - 443s 14ms/step - loss: 1.2043 - accuracy: 0.4322 - val_loss: 1.2269 - val_accuracy: 0.4189\n",
      "Epoch 4/20\n",
      "31996/32000 [============================>.] - ETA: 0s - loss: 1.1971 - accuracy: 0.4361\n",
      "Epoch 00004: val_accuracy did not improve from 0.42375\n",
      "32000/32000 [==============================] - 526s 16ms/step - loss: 1.1971 - accuracy: 0.4361 - val_loss: 1.2561 - val_accuracy: 0.4106\n",
      "Epoch 5/20\n",
      "32000/32000 [==============================] - ETA: 0s - loss: 1.1720 - accuracy: 0.4422\n",
      "Epoch 00005: val_accuracy did not improve from 0.42375\n",
      "32000/32000 [==============================] - 553s 17ms/step - loss: 1.1720 - accuracy: 0.4422 - val_loss: 1.2962 - val_accuracy: 0.4201\n",
      "Epoch 6/20\n",
      "32000/32000 [==============================] - ETA: 0s - loss: 1.1527 - accuracy: 0.4569\n",
      "Epoch 00006: val_accuracy did not improve from 0.42375\n",
      "32000/32000 [==============================] - 535s 17ms/step - loss: 1.1527 - accuracy: 0.4569 - val_loss: 1.3061 - val_accuracy: 0.4132\n",
      "Epoch 7/20\n",
      "32000/32000 [==============================] - ETA: 0s - loss: 1.1370 - accuracy: 0.4554\n",
      "Epoch 00007: val_accuracy did not improve from 0.42375\n",
      "32000/32000 [==============================] - 491s 15ms/step - loss: 1.1370 - accuracy: 0.4554 - val_loss: 1.3332 - val_accuracy: 0.4176\n",
      "Epoch 8/20\n",
      "31998/32000 [============================>.] - ETA: 0s - loss: 1.1246 - accuracy: 0.4572\n",
      "Epoch 00008: val_accuracy did not improve from 0.42375\n",
      "32000/32000 [==============================] - 508s 16ms/step - loss: 1.1246 - accuracy: 0.4572 - val_loss: 1.3949 - val_accuracy: 0.4084\n",
      "Epoch 9/20\n",
      "31997/32000 [============================>.] - ETA: 0s - loss: 1.1050 - accuracy: 0.4660\n",
      "Epoch 00009: val_accuracy did not improve from 0.42375\n",
      "32000/32000 [==============================] - 579s 18ms/step - loss: 1.1050 - accuracy: 0.4660 - val_loss: 1.3801 - val_accuracy: 0.4001\n",
      "Epoch 10/20\n",
      "31996/32000 [============================>.] - ETA: 0s - loss: 1.0955 - accuracy: 0.4732\n",
      "Epoch 00010: val_accuracy improved from 0.42375 to 0.42463, saving model to model/model_cnn_.hdf5\n",
      "32000/32000 [==============================] - 625s 20ms/step - loss: 1.0955 - accuracy: 0.4732 - val_loss: 1.2711 - val_accuracy: 0.4246\n",
      "Epoch 11/20\n",
      "31999/32000 [============================>.] - ETA: 0s - loss: 1.1011 - accuracy: 0.4759\n",
      "Epoch 00011: val_accuracy did not improve from 0.42463\n",
      "32000/32000 [==============================] - 651s 20ms/step - loss: 1.1011 - accuracy: 0.4759 - val_loss: 1.4069 - val_accuracy: 0.4230\n",
      "Epoch 12/20\n",
      "32000/32000 [==============================] - ETA: 0s - loss: 1.0754 - accuracy: 0.4819\n",
      "Epoch 00012: val_accuracy did not improve from 0.42463\n",
      "32000/32000 [==============================] - 734s 23ms/step - loss: 1.0754 - accuracy: 0.4819 - val_loss: 1.4459 - val_accuracy: 0.3959\n",
      "Epoch 13/20\n",
      "31998/32000 [============================>.] - ETA: 0s - loss: 1.0587 - accuracy: 0.4861\n",
      "Epoch 00013: val_accuracy did not improve from 0.42463\n",
      "32000/32000 [==============================] - 736s 23ms/step - loss: 1.0587 - accuracy: 0.4861 - val_loss: 1.5037 - val_accuracy: 0.4059\n",
      "Epoch 14/20\n",
      "31998/32000 [============================>.] - ETA: 0s - loss: 1.0602 - accuracy: 0.4936\n",
      "Epoch 00014: val_accuracy did not improve from 0.42463\n",
      "32000/32000 [==============================] - 742s 23ms/step - loss: 1.0602 - accuracy: 0.4936 - val_loss: 1.5233 - val_accuracy: 0.4173\n",
      "Epoch 15/20\n",
      "32000/32000 [==============================] - ETA: 0s - loss: 1.0383 - accuracy: 0.4972\n",
      "Epoch 00015: val_accuracy did not improve from 0.42463\n",
      "32000/32000 [==============================] - 669s 21ms/step - loss: 1.0383 - accuracy: 0.4972 - val_loss: 1.9367 - val_accuracy: 0.4178\n",
      "Epoch 16/20\n",
      "32000/32000 [==============================] - ETA: 0s - loss: 1.0246 - accuracy: 0.5013\n",
      "Epoch 00016: val_accuracy improved from 0.42463 to 0.43250, saving model to model/model_cnn_.hdf5\n",
      "32000/32000 [==============================] - 621s 19ms/step - loss: 1.0246 - accuracy: 0.5013 - val_loss: 1.4925 - val_accuracy: 0.4325\n",
      "Epoch 17/20\n",
      "31997/32000 [============================>.] - ETA: 0s - loss: 1.0244 - accuracy: 0.5047\n",
      "Epoch 00017: val_accuracy did not improve from 0.43250\n",
      "32000/32000 [==============================] - 477s 15ms/step - loss: 1.0243 - accuracy: 0.5047 - val_loss: 1.6167 - val_accuracy: 0.4275\n",
      "Epoch 18/20\n",
      "31999/32000 [============================>.] - ETA: 0s - loss: 1.0276 - accuracy: 0.5056\n",
      "Epoch 00018: val_accuracy did not improve from 0.43250\n",
      "32000/32000 [==============================] - 500s 16ms/step - loss: 1.0276 - accuracy: 0.5056 - val_loss: 1.6706 - val_accuracy: 0.4221\n",
      "Epoch 19/20\n",
      "31997/32000 [============================>.] - ETA: 0s - loss: 1.0207 - accuracy: 0.5076\n",
      "Epoch 00019: val_accuracy did not improve from 0.43250\n",
      "32000/32000 [==============================] - 480s 15ms/step - loss: 1.0207 - accuracy: 0.5076 - val_loss: 1.6097 - val_accuracy: 0.4186\n",
      "Epoch 20/20\n",
      "31998/32000 [============================>.] - ETA: 0s - loss: 1.0082 - accuracy: 0.5115\n",
      "Epoch 00020: val_accuracy did not improve from 0.43250\n",
      "32000/32000 [==============================] - 470s 15ms/step - loss: 1.0081 - accuracy: 0.5115 - val_loss: 1.6881 - val_accuracy: 0.4190\n"
     ]
    }
   ],
   "source": [
    "history = model.fit(x_train, y_train, epochs=20, validation_data=(x_test, y_test), batch_size=1, callbacks=[cp])"
   ]
  },
  {
   "cell_type": "code",
   "execution_count": 89,
   "metadata": {},
   "outputs": [
    {
     "data": {
      "application/vnd.plotly.v1+json": {
       "config": {
        "plotlyServerURL": "https://plot.ly"
       },
       "data": [
        {
         "line": {
          "color": "skyblue"
         },
         "mode": "lines+markers",
         "name": "accuracy",
         "type": "scatter",
         "xaxis": "x",
         "y": [
          0.3788749873638153,
          0.41871875524520874,
          0.4321562647819519,
          0.4360625147819519,
          0.44221875071525574,
          0.4569374918937683,
          0.45537498593330383,
          0.457218736410141,
          0.4660312533378601,
          0.47318750619888306,
          0.47587499022483826,
          0.4819374978542328,
          0.48609375953674316,
          0.4935624897480011,
          0.4971874952316284,
          0.5013124942779541,
          0.5046562552452087,
          0.5055624842643738,
          0.5076249837875366,
          0.5115312337875366
         ],
         "yaxis": "y"
        },
        {
         "line": {
          "color": "dodgerblue"
         },
         "mode": "lines+markers",
         "name": "validation accuracy",
         "type": "scatter",
         "xaxis": "x",
         "y": [
          0.4127500057220459,
          0.42375001311302185,
          0.4188750088214874,
          0.41062501072883606,
          0.42012500762939453,
          0.41324999928474426,
          0.4176250100135803,
          0.40837499499320984,
          0.40012499690055847,
          0.4246250092983246,
          0.4230000078678131,
          0.3958750069141388,
          0.40587499737739563,
          0.41725000739097595,
          0.4177500009536743,
          0.4325000047683716,
          0.42750000953674316,
          0.4221250116825104,
          0.41862499713897705,
          0.4189999997615814
         ],
         "yaxis": "y"
        },
        {
         "line": {
          "color": "lightsalmon"
         },
         "mode": "lines+markers",
         "name": "loss",
         "type": "scatter",
         "xaxis": "x2",
         "y": [
          1.3216582536697388,
          1.2426198720932007,
          1.2042971849441528,
          1.19711434841156,
          1.1720246076583862,
          1.15269136428833,
          1.1370141506195068,
          1.1245572566986084,
          1.1049530506134033,
          1.095517873764038,
          1.101085901260376,
          1.0753685235977173,
          1.0587292909622192,
          1.0601927042007446,
          1.0383479595184326,
          1.0245826244354248,
          1.0243237018585205,
          1.0275596380233765,
          1.0206931829452515,
          1.0081279277801514
         ],
         "yaxis": "y2"
        },
        {
         "line": {
          "color": "tomato"
         },
         "mode": "lines+markers",
         "name": "validation loss",
         "type": "scatter",
         "xaxis": "x2",
         "y": [
          1.2555842399597168,
          1.2479166984558105,
          1.2269121408462524,
          1.2561485767364502,
          1.2962205410003662,
          1.3060592412948608,
          1.3332370519638062,
          1.3949060440063477,
          1.3801233768463135,
          1.2710599899291992,
          1.406925082206726,
          1.4459162950515747,
          1.5036510229110718,
          1.5233463048934937,
          1.9366931915283203,
          1.4924976825714111,
          1.6166542768478394,
          1.6705514192581177,
          1.6096986532211304,
          1.6880782842636108
         ],
         "yaxis": "y2"
        }
       ],
       "layout": {
        "height": 480,
        "template": {
         "data": {
          "bar": [
           {
            "error_x": {
             "color": "#2a3f5f"
            },
            "error_y": {
             "color": "#2a3f5f"
            },
            "marker": {
             "line": {
              "color": "#E5ECF6",
              "width": 0.5
             }
            },
            "type": "bar"
           }
          ],
          "barpolar": [
           {
            "marker": {
             "line": {
              "color": "#E5ECF6",
              "width": 0.5
             }
            },
            "type": "barpolar"
           }
          ],
          "carpet": [
           {
            "aaxis": {
             "endlinecolor": "#2a3f5f",
             "gridcolor": "white",
             "linecolor": "white",
             "minorgridcolor": "white",
             "startlinecolor": "#2a3f5f"
            },
            "baxis": {
             "endlinecolor": "#2a3f5f",
             "gridcolor": "white",
             "linecolor": "white",
             "minorgridcolor": "white",
             "startlinecolor": "#2a3f5f"
            },
            "type": "carpet"
           }
          ],
          "choropleth": [
           {
            "colorbar": {
             "outlinewidth": 0,
             "ticks": ""
            },
            "type": "choropleth"
           }
          ],
          "contour": [
           {
            "colorbar": {
             "outlinewidth": 0,
             "ticks": ""
            },
            "colorscale": [
             [
              0,
              "#0d0887"
             ],
             [
              0.1111111111111111,
              "#46039f"
             ],
             [
              0.2222222222222222,
              "#7201a8"
             ],
             [
              0.3333333333333333,
              "#9c179e"
             ],
             [
              0.4444444444444444,
              "#bd3786"
             ],
             [
              0.5555555555555556,
              "#d8576b"
             ],
             [
              0.6666666666666666,
              "#ed7953"
             ],
             [
              0.7777777777777778,
              "#fb9f3a"
             ],
             [
              0.8888888888888888,
              "#fdca26"
             ],
             [
              1,
              "#f0f921"
             ]
            ],
            "type": "contour"
           }
          ],
          "contourcarpet": [
           {
            "colorbar": {
             "outlinewidth": 0,
             "ticks": ""
            },
            "type": "contourcarpet"
           }
          ],
          "heatmap": [
           {
            "colorbar": {
             "outlinewidth": 0,
             "ticks": ""
            },
            "colorscale": [
             [
              0,
              "#0d0887"
             ],
             [
              0.1111111111111111,
              "#46039f"
             ],
             [
              0.2222222222222222,
              "#7201a8"
             ],
             [
              0.3333333333333333,
              "#9c179e"
             ],
             [
              0.4444444444444444,
              "#bd3786"
             ],
             [
              0.5555555555555556,
              "#d8576b"
             ],
             [
              0.6666666666666666,
              "#ed7953"
             ],
             [
              0.7777777777777778,
              "#fb9f3a"
             ],
             [
              0.8888888888888888,
              "#fdca26"
             ],
             [
              1,
              "#f0f921"
             ]
            ],
            "type": "heatmap"
           }
          ],
          "heatmapgl": [
           {
            "colorbar": {
             "outlinewidth": 0,
             "ticks": ""
            },
            "colorscale": [
             [
              0,
              "#0d0887"
             ],
             [
              0.1111111111111111,
              "#46039f"
             ],
             [
              0.2222222222222222,
              "#7201a8"
             ],
             [
              0.3333333333333333,
              "#9c179e"
             ],
             [
              0.4444444444444444,
              "#bd3786"
             ],
             [
              0.5555555555555556,
              "#d8576b"
             ],
             [
              0.6666666666666666,
              "#ed7953"
             ],
             [
              0.7777777777777778,
              "#fb9f3a"
             ],
             [
              0.8888888888888888,
              "#fdca26"
             ],
             [
              1,
              "#f0f921"
             ]
            ],
            "type": "heatmapgl"
           }
          ],
          "histogram": [
           {
            "marker": {
             "colorbar": {
              "outlinewidth": 0,
              "ticks": ""
             }
            },
            "type": "histogram"
           }
          ],
          "histogram2d": [
           {
            "colorbar": {
             "outlinewidth": 0,
             "ticks": ""
            },
            "colorscale": [
             [
              0,
              "#0d0887"
             ],
             [
              0.1111111111111111,
              "#46039f"
             ],
             [
              0.2222222222222222,
              "#7201a8"
             ],
             [
              0.3333333333333333,
              "#9c179e"
             ],
             [
              0.4444444444444444,
              "#bd3786"
             ],
             [
              0.5555555555555556,
              "#d8576b"
             ],
             [
              0.6666666666666666,
              "#ed7953"
             ],
             [
              0.7777777777777778,
              "#fb9f3a"
             ],
             [
              0.8888888888888888,
              "#fdca26"
             ],
             [
              1,
              "#f0f921"
             ]
            ],
            "type": "histogram2d"
           }
          ],
          "histogram2dcontour": [
           {
            "colorbar": {
             "outlinewidth": 0,
             "ticks": ""
            },
            "colorscale": [
             [
              0,
              "#0d0887"
             ],
             [
              0.1111111111111111,
              "#46039f"
             ],
             [
              0.2222222222222222,
              "#7201a8"
             ],
             [
              0.3333333333333333,
              "#9c179e"
             ],
             [
              0.4444444444444444,
              "#bd3786"
             ],
             [
              0.5555555555555556,
              "#d8576b"
             ],
             [
              0.6666666666666666,
              "#ed7953"
             ],
             [
              0.7777777777777778,
              "#fb9f3a"
             ],
             [
              0.8888888888888888,
              "#fdca26"
             ],
             [
              1,
              "#f0f921"
             ]
            ],
            "type": "histogram2dcontour"
           }
          ],
          "mesh3d": [
           {
            "colorbar": {
             "outlinewidth": 0,
             "ticks": ""
            },
            "type": "mesh3d"
           }
          ],
          "parcoords": [
           {
            "line": {
             "colorbar": {
              "outlinewidth": 0,
              "ticks": ""
             }
            },
            "type": "parcoords"
           }
          ],
          "pie": [
           {
            "automargin": true,
            "type": "pie"
           }
          ],
          "scatter": [
           {
            "marker": {
             "colorbar": {
              "outlinewidth": 0,
              "ticks": ""
             }
            },
            "type": "scatter"
           }
          ],
          "scatter3d": [
           {
            "line": {
             "colorbar": {
              "outlinewidth": 0,
              "ticks": ""
             }
            },
            "marker": {
             "colorbar": {
              "outlinewidth": 0,
              "ticks": ""
             }
            },
            "type": "scatter3d"
           }
          ],
          "scattercarpet": [
           {
            "marker": {
             "colorbar": {
              "outlinewidth": 0,
              "ticks": ""
             }
            },
            "type": "scattercarpet"
           }
          ],
          "scattergeo": [
           {
            "marker": {
             "colorbar": {
              "outlinewidth": 0,
              "ticks": ""
             }
            },
            "type": "scattergeo"
           }
          ],
          "scattergl": [
           {
            "marker": {
             "colorbar": {
              "outlinewidth": 0,
              "ticks": ""
             }
            },
            "type": "scattergl"
           }
          ],
          "scattermapbox": [
           {
            "marker": {
             "colorbar": {
              "outlinewidth": 0,
              "ticks": ""
             }
            },
            "type": "scattermapbox"
           }
          ],
          "scatterpolar": [
           {
            "marker": {
             "colorbar": {
              "outlinewidth": 0,
              "ticks": ""
             }
            },
            "type": "scatterpolar"
           }
          ],
          "scatterpolargl": [
           {
            "marker": {
             "colorbar": {
              "outlinewidth": 0,
              "ticks": ""
             }
            },
            "type": "scatterpolargl"
           }
          ],
          "scatterternary": [
           {
            "marker": {
             "colorbar": {
              "outlinewidth": 0,
              "ticks": ""
             }
            },
            "type": "scatterternary"
           }
          ],
          "surface": [
           {
            "colorbar": {
             "outlinewidth": 0,
             "ticks": ""
            },
            "colorscale": [
             [
              0,
              "#0d0887"
             ],
             [
              0.1111111111111111,
              "#46039f"
             ],
             [
              0.2222222222222222,
              "#7201a8"
             ],
             [
              0.3333333333333333,
              "#9c179e"
             ],
             [
              0.4444444444444444,
              "#bd3786"
             ],
             [
              0.5555555555555556,
              "#d8576b"
             ],
             [
              0.6666666666666666,
              "#ed7953"
             ],
             [
              0.7777777777777778,
              "#fb9f3a"
             ],
             [
              0.8888888888888888,
              "#fdca26"
             ],
             [
              1,
              "#f0f921"
             ]
            ],
            "type": "surface"
           }
          ],
          "table": [
           {
            "cells": {
             "fill": {
              "color": "#EBF0F8"
             },
             "line": {
              "color": "white"
             }
            },
            "header": {
             "fill": {
              "color": "#C8D4E3"
             },
             "line": {
              "color": "white"
             }
            },
            "type": "table"
           }
          ]
         },
         "layout": {
          "annotationdefaults": {
           "arrowcolor": "#2a3f5f",
           "arrowhead": 0,
           "arrowwidth": 1
          },
          "coloraxis": {
           "colorbar": {
            "outlinewidth": 0,
            "ticks": ""
           }
          },
          "colorscale": {
           "diverging": [
            [
             0,
             "#8e0152"
            ],
            [
             0.1,
             "#c51b7d"
            ],
            [
             0.2,
             "#de77ae"
            ],
            [
             0.3,
             "#f1b6da"
            ],
            [
             0.4,
             "#fde0ef"
            ],
            [
             0.5,
             "#f7f7f7"
            ],
            [
             0.6,
             "#e6f5d0"
            ],
            [
             0.7,
             "#b8e186"
            ],
            [
             0.8,
             "#7fbc41"
            ],
            [
             0.9,
             "#4d9221"
            ],
            [
             1,
             "#276419"
            ]
           ],
           "sequential": [
            [
             0,
             "#0d0887"
            ],
            [
             0.1111111111111111,
             "#46039f"
            ],
            [
             0.2222222222222222,
             "#7201a8"
            ],
            [
             0.3333333333333333,
             "#9c179e"
            ],
            [
             0.4444444444444444,
             "#bd3786"
            ],
            [
             0.5555555555555556,
             "#d8576b"
            ],
            [
             0.6666666666666666,
             "#ed7953"
            ],
            [
             0.7777777777777778,
             "#fb9f3a"
            ],
            [
             0.8888888888888888,
             "#fdca26"
            ],
            [
             1,
             "#f0f921"
            ]
           ],
           "sequentialminus": [
            [
             0,
             "#0d0887"
            ],
            [
             0.1111111111111111,
             "#46039f"
            ],
            [
             0.2222222222222222,
             "#7201a8"
            ],
            [
             0.3333333333333333,
             "#9c179e"
            ],
            [
             0.4444444444444444,
             "#bd3786"
            ],
            [
             0.5555555555555556,
             "#d8576b"
            ],
            [
             0.6666666666666666,
             "#ed7953"
            ],
            [
             0.7777777777777778,
             "#fb9f3a"
            ],
            [
             0.8888888888888888,
             "#fdca26"
            ],
            [
             1,
             "#f0f921"
            ]
           ]
          },
          "colorway": [
           "#636efa",
           "#EF553B",
           "#00cc96",
           "#ab63fa",
           "#FFA15A",
           "#19d3f3",
           "#FF6692",
           "#B6E880",
           "#FF97FF",
           "#FECB52"
          ],
          "font": {
           "color": "#2a3f5f"
          },
          "geo": {
           "bgcolor": "white",
           "lakecolor": "white",
           "landcolor": "#E5ECF6",
           "showlakes": true,
           "showland": true,
           "subunitcolor": "white"
          },
          "hoverlabel": {
           "align": "left"
          },
          "hovermode": "closest",
          "mapbox": {
           "style": "light"
          },
          "paper_bgcolor": "white",
          "plot_bgcolor": "#E5ECF6",
          "polar": {
           "angularaxis": {
            "gridcolor": "white",
            "linecolor": "white",
            "ticks": ""
           },
           "bgcolor": "#E5ECF6",
           "radialaxis": {
            "gridcolor": "white",
            "linecolor": "white",
            "ticks": ""
           }
          },
          "scene": {
           "xaxis": {
            "backgroundcolor": "#E5ECF6",
            "gridcolor": "white",
            "gridwidth": 2,
            "linecolor": "white",
            "showbackground": true,
            "ticks": "",
            "zerolinecolor": "white"
           },
           "yaxis": {
            "backgroundcolor": "#E5ECF6",
            "gridcolor": "white",
            "gridwidth": 2,
            "linecolor": "white",
            "showbackground": true,
            "ticks": "",
            "zerolinecolor": "white"
           },
           "zaxis": {
            "backgroundcolor": "#E5ECF6",
            "gridcolor": "white",
            "gridwidth": 2,
            "linecolor": "white",
            "showbackground": true,
            "ticks": "",
            "zerolinecolor": "white"
           }
          },
          "shapedefaults": {
           "line": {
            "color": "#2a3f5f"
           }
          },
          "ternary": {
           "aaxis": {
            "gridcolor": "white",
            "linecolor": "white",
            "ticks": ""
           },
           "baxis": {
            "gridcolor": "white",
            "linecolor": "white",
            "ticks": ""
           },
           "bgcolor": "#E5ECF6",
           "caxis": {
            "gridcolor": "white",
            "linecolor": "white",
            "ticks": ""
           }
          },
          "title": {
           "x": 0.05
          },
          "xaxis": {
           "automargin": true,
           "gridcolor": "white",
           "linecolor": "white",
           "ticks": "",
           "title": {
            "standoff": 15
           },
           "zerolinecolor": "white",
           "zerolinewidth": 2
          },
          "yaxis": {
           "automargin": true,
           "gridcolor": "white",
           "linecolor": "white",
           "ticks": "",
           "title": {
            "standoff": 15
           },
           "zerolinecolor": "white",
           "zerolinewidth": 2
          }
         }
        },
        "title": {
         "text": "Model Performation"
        },
        "width": 1080,
        "xaxis": {
         "anchor": "y",
         "domain": [
          0,
          0.45
         ],
         "title": {
          "text": "Epochs"
         }
        },
        "xaxis2": {
         "anchor": "y2",
         "domain": [
          0.55,
          1
         ],
         "title": {
          "text": "Epochs"
         }
        },
        "yaxis": {
         "anchor": "x",
         "domain": [
          0,
          1
         ],
         "title": {
          "text": "Accuracy"
         }
        },
        "yaxis2": {
         "anchor": "x2",
         "domain": [
          0,
          1
         ],
         "title": {
          "text": "Loss"
         }
        }
       }
      },
      "text/html": [
       "<div>\n",
       "        \n",
       "        \n",
       "            <div id=\"34c81695-1698-45d4-b9f2-ede6dd4a3630\" class=\"plotly-graph-div\" style=\"height:480px; width:1080px;\"></div>\n",
       "            <script type=\"text/javascript\">\n",
       "                require([\"plotly\"], function(Plotly) {\n",
       "                    window.PLOTLYENV=window.PLOTLYENV || {};\n",
       "                    \n",
       "                if (document.getElementById(\"34c81695-1698-45d4-b9f2-ede6dd4a3630\")) {\n",
       "                    Plotly.newPlot(\n",
       "                        '34c81695-1698-45d4-b9f2-ede6dd4a3630',\n",
       "                        [{\"line\": {\"color\": \"skyblue\"}, \"mode\": \"lines+markers\", \"name\": \"accuracy\", \"type\": \"scatter\", \"xaxis\": \"x\", \"y\": [0.3788749873638153, 0.41871875524520874, 0.4321562647819519, 0.4360625147819519, 0.44221875071525574, 0.4569374918937683, 0.45537498593330383, 0.457218736410141, 0.4660312533378601, 0.47318750619888306, 0.47587499022483826, 0.4819374978542328, 0.48609375953674316, 0.4935624897480011, 0.4971874952316284, 0.5013124942779541, 0.5046562552452087, 0.5055624842643738, 0.5076249837875366, 0.5115312337875366], \"yaxis\": \"y\"}, {\"line\": {\"color\": \"dodgerblue\"}, \"mode\": \"lines+markers\", \"name\": \"validation accuracy\", \"type\": \"scatter\", \"xaxis\": \"x\", \"y\": [0.4127500057220459, 0.42375001311302185, 0.4188750088214874, 0.41062501072883606, 0.42012500762939453, 0.41324999928474426, 0.4176250100135803, 0.40837499499320984, 0.40012499690055847, 0.4246250092983246, 0.4230000078678131, 0.3958750069141388, 0.40587499737739563, 0.41725000739097595, 0.4177500009536743, 0.4325000047683716, 0.42750000953674316, 0.4221250116825104, 0.41862499713897705, 0.4189999997615814], \"yaxis\": \"y\"}, {\"line\": {\"color\": \"lightsalmon\"}, \"mode\": \"lines+markers\", \"name\": \"loss\", \"type\": \"scatter\", \"xaxis\": \"x2\", \"y\": [1.3216582536697388, 1.2426198720932007, 1.2042971849441528, 1.19711434841156, 1.1720246076583862, 1.15269136428833, 1.1370141506195068, 1.1245572566986084, 1.1049530506134033, 1.095517873764038, 1.101085901260376, 1.0753685235977173, 1.0587292909622192, 1.0601927042007446, 1.0383479595184326, 1.0245826244354248, 1.0243237018585205, 1.0275596380233765, 1.0206931829452515, 1.0081279277801514], \"yaxis\": \"y2\"}, {\"line\": {\"color\": \"tomato\"}, \"mode\": \"lines+markers\", \"name\": \"validation loss\", \"type\": \"scatter\", \"xaxis\": \"x2\", \"y\": [1.2555842399597168, 1.2479166984558105, 1.2269121408462524, 1.2561485767364502, 1.2962205410003662, 1.3060592412948608, 1.3332370519638062, 1.3949060440063477, 1.3801233768463135, 1.2710599899291992, 1.406925082206726, 1.4459162950515747, 1.5036510229110718, 1.5233463048934937, 1.9366931915283203, 1.4924976825714111, 1.6166542768478394, 1.6705514192581177, 1.6096986532211304, 1.6880782842636108], \"yaxis\": \"y2\"}],\n",
       "                        {\"height\": 480, \"template\": {\"data\": {\"bar\": [{\"error_x\": {\"color\": \"#2a3f5f\"}, \"error_y\": {\"color\": \"#2a3f5f\"}, \"marker\": {\"line\": {\"color\": \"#E5ECF6\", \"width\": 0.5}}, \"type\": \"bar\"}], \"barpolar\": [{\"marker\": {\"line\": {\"color\": \"#E5ECF6\", \"width\": 0.5}}, \"type\": \"barpolar\"}], \"carpet\": [{\"aaxis\": {\"endlinecolor\": \"#2a3f5f\", \"gridcolor\": \"white\", \"linecolor\": \"white\", \"minorgridcolor\": \"white\", \"startlinecolor\": \"#2a3f5f\"}, \"baxis\": {\"endlinecolor\": \"#2a3f5f\", \"gridcolor\": \"white\", \"linecolor\": \"white\", \"minorgridcolor\": \"white\", \"startlinecolor\": \"#2a3f5f\"}, \"type\": \"carpet\"}], \"choropleth\": [{\"colorbar\": {\"outlinewidth\": 0, \"ticks\": \"\"}, \"type\": \"choropleth\"}], \"contour\": [{\"colorbar\": {\"outlinewidth\": 0, \"ticks\": \"\"}, \"colorscale\": [[0.0, \"#0d0887\"], [0.1111111111111111, \"#46039f\"], [0.2222222222222222, \"#7201a8\"], [0.3333333333333333, \"#9c179e\"], [0.4444444444444444, \"#bd3786\"], [0.5555555555555556, \"#d8576b\"], [0.6666666666666666, \"#ed7953\"], [0.7777777777777778, \"#fb9f3a\"], [0.8888888888888888, \"#fdca26\"], [1.0, \"#f0f921\"]], \"type\": \"contour\"}], \"contourcarpet\": [{\"colorbar\": {\"outlinewidth\": 0, \"ticks\": \"\"}, \"type\": \"contourcarpet\"}], \"heatmap\": [{\"colorbar\": {\"outlinewidth\": 0, \"ticks\": \"\"}, \"colorscale\": [[0.0, \"#0d0887\"], [0.1111111111111111, \"#46039f\"], [0.2222222222222222, \"#7201a8\"], [0.3333333333333333, \"#9c179e\"], [0.4444444444444444, \"#bd3786\"], [0.5555555555555556, \"#d8576b\"], [0.6666666666666666, \"#ed7953\"], [0.7777777777777778, \"#fb9f3a\"], [0.8888888888888888, \"#fdca26\"], [1.0, \"#f0f921\"]], \"type\": \"heatmap\"}], \"heatmapgl\": [{\"colorbar\": {\"outlinewidth\": 0, \"ticks\": \"\"}, \"colorscale\": [[0.0, \"#0d0887\"], [0.1111111111111111, \"#46039f\"], [0.2222222222222222, \"#7201a8\"], [0.3333333333333333, \"#9c179e\"], [0.4444444444444444, \"#bd3786\"], [0.5555555555555556, \"#d8576b\"], [0.6666666666666666, \"#ed7953\"], [0.7777777777777778, \"#fb9f3a\"], [0.8888888888888888, \"#fdca26\"], [1.0, \"#f0f921\"]], \"type\": \"heatmapgl\"}], \"histogram\": [{\"marker\": {\"colorbar\": {\"outlinewidth\": 0, \"ticks\": \"\"}}, \"type\": \"histogram\"}], \"histogram2d\": [{\"colorbar\": {\"outlinewidth\": 0, \"ticks\": \"\"}, \"colorscale\": [[0.0, \"#0d0887\"], [0.1111111111111111, \"#46039f\"], [0.2222222222222222, \"#7201a8\"], [0.3333333333333333, \"#9c179e\"], [0.4444444444444444, \"#bd3786\"], [0.5555555555555556, \"#d8576b\"], [0.6666666666666666, \"#ed7953\"], [0.7777777777777778, \"#fb9f3a\"], [0.8888888888888888, \"#fdca26\"], [1.0, \"#f0f921\"]], \"type\": \"histogram2d\"}], \"histogram2dcontour\": [{\"colorbar\": {\"outlinewidth\": 0, \"ticks\": \"\"}, \"colorscale\": [[0.0, \"#0d0887\"], [0.1111111111111111, \"#46039f\"], [0.2222222222222222, \"#7201a8\"], [0.3333333333333333, \"#9c179e\"], [0.4444444444444444, \"#bd3786\"], [0.5555555555555556, \"#d8576b\"], [0.6666666666666666, \"#ed7953\"], [0.7777777777777778, \"#fb9f3a\"], [0.8888888888888888, \"#fdca26\"], [1.0, \"#f0f921\"]], \"type\": \"histogram2dcontour\"}], \"mesh3d\": [{\"colorbar\": {\"outlinewidth\": 0, \"ticks\": \"\"}, \"type\": \"mesh3d\"}], \"parcoords\": [{\"line\": {\"colorbar\": {\"outlinewidth\": 0, \"ticks\": \"\"}}, \"type\": \"parcoords\"}], \"pie\": [{\"automargin\": true, \"type\": \"pie\"}], \"scatter\": [{\"marker\": {\"colorbar\": {\"outlinewidth\": 0, \"ticks\": \"\"}}, \"type\": \"scatter\"}], \"scatter3d\": [{\"line\": {\"colorbar\": {\"outlinewidth\": 0, \"ticks\": \"\"}}, \"marker\": {\"colorbar\": {\"outlinewidth\": 0, \"ticks\": \"\"}}, \"type\": \"scatter3d\"}], \"scattercarpet\": [{\"marker\": {\"colorbar\": {\"outlinewidth\": 0, \"ticks\": \"\"}}, \"type\": \"scattercarpet\"}], \"scattergeo\": [{\"marker\": {\"colorbar\": {\"outlinewidth\": 0, \"ticks\": \"\"}}, \"type\": \"scattergeo\"}], \"scattergl\": [{\"marker\": {\"colorbar\": {\"outlinewidth\": 0, \"ticks\": \"\"}}, \"type\": \"scattergl\"}], \"scattermapbox\": [{\"marker\": {\"colorbar\": {\"outlinewidth\": 0, \"ticks\": \"\"}}, \"type\": \"scattermapbox\"}], \"scatterpolar\": [{\"marker\": {\"colorbar\": {\"outlinewidth\": 0, \"ticks\": \"\"}}, \"type\": \"scatterpolar\"}], \"scatterpolargl\": [{\"marker\": {\"colorbar\": {\"outlinewidth\": 0, \"ticks\": \"\"}}, \"type\": \"scatterpolargl\"}], \"scatterternary\": [{\"marker\": {\"colorbar\": {\"outlinewidth\": 0, \"ticks\": \"\"}}, \"type\": \"scatterternary\"}], \"surface\": [{\"colorbar\": {\"outlinewidth\": 0, \"ticks\": \"\"}, \"colorscale\": [[0.0, \"#0d0887\"], [0.1111111111111111, \"#46039f\"], [0.2222222222222222, \"#7201a8\"], [0.3333333333333333, \"#9c179e\"], [0.4444444444444444, \"#bd3786\"], [0.5555555555555556, \"#d8576b\"], [0.6666666666666666, \"#ed7953\"], [0.7777777777777778, \"#fb9f3a\"], [0.8888888888888888, \"#fdca26\"], [1.0, \"#f0f921\"]], \"type\": \"surface\"}], \"table\": [{\"cells\": {\"fill\": {\"color\": \"#EBF0F8\"}, \"line\": {\"color\": \"white\"}}, \"header\": {\"fill\": {\"color\": \"#C8D4E3\"}, \"line\": {\"color\": \"white\"}}, \"type\": \"table\"}]}, \"layout\": {\"annotationdefaults\": {\"arrowcolor\": \"#2a3f5f\", \"arrowhead\": 0, \"arrowwidth\": 1}, \"coloraxis\": {\"colorbar\": {\"outlinewidth\": 0, \"ticks\": \"\"}}, \"colorscale\": {\"diverging\": [[0, \"#8e0152\"], [0.1, \"#c51b7d\"], [0.2, \"#de77ae\"], [0.3, \"#f1b6da\"], [0.4, \"#fde0ef\"], [0.5, \"#f7f7f7\"], [0.6, \"#e6f5d0\"], [0.7, \"#b8e186\"], [0.8, \"#7fbc41\"], [0.9, \"#4d9221\"], [1, \"#276419\"]], \"sequential\": [[0.0, \"#0d0887\"], [0.1111111111111111, \"#46039f\"], [0.2222222222222222, \"#7201a8\"], [0.3333333333333333, \"#9c179e\"], [0.4444444444444444, \"#bd3786\"], [0.5555555555555556, \"#d8576b\"], [0.6666666666666666, \"#ed7953\"], [0.7777777777777778, \"#fb9f3a\"], [0.8888888888888888, \"#fdca26\"], [1.0, \"#f0f921\"]], \"sequentialminus\": [[0.0, \"#0d0887\"], [0.1111111111111111, \"#46039f\"], [0.2222222222222222, \"#7201a8\"], [0.3333333333333333, \"#9c179e\"], [0.4444444444444444, \"#bd3786\"], [0.5555555555555556, \"#d8576b\"], [0.6666666666666666, \"#ed7953\"], [0.7777777777777778, \"#fb9f3a\"], [0.8888888888888888, \"#fdca26\"], [1.0, \"#f0f921\"]]}, \"colorway\": [\"#636efa\", \"#EF553B\", \"#00cc96\", \"#ab63fa\", \"#FFA15A\", \"#19d3f3\", \"#FF6692\", \"#B6E880\", \"#FF97FF\", \"#FECB52\"], \"font\": {\"color\": \"#2a3f5f\"}, \"geo\": {\"bgcolor\": \"white\", \"lakecolor\": \"white\", \"landcolor\": \"#E5ECF6\", \"showlakes\": true, \"showland\": true, \"subunitcolor\": \"white\"}, \"hoverlabel\": {\"align\": \"left\"}, \"hovermode\": \"closest\", \"mapbox\": {\"style\": \"light\"}, \"paper_bgcolor\": \"white\", \"plot_bgcolor\": \"#E5ECF6\", \"polar\": {\"angularaxis\": {\"gridcolor\": \"white\", \"linecolor\": \"white\", \"ticks\": \"\"}, \"bgcolor\": \"#E5ECF6\", \"radialaxis\": {\"gridcolor\": \"white\", \"linecolor\": \"white\", \"ticks\": \"\"}}, \"scene\": {\"xaxis\": {\"backgroundcolor\": \"#E5ECF6\", \"gridcolor\": \"white\", \"gridwidth\": 2, \"linecolor\": \"white\", \"showbackground\": true, \"ticks\": \"\", \"zerolinecolor\": \"white\"}, \"yaxis\": {\"backgroundcolor\": \"#E5ECF6\", \"gridcolor\": \"white\", \"gridwidth\": 2, \"linecolor\": \"white\", \"showbackground\": true, \"ticks\": \"\", \"zerolinecolor\": \"white\"}, \"zaxis\": {\"backgroundcolor\": \"#E5ECF6\", \"gridcolor\": \"white\", \"gridwidth\": 2, \"linecolor\": \"white\", \"showbackground\": true, \"ticks\": \"\", \"zerolinecolor\": \"white\"}}, \"shapedefaults\": {\"line\": {\"color\": \"#2a3f5f\"}}, \"ternary\": {\"aaxis\": {\"gridcolor\": \"white\", \"linecolor\": \"white\", \"ticks\": \"\"}, \"baxis\": {\"gridcolor\": \"white\", \"linecolor\": \"white\", \"ticks\": \"\"}, \"bgcolor\": \"#E5ECF6\", \"caxis\": {\"gridcolor\": \"white\", \"linecolor\": \"white\", \"ticks\": \"\"}}, \"title\": {\"x\": 0.05}, \"xaxis\": {\"automargin\": true, \"gridcolor\": \"white\", \"linecolor\": \"white\", \"ticks\": \"\", \"title\": {\"standoff\": 15}, \"zerolinecolor\": \"white\", \"zerolinewidth\": 2}, \"yaxis\": {\"automargin\": true, \"gridcolor\": \"white\", \"linecolor\": \"white\", \"ticks\": \"\", \"title\": {\"standoff\": 15}, \"zerolinecolor\": \"white\", \"zerolinewidth\": 2}}}, \"title\": {\"text\": \"Model Performation\"}, \"width\": 1080, \"xaxis\": {\"anchor\": \"y\", \"domain\": [0.0, 0.45], \"title\": {\"text\": \"Epochs\"}}, \"xaxis2\": {\"anchor\": \"y2\", \"domain\": [0.55, 1.0], \"title\": {\"text\": \"Epochs\"}}, \"yaxis\": {\"anchor\": \"x\", \"domain\": [0.0, 1.0], \"title\": {\"text\": \"Accuracy\"}}, \"yaxis2\": {\"anchor\": \"x2\", \"domain\": [0.0, 1.0], \"title\": {\"text\": \"Loss\"}}},\n",
       "                        {\"responsive\": true}\n",
       "                    ).then(function(){\n",
       "                            \n",
       "var gd = document.getElementById('34c81695-1698-45d4-b9f2-ede6dd4a3630');\n",
       "var x = new MutationObserver(function (mutations, observer) {{\n",
       "        var display = window.getComputedStyle(gd).display;\n",
       "        if (!display || display === 'none') {{\n",
       "            console.log([gd, 'removed!']);\n",
       "            Plotly.purge(gd);\n",
       "            observer.disconnect();\n",
       "        }}\n",
       "}});\n",
       "\n",
       "// Listen for the removal of the full notebook cells\n",
       "var notebookContainer = gd.closest('#notebook-container');\n",
       "if (notebookContainer) {{\n",
       "    x.observe(notebookContainer, {childList: true});\n",
       "}}\n",
       "\n",
       "// Listen for the clearing of the current output cell\n",
       "var outputEl = gd.closest('.output');\n",
       "if (outputEl) {{\n",
       "    x.observe(outputEl, {childList: true});\n",
       "}}\n",
       "\n",
       "                        })\n",
       "                };\n",
       "                });\n",
       "            </script>\n",
       "        </div>"
      ]
     },
     "metadata": {},
     "output_type": "display_data"
    }
   ],
   "source": [
    "h_accuracy = history.history['accuracy']\n",
    "h_val_accuracy = history.history['val_accuracy']\n",
    "h_loss = history.history['loss']\n",
    "h_val_loss = history.history['val_loss']\n",
    "\n",
    "fig = make_subplots(rows=1, cols=2)\n",
    "\n",
    "fig.add_trace(go.Scatter(y=h_accuracy, mode='lines+markers', name='accuracy', line=dict(color='skyblue')),\n",
    "              row=1, col=1)\n",
    "fig.add_trace(go.Scatter(y=h_val_accuracy, mode='lines+markers', name='validation accuracy', line=dict(color='dodgerblue')),\n",
    "              row=1, col=1)\n",
    "\n",
    "fig.add_trace(go.Scatter(y=h_loss, mode='lines+markers',name='loss', line=dict(color='lightsalmon')),\n",
    "              row=1, col=2)\n",
    "fig.add_trace(go.Scatter(y=h_val_loss, mode='lines+markers', name='validation loss', line=dict(color='tomato')),\n",
    "              row=1, col=2)\n",
    "\n",
    "fig.update_xaxes(title_text='Epochs', row=1, col=1)\n",
    "fig.update_xaxes(title_text='Epochs', row=1, col=2)\n",
    "fig.update_yaxes(title_text='Accuracy', row=1, col=1)\n",
    "fig.update_yaxes(title_text='Loss', row=1, col=2)\n",
    "\n",
    "fig.update_layout(title='Model Performation', height=480, width=1080)"
   ]
  },
  {
   "cell_type": "markdown",
   "metadata": {},
   "source": [
    "## Data prediction\n",
    "I don't know why the test data on kaggle is different with the one on google drive"
   ]
  },
  {
   "cell_type": "code",
   "execution_count": 114,
   "metadata": {},
   "outputs": [
    {
     "data": {
      "text/html": [
       "<div>\n",
       "<style scoped>\n",
       "    .dataframe tbody tr th:only-of-type {\n",
       "        vertical-align: middle;\n",
       "    }\n",
       "\n",
       "    .dataframe tbody tr th {\n",
       "        vertical-align: top;\n",
       "    }\n",
       "\n",
       "    .dataframe thead th {\n",
       "        text-align: right;\n",
       "    }\n",
       "</style>\n",
       "<table border=\"1\" class=\"dataframe\">\n",
       "  <thead>\n",
       "    <tr style=\"text-align: right;\">\n",
       "      <th></th>\n",
       "      <th>review_id</th>\n",
       "      <th>review</th>\n",
       "    </tr>\n",
       "  </thead>\n",
       "  <tbody>\n",
       "    <tr>\n",
       "      <th>0</th>\n",
       "      <td>1</td>\n",
       "      <td>Great danger, cool, motif and cantik2 jg model...</td>\n",
       "    </tr>\n",
       "    <tr>\n",
       "      <th>1</th>\n",
       "      <td>2</td>\n",
       "      <td>One of the shades don't fit well</td>\n",
       "    </tr>\n",
       "    <tr>\n",
       "      <th>2</th>\n",
       "      <td>3</td>\n",
       "      <td>Very comfortable</td>\n",
       "    </tr>\n",
       "    <tr>\n",
       "      <th>3</th>\n",
       "      <td>4</td>\n",
       "      <td>Fast delivery. Product expiry is on Dec 2022. ...</td>\n",
       "    </tr>\n",
       "    <tr>\n",
       "      <th>4</th>\n",
       "      <td>5</td>\n",
       "      <td>it's sooooo cute! i like playing with the glit...</td>\n",
       "    </tr>\n",
       "  </tbody>\n",
       "</table>\n",
       "</div>"
      ],
      "text/plain": [
       "   review_id                                             review\n",
       "0          1  Great danger, cool, motif and cantik2 jg model...\n",
       "1          2                   One of the shades don't fit well\n",
       "2          3                                   Very comfortable\n",
       "3          4  Fast delivery. Product expiry is on Dec 2022. ...\n",
       "4          5  it's sooooo cute! i like playing with the glit..."
      ]
     },
     "execution_count": 114,
     "metadata": {},
     "output_type": "execute_result"
    }
   ],
   "source": [
    "testdf = pd.read_csv('data/kaggle/test.csv')\n",
    "testdf.head()"
   ]
  },
  {
   "cell_type": "code",
   "execution_count": 115,
   "metadata": {},
   "outputs": [
    {
     "data": {
      "text/plain": [
       "60427"
      ]
     },
     "execution_count": 115,
     "metadata": {},
     "output_type": "execute_result"
    }
   ],
   "source": [
    "len(testdf)"
   ]
  },
  {
   "cell_type": "code",
   "execution_count": 116,
   "metadata": {},
   "outputs": [],
   "source": [
    "test = testdf['review'].tolist()\n",
    "test_seq = tokenizer.texts_to_sequences(test)\n",
    "test_seq = pad_sequences(test_seq, padding='post', maxlen=WORD_SEQUENCE_LENGTH)"
   ]
  },
  {
   "cell_type": "code",
   "execution_count": 117,
   "metadata": {},
   "outputs": [],
   "source": [
    "pred = model.predict(test_seq)"
   ]
  },
  {
   "cell_type": "code",
   "execution_count": 118,
   "metadata": {},
   "outputs": [
    {
     "data": {
      "text/plain": [
       "array([[2.9733109e-03, 6.7029811e-02, 8.3005583e-01, 6.2849827e-02,\n",
       "        3.7091237e-02],\n",
       "       [1.8666623e-02, 6.8406999e-02, 4.5586318e-01, 2.2512704e-01,\n",
       "        2.3193623e-01],\n",
       "       [1.7301171e-04, 1.5483038e-03, 7.0666239e-02, 4.4260991e-01,\n",
       "        4.8500249e-01],\n",
       "       ...,\n",
       "       [5.0930335e-06, 1.0721830e-04, 1.8230438e-02, 4.7407785e-01,\n",
       "        5.0757945e-01],\n",
       "       [3.1886199e-03, 1.4256435e-02, 2.1988235e-01, 3.5712633e-01,\n",
       "        4.0554625e-01],\n",
       "       [1.1344216e-02, 4.6329729e-02, 4.0691611e-01, 2.6126617e-01,\n",
       "        2.7414382e-01]], dtype=float32)"
      ]
     },
     "execution_count": 118,
     "metadata": {},
     "output_type": "execute_result"
    }
   ],
   "source": [
    "pred"
   ]
  },
  {
   "cell_type": "code",
   "execution_count": 119,
   "metadata": {},
   "outputs": [
    {
     "data": {
      "text/html": [
       "<div>\n",
       "<style scoped>\n",
       "    .dataframe tbody tr th:only-of-type {\n",
       "        vertical-align: middle;\n",
       "    }\n",
       "\n",
       "    .dataframe tbody tr th {\n",
       "        vertical-align: top;\n",
       "    }\n",
       "\n",
       "    .dataframe thead th {\n",
       "        text-align: right;\n",
       "    }\n",
       "</style>\n",
       "<table border=\"1\" class=\"dataframe\">\n",
       "  <thead>\n",
       "    <tr style=\"text-align: right;\">\n",
       "      <th></th>\n",
       "      <th>review_id</th>\n",
       "      <th>rating</th>\n",
       "    </tr>\n",
       "  </thead>\n",
       "  <tbody>\n",
       "    <tr>\n",
       "      <th>0</th>\n",
       "      <td>1</td>\n",
       "      <td>3</td>\n",
       "    </tr>\n",
       "    <tr>\n",
       "      <th>1</th>\n",
       "      <td>2</td>\n",
       "      <td>3</td>\n",
       "    </tr>\n",
       "    <tr>\n",
       "      <th>2</th>\n",
       "      <td>3</td>\n",
       "      <td>5</td>\n",
       "    </tr>\n",
       "    <tr>\n",
       "      <th>3</th>\n",
       "      <td>4</td>\n",
       "      <td>3</td>\n",
       "    </tr>\n",
       "    <tr>\n",
       "      <th>4</th>\n",
       "      <td>5</td>\n",
       "      <td>5</td>\n",
       "    </tr>\n",
       "  </tbody>\n",
       "</table>\n",
       "</div>"
      ],
      "text/plain": [
       "   review_id  rating\n",
       "0          1       3\n",
       "1          2       3\n",
       "2          3       5\n",
       "3          4       3\n",
       "4          5       5"
      ]
     },
     "execution_count": 119,
     "metadata": {},
     "output_type": "execute_result"
    }
   ],
   "source": [
    "classes = np.argmax(pred, axis=1)\n",
    "classes = classes + 1\n",
    "submission = testdf.drop('review', axis=1)\n",
    "submission['rating']=classes\n",
    "submission.head()"
   ]
  },
  {
   "cell_type": "code",
   "execution_count": 120,
   "metadata": {},
   "outputs": [
    {
     "name": "stdout",
     "output_type": "stream",
     "text": [
      "===========Description===========\n",
      "           review_id        rating\n",
      "count  60427.000000  60427.000000\n",
      "mean   30214.000000      3.739554\n",
      "std    17443.916695      1.250976\n",
      "min        1.000000      1.000000\n",
      "25%    15107.500000      3.000000\n",
      "50%    30214.000000      3.000000\n",
      "75%    45320.500000      5.000000\n",
      "max    60427.000000      5.000000 \n",
      "\n",
      "rating 1:  4535\n",
      "rating 2:  728\n",
      "rating 3:  27806\n",
      "rating 4:  229\n",
      "rating 5:  27129\n"
     ]
    }
   ],
   "source": [
    "print('===========Description===========\\n', submission.describe(), '\\n')\n",
    "print('rating 1: ', submission[submission['rating'] == 1].rating.count())\n",
    "print('rating 2: ', submission[submission['rating'] == 2].rating.count())\n",
    "print('rating 3: ', submission[submission['rating'] == 3].rating.count())\n",
    "print('rating 4: ', submission[submission['rating'] == 4].rating.count())\n",
    "print('rating 5: ', submission[submission['rating'] == 5].rating.count())"
   ]
  },
  {
   "cell_type": "code",
   "execution_count": 121,
   "metadata": {},
   "outputs": [],
   "source": [
    "submission.to_csv('submission/submission_00.csv', index=False)"
   ]
  }
 ],
 "metadata": {
  "kernelspec": {
   "display_name": "Python 3",
   "language": "python",
   "name": "python3"
  },
  "language_info": {
   "codemirror_mode": {
    "name": "ipython",
    "version": 3
   },
   "file_extension": ".py",
   "mimetype": "text/x-python",
   "name": "python",
   "nbconvert_exporter": "python",
   "pygments_lexer": "ipython3",
   "version": "3.7.7"
  }
 },
 "nbformat": 4,
 "nbformat_minor": 4
}
