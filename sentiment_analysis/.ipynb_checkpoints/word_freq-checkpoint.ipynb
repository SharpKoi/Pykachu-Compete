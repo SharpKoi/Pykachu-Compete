{
 "cells": [
  {
   "cell_type": "markdown",
   "metadata": {},
   "source": [
    "# Feature Engineering"
   ]
  },
  {
   "cell_type": "markdown",
   "metadata": {},
   "source": [
    "## Import packages"
   ]
  },
  {
   "cell_type": "code",
   "execution_count": 1,
   "metadata": {},
   "outputs": [],
   "source": [
    "import re\n",
    "import numpy as np\n",
    "import pandas as pd\n",
    "pd.set_option('display.max_colwidth', 0)"
   ]
  },
  {
   "cell_type": "code",
   "execution_count": 2,
   "metadata": {},
   "outputs": [],
   "source": [
    "dest = 'data/cleaned_data/'"
   ]
  },
  {
   "cell_type": "markdown",
   "metadata": {},
   "source": [
    "## Read raw data"
   ]
  },
  {
   "cell_type": "code",
   "execution_count": 3,
   "metadata": {},
   "outputs": [],
   "source": [
    "_df = pd.read_csv('data/train.csv')"
   ]
  },
  {
   "cell_type": "code",
   "execution_count": 4,
   "metadata": {},
   "outputs": [],
   "source": [
    "df = _df.copy()"
   ]
  },
  {
   "cell_type": "markdown",
   "metadata": {},
   "source": [
    "## Initially clean data"
   ]
  },
  {
   "cell_type": "code",
   "execution_count": 5,
   "metadata": {},
   "outputs": [],
   "source": [
    "df['review'] = df['review'].str.lower().str.strip().str.replace(u'\\u200b', ' ')"
   ]
  },
  {
   "cell_type": "code",
   "execution_count": 6,
   "metadata": {},
   "outputs": [],
   "source": [
    "# good quality\n",
    "gqdf = df[df['review'] == 'good quality']"
   ]
  },
  {
   "cell_type": "code",
   "execution_count": 7,
   "metadata": {},
   "outputs": [
    {
     "name": "stderr",
     "output_type": "stream",
     "text": [
      "C:\\Users\\pb580\\anaconda3\\envs\\ML_Env\\lib\\site-packages\\pandas\\core\\indexing.py:671: SettingWithCopyWarning: \n",
      "A value is trying to be set on a copy of a slice from a DataFrame\n",
      "\n",
      "See the caveats in the documentation: https://pandas.pydata.org/pandas-docs/stable/user_guide/indexing.html#returning-a-view-versus-a-copy\n",
      "  self._setitem_with_indexer(indexer, value)\n"
     ]
    }
   ],
   "source": [
    "indexlist = list(gqdf.index)\n",
    "for i in indexlist:\n",
    "    df.rating.loc[i] = 5"
   ]
  },
  {
   "cell_type": "markdown",
   "metadata": {},
   "source": [
    "========================================================================================================================"
   ]
  },
  {
   "cell_type": "markdown",
   "metadata": {},
   "source": [
    "## Emoji Transformation\n",
    "<i class=\"fa fa-exclamation-circle\"></i> 方向2"
   ]
  },
  {
   "cell_type": "code",
   "execution_count": 8,
   "metadata": {},
   "outputs": [],
   "source": [
    "import emoji\n",
    "import emojis"
   ]
  },
  {
   "cell_type": "code",
   "execution_count": 9,
   "metadata": {},
   "outputs": [],
   "source": [
    "def widen_emoji(text):\n",
    "    for c in text:\n",
    "        if c in emoji.UNICODE_EMOJI.keys():\n",
    "            text = ' '.join(text.replace(c, (' '+c+' ')).split())\n",
    "    return text"
   ]
  },
  {
   "cell_type": "code",
   "execution_count": 10,
   "metadata": {},
   "outputs": [],
   "source": [
    "df['review'] = df['review'].apply(widen_emoji)"
   ]
  },
  {
   "cell_type": "code",
   "execution_count": 11,
   "metadata": {},
   "outputs": [
    {
     "name": "stdout",
     "output_type": "stream",
     "text": [
      "19163\n"
     ]
    },
    {
     "data": {
      "text/plain": [
       "136547    took about two weeks for it to be delivered but i’m very happy with the product 😊                                                                             \n",
       "76222     the carpet is nice .. sodara2 on want to buy. delivery cepet bgt well. satisfied substantially terimakasih 🙏 🏼                                                \n",
       "124256    alhamdulillah shopping dsni always satisfactory. pasmina rope jg okay. eid gift kirain what so interchangeable. dah subscription dsni 😁 thanks                \n",
       "65679     anyway it mantaap mah 👍                                                                                                                                       \n",
       "67803     excellent product quality the product price is very good the response is very good seller delivery speed is less baikkk. long 😵 . tp puassss with brg.y bgusss\n",
       "Name: review, dtype: object"
      ]
     },
     "execution_count": 11,
     "metadata": {},
     "output_type": "execute_result"
    }
   ],
   "source": [
    "# 檢查一下是否轉換成功\n",
    "emoji_df = df[df['review'].str.contains(u'[\\U00002600-\\U000027BF]|[\\U0001f300-\\U0001f64F]|[\\U0001f680-\\U0001f6FF]')]\n",
    "print(len(emoji_df))\n",
    "emoji_df.sample(5)['review']"
   ]
  },
  {
   "cell_type": "code",
   "execution_count": 12,
   "metadata": {},
   "outputs": [],
   "source": [
    "# 用空白分開emoji後的資料\n",
    "df.to_csv('data/cleaned_data/data_emoji.csv', index=False)"
   ]
  },
  {
   "cell_type": "code",
   "execution_count": 13,
   "metadata": {},
   "outputs": [],
   "source": [
    "df['review'] = df['review'].apply(emojis.decode)"
   ]
  },
  {
   "cell_type": "code",
   "execution_count": 14,
   "metadata": {},
   "outputs": [],
   "source": [
    "# 用空白分開emoji且把emoji轉成單詞後的資料\n",
    "df.to_csv('data/cleaned_data/data_emoji2word.csv', index=False)"
   ]
  },
  {
   "cell_type": "markdown",
   "metadata": {},
   "source": [
    "## Abbreviation Decompose\n",
    "<i class=\"fa fa-exclamation-circle\"></i> 方向4"
   ]
  },
  {
   "cell_type": "code",
   "execution_count": 15,
   "metadata": {},
   "outputs": [
    {
     "name": "stdout",
     "output_type": "stream",
     "text": [
      "9300\n"
     ]
    },
    {
     "data": {
      "text/html": [
       "<div>\n",
       "<style scoped>\n",
       "    .dataframe tbody tr th:only-of-type {\n",
       "        vertical-align: middle;\n",
       "    }\n",
       "\n",
       "    .dataframe tbody tr th {\n",
       "        vertical-align: top;\n",
       "    }\n",
       "\n",
       "    .dataframe thead th {\n",
       "        text-align: right;\n",
       "    }\n",
       "</style>\n",
       "<table border=\"1\" class=\"dataframe\">\n",
       "  <thead>\n",
       "    <tr style=\"text-align: right;\">\n",
       "      <th></th>\n",
       "      <th>review_id</th>\n",
       "      <th>review</th>\n",
       "      <th>rating</th>\n",
       "    </tr>\n",
       "  </thead>\n",
       "  <tbody>\n",
       "    <tr>\n",
       "      <th>101675</th>\n",
       "      <td>101675</td>\n",
       "      <td>excellent product quality excellent product price is very good seller's response</td>\n",
       "      <td>4</td>\n",
       "    </tr>\n",
       "    <tr>\n",
       "      <th>36443</th>\n",
       "      <td>36443</td>\n",
       "      <td>pepper, spicy but not too much salt, both because people eat spicy recipes. but do not eat a chili cook is also very salty. enter the oyster's salty year, thanks to you.</td>\n",
       "      <td>3</td>\n",
       "    </tr>\n",
       "    <tr>\n",
       "      <th>145132</th>\n",
       "      <td>145132</td>\n",
       "      <td>excellent product quality excellent product price is very good delivery speed is very good seller's response</td>\n",
       "      <td>5</td>\n",
       "    </tr>\n",
       "    <tr>\n",
       "      <th>15988</th>\n",
       "      <td>15988</td>\n",
       "      <td>item came on time and packed.  however, item is quite noisy and item didn't come with airtube. can't be used without airtube.</td>\n",
       "      <td>2</td>\n",
       "    </tr>\n",
       "    <tr>\n",
       "      <th>67173</th>\n",
       "      <td>67173</td>\n",
       "      <td>its very fabric soft long they're good. like many other :thumbsup: :thumbsup: :thumbsup: :thumbsup: :thumbsup: :thumbsup: :thumbsup: :thumbsup: :thumbsup: its very fabric soft long they're good. like many other :thumbsup: :thumbsup: :thumbsup: :thumbsup: :thumbsup: :thumbsup: :thumbsup: :thumbsup: :thumbsup: :thumbsup: :thumbsup: :thumbsup: :thumbsup: :thumbsup:</td>\n",
       "      <td>4</td>\n",
       "    </tr>\n",
       "    <tr>\n",
       "      <th>110907</th>\n",
       "      <td>110907</td>\n",
       "      <td>alhamdulillah ,, senaaang and satisfied bangeeet ,,,, wait for my orders yes ,,,, lbih selanjut ny happy again if it's in love ,,,, hihihiiii bonus .... olshop ny smoothly continue yes yes ,,, thanks. ..</td>\n",
       "      <td>5</td>\n",
       "    </tr>\n",
       "    <tr>\n",
       "      <th>118013</th>\n",
       "      <td>118013</td>\n",
       "      <td>awesome awesome speed of the ship's delivery speed fabulous quality of goods awesome value cp</td>\n",
       "      <td>5</td>\n",
       "    </tr>\n",
       "    <tr>\n",
       "      <th>128116</th>\n",
       "      <td>128116</td>\n",
       "      <td>syukron katsiron his qur'an ka .. i have received well flawless sekali :pray: sellernya well, polite. her beautiful koran, free beads, thank god anyway puass :blush: the product quality is excellent. the product price is very good very good delivery speed is very good seller's response</td>\n",
       "      <td>5</td>\n",
       "    </tr>\n",
       "    <tr>\n",
       "      <th>113354</th>\n",
       "      <td>113354</td>\n",
       "      <td>excellent product quality excellent product price is very good delivery speed is very good seller's response</td>\n",
       "      <td>5</td>\n",
       "    </tr>\n",
       "    <tr>\n",
       "      <th>103531</th>\n",
       "      <td>103531</td>\n",
       "      <td>excellent quality and good looks'll sya :thumbsup: :thumbsup: :thumbsup: of my husband my gift on father's day. very accommodating also seller. god bless !!!</td>\n",
       "      <td>4</td>\n",
       "    </tr>\n",
       "  </tbody>\n",
       "</table>\n",
       "</div>"
      ],
      "text/plain": [
       "        review_id  \\\n",
       "101675  101675      \n",
       "36443   36443       \n",
       "145132  145132      \n",
       "15988   15988       \n",
       "67173   67173       \n",
       "110907  110907      \n",
       "118013  118013      \n",
       "128116  128116      \n",
       "113354  113354      \n",
       "103531  103531      \n",
       "\n",
       "                                                                                                                                                                                                                                                                                                                                                                              review  \\\n",
       "101675  excellent product quality excellent product price is very good seller's response                                                                                                                                                                                                                                                                                               \n",
       "36443   pepper, spicy but not too much salt, both because people eat spicy recipes. but do not eat a chili cook is also very salty. enter the oyster's salty year, thanks to you.                                                                                                                                                                                                      \n",
       "145132  excellent product quality excellent product price is very good delivery speed is very good seller's response                                                                                                                                                                                                                                                                   \n",
       "15988   item came on time and packed.  however, item is quite noisy and item didn't come with airtube. can't be used without airtube.                                                                                                                                                                                                                                                  \n",
       "67173   its very fabric soft long they're good. like many other :thumbsup: :thumbsup: :thumbsup: :thumbsup: :thumbsup: :thumbsup: :thumbsup: :thumbsup: :thumbsup: its very fabric soft long they're good. like many other :thumbsup: :thumbsup: :thumbsup: :thumbsup: :thumbsup: :thumbsup: :thumbsup: :thumbsup: :thumbsup: :thumbsup: :thumbsup: :thumbsup: :thumbsup: :thumbsup:   \n",
       "110907  alhamdulillah ,, senaaang and satisfied bangeeet ,,,, wait for my orders yes ,,,, lbih selanjut ny happy again if it's in love ,,,, hihihiiii bonus .... olshop ny smoothly continue yes yes ,,, thanks. ..                                                                                                                                                                    \n",
       "118013  awesome awesome speed of the ship's delivery speed fabulous quality of goods awesome value cp                                                                                                                                                                                                                                                                                  \n",
       "128116  syukron katsiron his qur'an ka .. i have received well flawless sekali :pray: sellernya well, polite. her beautiful koran, free beads, thank god anyway puass :blush: the product quality is excellent. the product price is very good very good delivery speed is very good seller's response                                                                                 \n",
       "113354  excellent product quality excellent product price is very good delivery speed is very good seller's response                                                                                                                                                                                                                                                                   \n",
       "103531  excellent quality and good looks'll sya :thumbsup: :thumbsup: :thumbsup: of my husband my gift on father's day. very accommodating also seller. god bless !!!                                                                                                                                                                                                                  \n",
       "\n",
       "        rating  \n",
       "101675  4       \n",
       "36443   3       \n",
       "145132  5       \n",
       "15988   2       \n",
       "67173   4       \n",
       "110907  5       \n",
       "118013  5       \n",
       "128116  5       \n",
       "113354  5       \n",
       "103531  4       "
      ]
     },
     "execution_count": 15,
     "metadata": {},
     "output_type": "execute_result"
    }
   ],
   "source": [
    "# 檢查含有 xx'xx 的review\n",
    "def check_abbr():\n",
    "    abbr_pat = re.compile(r'[\\w]+\\'[\\w]+')\n",
    "    return df[df['review'].str.contains(abbr_pat)]\n",
    "\n",
    "abbr_df = check_abbr()\n",
    "print(len(abbr_df))\n",
    "abbr_df.sample(10)"
   ]
  },
  {
   "cell_type": "code",
   "execution_count": 16,
   "metadata": {},
   "outputs": [],
   "source": [
    "mapping = {'\\'s': ' ', '\\'m': ' am', '\\'re': ' are', '\\'ll': ' will', '\\'d': ' would', '\\'t': ' not', '\\'ve': ' have'}\n",
    "\n",
    "for abbr in mapping.keys():\n",
    "    df['review'] = df['review'].str.replace(abbr, mapping[abbr])"
   ]
  },
  {
   "cell_type": "code",
   "execution_count": 17,
   "metadata": {},
   "outputs": [],
   "source": [
    "# 剩下的很多都是打錯或印尼後綴詞 不管了\n",
    "df['review'] = df['review'].str.replace('\\'', '').str.replace('oclock', 'o\\'clock')"
   ]
  },
  {
   "cell_type": "code",
   "execution_count": 18,
   "metadata": {},
   "outputs": [],
   "source": [
    "df.to_csv('data/cleaned_data/data_sol24.csv', index=False)"
   ]
  },
  {
   "cell_type": "markdown",
   "metadata": {},
   "source": [
    "## Spelling Correction\n",
    "<i class=\"fa fa-exclamation-circle\"></i> 方向1  \n",
    "I have no idea.... \n",
    "交給 JiaLing 了"
   ]
  },
  {
   "cell_type": "code",
   "execution_count": 19,
   "metadata": {},
   "outputs": [],
   "source": [
    "from sol1 import trim_letters, detect_language, spell_checker"
   ]
  },
  {
   "cell_type": "code",
   "execution_count": 21,
   "metadata": {},
   "outputs": [
    {
     "data": {
      "text/html": [
       "<div>\n",
       "<style scoped>\n",
       "    .dataframe tbody tr th:only-of-type {\n",
       "        vertical-align: middle;\n",
       "    }\n",
       "\n",
       "    .dataframe tbody tr th {\n",
       "        vertical-align: top;\n",
       "    }\n",
       "\n",
       "    .dataframe thead th {\n",
       "        text-align: right;\n",
       "    }\n",
       "</style>\n",
       "<table border=\"1\" class=\"dataframe\">\n",
       "  <thead>\n",
       "    <tr style=\"text-align: right;\">\n",
       "      <th></th>\n",
       "      <th>review_id</th>\n",
       "      <th>review</th>\n",
       "      <th>rating</th>\n",
       "    </tr>\n",
       "  </thead>\n",
       "  <tbody>\n",
       "    <tr>\n",
       "      <th>37176</th>\n",
       "      <td>37176</td>\n",
       "      <td>mmmmmmaaaannnnnrtttttuuuuuullllllll.....  mmmmaaannnnntttttaaaaappppp bbbbeeeeetuuuuuuulllll.....</td>\n",
       "      <td>3</td>\n",
       "    </tr>\n",
       "    <tr>\n",
       "      <th>133248</th>\n",
       "      <td>133248</td>\n",
       "      <td>hhhhhhh hhhhhhh uuhhhhhhhhhhh hhhhhhhh hhhhhhhhhhhhhhhhh</td>\n",
       "      <td>5</td>\n",
       "    </tr>\n",
       "    <tr>\n",
       "      <th>70727</th>\n",
       "      <td>70727</td>\n",
       "      <td>aaaa :heart_eyes: :heart_eyes: brutally beautiful lunn _shop also cover name for himself again yeu seats sp ❤ ️</td>\n",
       "      <td>4</td>\n",
       "    </tr>\n",
       "    <tr>\n",
       "      <th>67340</th>\n",
       "      <td>67340</td>\n",
       "      <td>bbbaaagggguuuusssss jjjookkknnnyyyyaaa bbbuuusssaaa bbbbggtttt ssseeesssuuuaiii ppeeesssaannnnaannn tttaappiiiii bblllmmm diiiccoobbbaaa mmmuuddahh2ann paaasssss</td>\n",
       "      <td>4</td>\n",
       "    </tr>\n",
       "    <tr>\n",
       "      <th>98559</th>\n",
       "      <td>98559</td>\n",
       "      <td>oooookkkkkeeeee bbbbbaaaaannnnngggggeeeeettttt !!!!!</td>\n",
       "      <td>4</td>\n",
       "    </tr>\n",
       "    <tr>\n",
       "      <th>91662</th>\n",
       "      <td>91662</td>\n",
       "      <td>aaa syuka ckup ..syuka its size is big. good quality good delivery speed. good product quality. :heart_eyes: :heart_eyes: :heart_eyes:</td>\n",
       "      <td>4</td>\n",
       "    </tr>\n",
       "    <tr>\n",
       "      <th>136002</th>\n",
       "      <td>136002</td>\n",
       "      <td>iiiiniii baraaang diipackiiing dengaaan sangaaatt amaat aaaamaaan. suuukaa dengaan waangiinyaaa. fast absorbing</td>\n",
       "      <td>5</td>\n",
       "    </tr>\n",
       "    <tr>\n",
       "      <th>80308</th>\n",
       "      <td>80308</td>\n",
       "      <td>aaaaaa very nice, i sukaaa ❤ thanks</td>\n",
       "      <td>4</td>\n",
       "    </tr>\n",
       "    <tr>\n",
       "      <th>117066</th>\n",
       "      <td>117066</td>\n",
       "      <td>aaaaaaa like nice ishh bnget gmbarnya gk broke then also nyampenya cpet bnget, cuman lack yes gmbarnya so dark so bright pictures pdhal so, sran aja mnurut i must reply bright pictures is high let gk so dark but overall nice anyway mnurut sellernya trus me too well anymore</td>\n",
       "      <td>5</td>\n",
       "    </tr>\n",
       "    <tr>\n",
       "      <th>119956</th>\n",
       "      <td>119956</td>\n",
       "      <td>ddddddddddddddddddddddddddddddd ddddddddddddddddddddddddddddd ddddddddddddddddddddddddddddd ddddddddddddddddddddddddddddd ddddddddddddddddddddddddddddd ddddddddddddddddddddddddddddd ddddddddddddddddddddddddddddd ddddddddddddddddddddddddddddd</td>\n",
       "      <td>5</td>\n",
       "    </tr>\n",
       "  </tbody>\n",
       "</table>\n",
       "</div>"
      ],
      "text/plain": [
       "        review_id  \\\n",
       "37176   37176       \n",
       "133248  133248      \n",
       "70727   70727       \n",
       "67340   67340       \n",
       "98559   98559       \n",
       "91662   91662       \n",
       "136002  136002      \n",
       "80308   80308       \n",
       "117066  117066      \n",
       "119956  119956      \n",
       "\n",
       "                                                                                                                                                                                                                                                                                   review  \\\n",
       "37176   mmmmmmaaaannnnnrtttttuuuuuullllllll.....  mmmmaaannnnntttttaaaaappppp bbbbeeeeetuuuuuuulllll.....                                                                                                                                                                                   \n",
       "133248  hhhhhhh hhhhhhh uuhhhhhhhhhhh hhhhhhhh hhhhhhhhhhhhhhhhh                                                                                                                                                                                                                            \n",
       "70727   aaaa :heart_eyes: :heart_eyes: brutally beautiful lunn _shop also cover name for himself again yeu seats sp ❤ ️                                                                                                                                                                     \n",
       "67340   bbbaaagggguuuusssss jjjookkknnnyyyyaaa bbbuuusssaaa bbbbggtttt ssseeesssuuuaiii ppeeesssaannnnaannn tttaappiiiii bblllmmm diiiccoobbbaaa mmmuuddahh2ann paaasssss                                                                                                                   \n",
       "98559   oooookkkkkeeeee bbbbbaaaaannnnngggggeeeeettttt !!!!!                                                                                                                                                                                                                                \n",
       "91662   aaa syuka ckup ..syuka its size is big. good quality good delivery speed. good product quality. :heart_eyes: :heart_eyes: :heart_eyes:                                                                                                                                              \n",
       "136002  iiiiniii baraaang diipackiiing dengaaan sangaaatt amaat aaaamaaan. suuukaa dengaan waangiinyaaa. fast absorbing                                                                                                                                                                     \n",
       "80308   aaaaaa very nice, i sukaaa ❤ thanks                                                                                                                                                                                                                                                 \n",
       "117066  aaaaaaa like nice ishh bnget gmbarnya gk broke then also nyampenya cpet bnget, cuman lack yes gmbarnya so dark so bright pictures pdhal so, sran aja mnurut i must reply bright pictures is high let gk so dark but overall nice anyway mnurut sellernya trus me too well anymore   \n",
       "119956  ddddddddddddddddddddddddddddddd ddddddddddddddddddddddddddddd ddddddddddddddddddddddddddddd ddddddddddddddddddddddddddddd ddddddddddddddddddddddddddddd ddddddddddddddddddddddddddddd ddddddddddddddddddddddddddddd ddddddddddddddddddddddddddddd                                   \n",
       "\n",
       "        rating  \n",
       "37176   3       \n",
       "133248  5       \n",
       "70727   4       \n",
       "67340   4       \n",
       "98559   4       \n",
       "91662   4       \n",
       "136002  5       \n",
       "80308   4       \n",
       "117066  5       \n",
       "119956  5       "
      ]
     },
     "execution_count": 21,
     "metadata": {},
     "output_type": "execute_result"
    }
   ],
   "source": [
    "pattern = re.compile(r\"([a-zA-z_])\\1{2,}\", re.DOTALL)\n",
    "df[df['review'].str.match(pattern)].sample(10)"
   ]
  },
  {
   "cell_type": "code",
   "execution_count": 23,
   "metadata": {},
   "outputs": [],
   "source": [
    "df['review'] = df['review'].apply(trim_letters)"
   ]
  },
  {
   "cell_type": "code",
   "execution_count": 24,
   "metadata": {
    "scrolled": true
   },
   "outputs": [
    {
     "ename": "NameError",
     "evalue": "name 'df1' is not defined",
     "output_type": "error",
     "traceback": [
      "\u001b[1;31m---------------------------------------------------------------------------\u001b[0m",
      "\u001b[1;31mNameError\u001b[0m                                 Traceback (most recent call last)",
      "\u001b[1;32m<ipython-input-24-b97da8099431>\u001b[0m in \u001b[0;36m<module>\u001b[1;34m\u001b[0m\n\u001b[0;32m      1\u001b[0m \u001b[0mpattern\u001b[0m \u001b[1;33m=\u001b[0m \u001b[0mre\u001b[0m\u001b[1;33m.\u001b[0m\u001b[0mcompile\u001b[0m\u001b[1;33m(\u001b[0m\u001b[1;34mr\"([a-zA-z_])\\1\"\u001b[0m\u001b[1;33m,\u001b[0m \u001b[0mre\u001b[0m\u001b[1;33m.\u001b[0m\u001b[0mDOTALL\u001b[0m\u001b[1;33m)\u001b[0m\u001b[1;33m\u001b[0m\u001b[1;33m\u001b[0m\u001b[0m\n\u001b[1;32m----> 2\u001b[1;33m \u001b[0mdf1\u001b[0m\u001b[1;33m[\u001b[0m\u001b[0mdf1\u001b[0m\u001b[1;33m[\u001b[0m\u001b[1;34m'review'\u001b[0m\u001b[1;33m]\u001b[0m\u001b[1;33m.\u001b[0m\u001b[0mstr\u001b[0m\u001b[1;33m.\u001b[0m\u001b[0mmatch\u001b[0m\u001b[1;33m(\u001b[0m\u001b[0mpattern\u001b[0m\u001b[1;33m)\u001b[0m\u001b[1;33m]\u001b[0m\u001b[1;33m.\u001b[0m\u001b[0msample\u001b[0m\u001b[1;33m(\u001b[0m\u001b[1;36m10\u001b[0m\u001b[1;33m)\u001b[0m\u001b[1;33m\u001b[0m\u001b[1;33m\u001b[0m\u001b[0m\n\u001b[0m",
      "\u001b[1;31mNameError\u001b[0m: name 'df1' is not defined"
     ]
    }
   ],
   "source": [
    "pattern = re.compile(r\"([a-zA-z_])\\1\", re.DOTALL)\n",
    "df[df['review'].str.match(pattern)].sample(10)"
   ]
  },
  {
   "cell_type": "code",
   "execution_count": null,
   "metadata": {},
   "outputs": [],
   "source": [
    "# 印尼單詞轉英文\n",
    "id2en = {'bagus': 'very good', 'bgus': 'very good', \n",
    "         'banget': 'really', 'bnget': 'really', \n",
    "         'sip': 'ok', 'siip': 'ok', 'ssiipp':'ok',\n",
    "         'baunya': 'smell', \n",
    "         'pesenan': 'purchase'}\n",
    "\n",
    "for idon in id2en.keys():\n",
    "    df['review'] = df['review'].str.replace(idon, id2en[idon])"
   ]
  },
  {
   "cell_type": "code",
   "execution_count": null,
   "metadata": {},
   "outputs": [],
   "source": [
    "# 縮寫轉換\n"
   ]
  },
  {
   "cell_type": "code",
   "execution_count": null,
   "metadata": {},
   "outputs": [],
   "source": [
    "# 拼字糾正\n"
   ]
  },
  {
   "cell_type": "code",
   "execution_count": 26,
   "metadata": {},
   "outputs": [],
   "source": [
    "df.to_csv(dest+'data_sol241.csv', index=False)"
   ]
  },
  {
   "cell_type": "markdown",
   "metadata": {},
   "source": [
    "## Meaningless Spelling Filter\n",
    "<span style='color:#FF0000'><i class=\"fa fa-exclamation-circle\"></i> 這個cell必須建立在方向2、4、1都解決的前提下才能執行。</span>  \n",
    "<i class=\"fa fa-exclamation-circle\"></i> 方向5  \n",
    "過濾掉那些亂打字的字串，目前的做法是詞頻小於n個的都拿掉，可能會拿掉一些正常單詞，但出現數量太少也不會影響學習。"
   ]
  },
  {
   "cell_type": "code",
   "execution_count": null,
   "metadata": {},
   "outputs": [],
   "source": [
    "import nltk\n",
    "# nltk.download('stopwords') 沒下載過的話把註解拿掉\n",
    "# nltk.download('punkt') 沒下載過的話把註解拿掉\n",
    "\n",
    "import string\n",
    "from nltk.corpus import stopwords"
   ]
  },
  {
   "cell_type": "code",
   "execution_count": null,
   "metadata": {},
   "outputs": [],
   "source": [
    "# 讀取處理好的檔\n",
    "df = pd.read_csv(dest+'data_sol241.csv')"
   ]
  },
  {
   "cell_type": "code",
   "execution_count": null,
   "metadata": {},
   "outputs": [],
   "source": [
    "df[df['review'].isna()]"
   ]
  },
  {
   "cell_type": "code",
   "execution_count": null,
   "metadata": {},
   "outputs": [],
   "source": [
    "# 先把符號過濾掉\n",
    "df['review'] = df['review'].str.replace(r'[^\\w\\s\\r\\n]', '')"
   ]
  },
  {
   "cell_type": "code",
   "execution_count": null,
   "metadata": {},
   "outputs": [],
   "source": [
    "# 定義最小詞頻(3就有很強的效果了，4以上明顯會過濾掉有意義單詞)\n",
    "TOL = 3"
   ]
  },
  {
   "cell_type": "code",
   "execution_count": null,
   "metadata": {},
   "outputs": [],
   "source": [
    "# 把所有單詞丟進words\n",
    "words = []\n",
    "stops = stopwords.words('english') + list(string.punctuation)\n",
    "wordslist = df['review'].apply(nltk.word_tokenize)\n",
    "for i in range(len(df)):\n",
    "    words.extend([word for word in wordslist[i] if word not in stops])"
   ]
  },
  {
   "cell_type": "code",
   "execution_count": null,
   "metadata": {},
   "outputs": [],
   "source": [
    "# 統計每個單詞出現的量(詞頻)\n",
    "wordfreqs = nltk.FreqDist(words)\n",
    "wordfreqs"
   ]
  },
  {
   "cell_type": "code",
   "execution_count": null,
   "metadata": {
    "scrolled": true
   },
   "outputs": [],
   "source": [
    "# 看一下哪些東西可以刪\n",
    "def get_meanless_words(tolerance=3, maxlen=10):\n",
    "    removables = {}\n",
    "    wordfreq_arr = np.array(list(wordfreqs.items()))\n",
    "    for wf in wordfreq_arr:\n",
    "        if (int(wf[1]) <= tolerance) and (len(wf[0]) >= maxlen):\n",
    "            removables[wf[0]] = wf[1]\n",
    "\n",
    "    return removables\n",
    "\n",
    "meanless_words_dict = get_meanless_words(TOL, 10)"
   ]
  },
  {
   "cell_type": "code",
   "execution_count": null,
   "metadata": {},
   "outputs": [],
   "source": [
    "len(meanless_words_dict)"
   ]
  },
  {
   "cell_type": "code",
   "execution_count": null,
   "metadata": {},
   "outputs": [],
   "source": [
    "# 過濾掉無意義的詞，丟回df裡\n",
    "cleaned_texts = []\n",
    "meanless_words = list(meanless_words_dict.keys())\n",
    "for wl in wordslist:\n",
    "    cleaned_words = []\n",
    "    for w in wl:\n",
    "        if w not in meanless_words:\n",
    "            cleaned_words.append(w)\n",
    "    cleaned_texts.append(' '.join(cleaned_words))\n",
    "\n",
    "df['review'] = cleaned_texts"
   ]
  },
  {
   "cell_type": "code",
   "execution_count": null,
   "metadata": {},
   "outputs": [],
   "source": [
    "df[df['review'].str.match(r'^[\\s]+$')]"
   ]
  },
  {
   "cell_type": "code",
   "execution_count": null,
   "metadata": {},
   "outputs": [],
   "source": [
    "df.to_csv(dest+'trainbest.csv', index=False)"
   ]
  },
  {
   "cell_type": "markdown",
   "metadata": {},
   "source": [
    "## Stopwords"
   ]
  },
  {
   "cell_type": "code",
   "execution_count": null,
   "metadata": {},
   "outputs": [],
   "source": []
  }
 ],
 "metadata": {
  "kernelspec": {
   "display_name": "Python 3",
   "language": "python",
   "name": "python3"
  },
  "language_info": {
   "codemirror_mode": {
    "name": "ipython",
    "version": 3
   },
   "file_extension": ".py",
   "mimetype": "text/x-python",
   "name": "python",
   "nbconvert_exporter": "python",
   "pygments_lexer": "ipython3",
   "version": "3.7.7"
  }
 },
 "nbformat": 4,
 "nbformat_minor": 4
}
