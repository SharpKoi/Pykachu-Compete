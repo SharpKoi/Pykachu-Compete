{
 "cells": [
  {
   "cell_type": "markdown",
   "metadata": {},
   "source": [
    "# Data Analysis"
   ]
  },
  {
   "cell_type": "markdown",
   "metadata": {},
   "source": [
    "## Import packages"
   ]
  },
  {
   "cell_type": "code",
   "execution_count": 19,
   "metadata": {},
   "outputs": [],
   "source": [
    "import os\n",
    "os.environ['KERAS_BACKEND']='theano'\n",
    "\n",
    "import numpy as np\n",
    "import pandas as pd\n",
    "import re\n",
    "\n",
    "import matplotlib.pyplot as plt\n",
    "plt.switch_backend('agg')\n",
    "\n",
    "from sklearn.model_selection import train_test_split\n",
    "\n",
    "import tensorflow as tf\n",
    "\n",
    "from keras.preprocessing.text import Tokenizer\n",
    "from keras.preprocessing.sequence import pad_sequences\n",
    "from keras.utils.np_utils import to_categorical\n",
    "from keras.layers import Dense, Input, Flatten\n",
    "from keras.layers import Conv1D, MaxPooling1D, Embedding, Dropout\n",
    "from keras.models import Model\n",
    "from keras.callbacks import ModelCheckpoint"
   ]
  },
  {
   "cell_type": "markdown",
   "metadata": {},
   "source": [
    "## Define constants"
   ]
  },
  {
   "cell_type": "code",
   "execution_count": 2,
   "metadata": {},
   "outputs": [],
   "source": [
    "MAX_VOCABULARY_NUM = 200000\n",
    "WORD_SEQUENCE_LENGTH = 1000\n",
    "EMBEDDING_DIM = 100\n",
    "LABEL_NUM = 5"
   ]
  },
  {
   "cell_type": "markdown",
   "metadata": {},
   "source": [
    "## Read data"
   ]
  },
  {
   "cell_type": "code",
   "execution_count": 3,
   "metadata": {},
   "outputs": [
    {
     "data": {
      "text/html": [
       "<div>\n",
       "<style scoped>\n",
       "    .dataframe tbody tr th:only-of-type {\n",
       "        vertical-align: middle;\n",
       "    }\n",
       "\n",
       "    .dataframe tbody tr th {\n",
       "        vertical-align: top;\n",
       "    }\n",
       "\n",
       "    .dataframe thead th {\n",
       "        text-align: right;\n",
       "    }\n",
       "</style>\n",
       "<table border=\"1\" class=\"dataframe\">\n",
       "  <thead>\n",
       "    <tr style=\"text-align: right;\">\n",
       "      <th></th>\n",
       "      <th>review_id</th>\n",
       "      <th>review</th>\n",
       "      <th>rating</th>\n",
       "    </tr>\n",
       "  </thead>\n",
       "  <tbody>\n",
       "    <tr>\n",
       "      <th>136916</th>\n",
       "      <td>136916</td>\n",
       "      <td>The product quality is excellent. The origina...</td>\n",
       "      <td>5</td>\n",
       "    </tr>\n",
       "    <tr>\n",
       "      <th>118543</th>\n",
       "      <td>118543</td>\n",
       "      <td>Product has been successfully Pack of well The...</td>\n",
       "      <td>5</td>\n",
       "    </tr>\n",
       "    <tr>\n",
       "      <th>23284</th>\n",
       "      <td>23284</td>\n",
       "      <td>Request a pink tissue d love blue</td>\n",
       "      <td>2</td>\n",
       "    </tr>\n",
       "    <tr>\n",
       "      <th>52737</th>\n",
       "      <td>52737</td>\n",
       "      <td>It floated its great length, drifted a little....</td>\n",
       "      <td>3</td>\n",
       "    </tr>\n",
       "    <tr>\n",
       "      <th>69277</th>\n",
       "      <td>69277</td>\n",
       "      <td>God bless you really like it though but not lo...</td>\n",
       "      <td>4</td>\n",
       "    </tr>\n",
       "    <tr>\n",
       "      <th>25599</th>\n",
       "      <td>25599</td>\n",
       "      <td>Delivery is slow, but some fabrics wear well.</td>\n",
       "      <td>2</td>\n",
       "    </tr>\n",
       "    <tr>\n",
       "      <th>69990</th>\n",
       "      <td>69990</td>\n",
       "      <td>The product quality is excellent. The product...</td>\n",
       "      <td>4</td>\n",
       "    </tr>\n",
       "    <tr>\n",
       "      <th>34991</th>\n",
       "      <td>34991</td>\n",
       "      <td>1. Good product quality 2. Cheaper than any ot...</td>\n",
       "      <td>3</td>\n",
       "    </tr>\n",
       "    <tr>\n",
       "      <th>97658</th>\n",
       "      <td>97658</td>\n",
       "      <td>Goods has arrived. Beautiful color. Value for ...</td>\n",
       "      <td>4</td>\n",
       "    </tr>\n",
       "    <tr>\n",
       "      <th>27032</th>\n",
       "      <td>27032</td>\n",
       "      <td>Product quality standards. The price of the s...</td>\n",
       "      <td>2</td>\n",
       "    </tr>\n",
       "  </tbody>\n",
       "</table>\n",
       "</div>"
      ],
      "text/plain": [
       "        review_id                                             review  rating\n",
       "136916     136916   The product quality is excellent. The origina...       5\n",
       "118543     118543  Product has been successfully Pack of well The...       5\n",
       "23284       23284                  Request a pink tissue d love blue       2\n",
       "52737       52737  It floated its great length, drifted a little....       3\n",
       "69277       69277  God bless you really like it though but not lo...       4\n",
       "25599       25599      Delivery is slow, but some fabrics wear well.       2\n",
       "69990       69990   The product quality is excellent. The product...       4\n",
       "34991       34991  1. Good product quality 2. Cheaper than any ot...       3\n",
       "97658       97658  Goods has arrived. Beautiful color. Value for ...       4\n",
       "27032       27032   Product quality standards. The price of the s...       2"
      ]
     },
     "execution_count": 3,
     "metadata": {},
     "output_type": "execute_result"
    }
   ],
   "source": [
    "_df = pd.read_csv('data/train.csv')\n",
    "_df.sample(10)"
   ]
  },
  {
   "cell_type": "code",
   "execution_count": 4,
   "metadata": {},
   "outputs": [],
   "source": [
    "df = _df.copy()"
   ]
  },
  {
   "cell_type": "markdown",
   "metadata": {},
   "source": [
    "## Clean data initially"
   ]
  },
  {
   "cell_type": "code",
   "execution_count": 5,
   "metadata": {},
   "outputs": [
    {
     "data": {
      "text/html": [
       "<div>\n",
       "<style scoped>\n",
       "    .dataframe tbody tr th:only-of-type {\n",
       "        vertical-align: middle;\n",
       "    }\n",
       "\n",
       "    .dataframe tbody tr th {\n",
       "        vertical-align: top;\n",
       "    }\n",
       "\n",
       "    .dataframe thead th {\n",
       "        text-align: right;\n",
       "    }\n",
       "</style>\n",
       "<table border=\"1\" class=\"dataframe\">\n",
       "  <thead>\n",
       "    <tr style=\"text-align: right;\">\n",
       "      <th></th>\n",
       "      <th>review</th>\n",
       "      <th>rating</th>\n",
       "    </tr>\n",
       "  </thead>\n",
       "  <tbody>\n",
       "    <tr>\n",
       "      <th>117155</th>\n",
       "      <td>thank you..super love it.. excellent quality v...</td>\n",
       "      <td>5</td>\n",
       "    </tr>\n",
       "    <tr>\n",
       "      <th>139167</th>\n",
       "      <td>products as needed fast delivery schedule cour...</td>\n",
       "      <td>5</td>\n",
       "    </tr>\n",
       "    <tr>\n",
       "      <th>54741</th>\n",
       "      <td>delivery cepat..produk ok</td>\n",
       "      <td>3</td>\n",
       "    </tr>\n",
       "    <tr>\n",
       "      <th>108266</th>\n",
       "      <td>awesome speed of the ship awesome speed of the...</td>\n",
       "      <td>5</td>\n",
       "    </tr>\n",
       "    <tr>\n",
       "      <th>121437</th>\n",
       "      <td>wrong size sacrifice. bored!</td>\n",
       "      <td>5</td>\n",
       "    </tr>\n",
       "  </tbody>\n",
       "</table>\n",
       "</div>"
      ],
      "text/plain": [
       "                                                   review  rating\n",
       "117155  thank you..super love it.. excellent quality v...       5\n",
       "139167  products as needed fast delivery schedule cour...       5\n",
       "54741                           delivery cepat..produk ok       3\n",
       "108266  awesome speed of the ship awesome speed of the...       5\n",
       "121437                       wrong size sacrifice. bored!       5"
      ]
     },
     "execution_count": 5,
     "metadata": {},
     "output_type": "execute_result"
    }
   ],
   "source": [
    "df.drop('review_id', axis=1, inplace=True)\n",
    "df['review'] = df['review'].str.strip().str.lower()\n",
    "df.sample(5)"
   ]
  },
  {
   "cell_type": "code",
   "execution_count": 6,
   "metadata": {},
   "outputs": [
    {
     "data": {
      "text/html": [
       "<div>\n",
       "<style scoped>\n",
       "    .dataframe tbody tr th:only-of-type {\n",
       "        vertical-align: middle;\n",
       "    }\n",
       "\n",
       "    .dataframe tbody tr th {\n",
       "        vertical-align: top;\n",
       "    }\n",
       "\n",
       "    .dataframe thead th {\n",
       "        text-align: right;\n",
       "    }\n",
       "</style>\n",
       "<table border=\"1\" class=\"dataframe\">\n",
       "  <thead>\n",
       "    <tr style=\"text-align: right;\">\n",
       "      <th></th>\n",
       "      <th>review</th>\n",
       "      <th>rating</th>\n",
       "    </tr>\n",
       "  </thead>\n",
       "  <tbody>\n",
       "    <tr>\n",
       "      <th>13340</th>\n",
       "      <td>too little kuantitinya.tidak worth the price. ...</td>\n",
       "      <td>0</td>\n",
       "    </tr>\n",
       "    <tr>\n",
       "      <th>9438</th>\n",
       "      <td>bad bad bad cp value of goods does not match t...</td>\n",
       "      <td>0</td>\n",
       "    </tr>\n",
       "    <tr>\n",
       "      <th>12537</th>\n",
       "      <td>the price was not in favor of it. let's go buy...</td>\n",
       "      <td>0</td>\n",
       "    </tr>\n",
       "    <tr>\n",
       "      <th>1211</th>\n",
       "      <td>goods not received. 3pc message only sent two....</td>\n",
       "      <td>0</td>\n",
       "    </tr>\n",
       "    <tr>\n",
       "      <th>4412</th>\n",
       "      <td>yg wooooy bener kalo jualan fork same order sc...</td>\n",
       "      <td>0</td>\n",
       "    </tr>\n",
       "    <tr>\n",
       "      <th>11627</th>\n",
       "      <td>not always in accordance with the stock. admin...</td>\n",
       "      <td>0</td>\n",
       "    </tr>\n",
       "    <tr>\n",
       "      <th>5677</th>\n",
       "      <td>unsuitable no</td>\n",
       "      <td>0</td>\n",
       "    </tr>\n",
       "    <tr>\n",
       "      <th>3802</th>\n",
       "      <td>the light button does not function....</td>\n",
       "      <td>0</td>\n",
       "    </tr>\n",
       "    <tr>\n",
       "      <th>9647</th>\n",
       "      <td>brgnya unused fitting krn</td>\n",
       "      <td>0</td>\n",
       "    </tr>\n",
       "    <tr>\n",
       "      <th>7831</th>\n",
       "      <td>its products 4. 2 for sends. buy 22, he sent a...</td>\n",
       "      <td>0</td>\n",
       "    </tr>\n",
       "  </tbody>\n",
       "</table>\n",
       "</div>"
      ],
      "text/plain": [
       "                                                  review  rating\n",
       "13340  too little kuantitinya.tidak worth the price. ...       0\n",
       "9438   bad bad bad cp value of goods does not match t...       0\n",
       "12537  the price was not in favor of it. let's go buy...       0\n",
       "1211   goods not received. 3pc message only sent two....       0\n",
       "4412   yg wooooy bener kalo jualan fork same order sc...       0\n",
       "11627  not always in accordance with the stock. admin...       0\n",
       "5677                                       unsuitable no       0\n",
       "3802              the light button does not function....       0\n",
       "9647                           brgnya unused fitting krn       0\n",
       "7831   its products 4. 2 for sends. buy 22, he sent a...       0"
      ]
     },
     "execution_count": 6,
     "metadata": {},
     "output_type": "execute_result"
    }
   ],
   "source": [
    "# rating to index\n",
    "df['rating'] = df['rating'] - 1\n",
    "df[df['rating'] == 0].sample(10)"
   ]
  },
  {
   "cell_type": "markdown",
   "metadata": {},
   "source": [
    "## Transform data and labels into machine-recognizable data"
   ]
  },
  {
   "cell_type": "code",
   "execution_count": 7,
   "metadata": {},
   "outputs": [
    {
     "name": "stdout",
     "output_type": "stream",
     "text": [
      "['ga disappointed neat products .. meletot hilsnyaa speed \\u200b\\u200bof delivery is good.', 'rdtanya replace broken glass, broken chargernya', 'nyesel bngt dsni shopping antecedent photo message pictures gk according foto.di existing collagen super fit nyampe holo my house open ehhh collagen contents even in the face pdahal jg description super existing collagen originalnya.pas writing my check lg in photo captions already ma the change ma pictures that the face.', 'sent a light blue suit goods ga want a refund', 'pendants came with dents and scratches on its surface. the coating looks like it will change colour quickly.']\n",
      "[0, 0, 0, 0, 0]\n"
     ]
    }
   ],
   "source": [
    "texts = list(df['review'])\n",
    "labels = list(df['rating'])\n",
    "print(texts[:5])\n",
    "print(labels[:5])"
   ]
  },
  {
   "cell_type": "code",
   "execution_count": 8,
   "metadata": {},
   "outputs": [
    {
     "name": "stdout",
     "output_type": "stream",
     "text": [
      "Total vocabulary numbers:  72284\n"
     ]
    }
   ],
   "source": [
    "tokenizer = Tokenizer(num_words=MAX_VOCABULARY_NUM)\n",
    "tokenizer.fit_on_texts(texts)\n",
    "word_sequences = tokenizer.texts_to_sequences(texts)\n",
    "\n",
    "word_id_dict = tokenizer.word_index\n",
    "print('Total vocabulary numbers: ', len(word_id_dict))"
   ]
  },
  {
   "cell_type": "code",
   "execution_count": 9,
   "metadata": {},
   "outputs": [
    {
     "data": {
      "text/plain": [
       "['ga disappointed neat products .. meletot hilsnyaa speed \\u200b\\u200bof delivery is good.',\n",
       " 'rdtanya replace broken glass, broken chargernya',\n",
       " 'nyesel bngt dsni shopping antecedent photo message pictures gk according foto.di existing collagen super fit nyampe holo my house open ehhh collagen contents even in the face pdahal jg description super existing collagen originalnya.pas writing my check lg in photo captions already ma the change ma pictures that the face.',\n",
       " 'sent a light blue suit goods ga want a refund',\n",
       " 'pendants came with dents and scratches on its surface. the coating looks like it will change colour quickly.',\n",
       " 'dg yg depending being sent in photos',\n",
       " 'hours not a hologram',\n",
       " 'shop fraudulent business. we put two lamps, one shoe, one nozzle, one wallet, one of gardening mini, 2 bags of fragrant. the total amount including the 144.000d ship. after receipt of goods received only one shoe, one garden mini, 1 straw. still collect enough money but enough goods k. deceptive ah ???',\n",
       " 'well, according to price',\n",
       " 'pictures and names of elise 7154, but the brand bg balqis other code. x necessarily the same things. verry disappointed.']"
      ]
     },
     "execution_count": 9,
     "metadata": {},
     "output_type": "execute_result"
    }
   ],
   "source": [
    "texts[:10]"
   ]
  },
  {
   "cell_type": "code",
   "execution_count": 10,
   "metadata": {},
   "outputs": [
    {
     "data": {
      "text/plain": [
       "array([[1., 0., 0., 0., 0.],\n",
       "       [1., 0., 0., 0., 0.],\n",
       "       [1., 0., 0., 0., 0.],\n",
       "       ...,\n",
       "       [0., 0., 0., 0., 1.],\n",
       "       [0., 0., 0., 0., 1.],\n",
       "       [0., 0., 0., 0., 1.]], dtype=float32)"
      ]
     },
     "execution_count": 10,
     "metadata": {},
     "output_type": "execute_result"
    }
   ],
   "source": [
    "word_sequences = pad_sequences(word_sequences, maxlen=WORD_SEQUENCE_LENGTH)\n",
    "\n",
    "labels = to_categorical(np.asarray(labels))\n",
    "labels"
   ]
  },
  {
   "cell_type": "markdown",
   "metadata": {},
   "source": [
    "## Split train-test data"
   ]
  },
  {
   "cell_type": "code",
   "execution_count": 11,
   "metadata": {},
   "outputs": [
    {
     "name": "stdout",
     "output_type": "stream",
     "text": [
      "117448\n",
      "29363\n"
     ]
    }
   ],
   "source": [
    "x_train, x_test, y_train, y_test = train_test_split(word_sequences, labels, test_size=0.2, shuffle=True)\n",
    "print(len(x_train))\n",
    "print(len(x_test))"
   ]
  },
  {
   "cell_type": "markdown",
   "metadata": {},
   "source": [
    "## Construct the embedding layer"
   ]
  },
  {
   "cell_type": "code",
   "execution_count": 12,
   "metadata": {},
   "outputs": [],
   "source": [
    "embedding_dict = {}\n",
    "\n",
    "with open('data/lib/glove.6B.100d.txt', encoding='utf8') as f:\n",
    "    for line in f:\n",
    "        values = line.split()\n",
    "        word = values[0]\n",
    "        coefs = np.asarray(values[1:], dtype='float32')\n",
    "        embedding_dict[word] = coefs\n",
    "\n",
    "f.close()"
   ]
  },
  {
   "cell_type": "code",
   "execution_count": 13,
   "metadata": {},
   "outputs": [],
   "source": [
    "embedding_matrix = np.zeros((len(word_id_dict) + 1, EMBEDDING_DIM))\n",
    "\n",
    "for word, i in word_id_dict.items():\n",
    "    embedding_vec = embedding_dict.get(word)\n",
    "    if embedding_vec is not None:\n",
    "        embedding_matrix[i] = embedding_vec"
   ]
  },
  {
   "cell_type": "code",
   "execution_count": 14,
   "metadata": {},
   "outputs": [],
   "source": [
    "embedding_layer = Embedding(input_dim=len(word_id_dict)+1, \n",
    "                           output_dim=EMBEDDING_DIM, \n",
    "                           weights=[embedding_matrix], \n",
    "                           input_length=MAX_VOCABULARY_NUM, \n",
    "                           trainable=True)"
   ]
  },
  {
   "cell_type": "markdown",
   "metadata": {},
   "source": [
    "## Construct CNN model"
   ]
  },
  {
   "cell_type": "code",
   "execution_count": 21,
   "metadata": {},
   "outputs": [
    {
     "name": "stdout",
     "output_type": "stream",
     "text": [
      "Model: \"model_3\"\n",
      "_________________________________________________________________\n",
      "Layer (type)                 Output Shape              Param #   \n",
      "=================================================================\n",
      "input_4 (InputLayer)         [(None, 1000)]            0         \n",
      "_________________________________________________________________\n",
      "embedding (Embedding)        (None, 1000, 100)         7228500   \n",
      "_________________________________________________________________\n",
      "conv1d_10 (Conv1D)           (None, 996, 128)          64128     \n",
      "_________________________________________________________________\n",
      "max_pooling1d_10 (MaxPooling (None, 199, 128)          0         \n",
      "_________________________________________________________________\n",
      "conv1d_11 (Conv1D)           (None, 195, 128)          82048     \n",
      "_________________________________________________________________\n",
      "max_pooling1d_11 (MaxPooling (None, 39, 128)           0         \n",
      "_________________________________________________________________\n",
      "conv1d_12 (Conv1D)           (None, 35, 128)           82048     \n",
      "_________________________________________________________________\n",
      "max_pooling1d_12 (MaxPooling (None, 1, 128)            0         \n",
      "_________________________________________________________________\n",
      "flatten_3 (Flatten)          (None, 128)               0         \n",
      "_________________________________________________________________\n",
      "dense_6 (Dense)              (None, 128)               16512     \n",
      "_________________________________________________________________\n",
      "dropout_1 (Dropout)          (None, 128)               0         \n",
      "_________________________________________________________________\n",
      "dense_7 (Dense)              (None, 5)                 645       \n",
      "=================================================================\n",
      "Total params: 7,473,881\n",
      "Trainable params: 7,473,881\n",
      "Non-trainable params: 0\n",
      "_________________________________________________________________\n"
     ]
    }
   ],
   "source": [
    "seq_input = Input(shape=(WORD_SEQUENCE_LENGTH,), dtype='int32')\n",
    "embedding_seq = embedding_layer(seq_input)\n",
    "conv_layer1 = Conv1D(128, 5, activation='relu')(embedding_seq)\n",
    "pool_layer1 = MaxPooling1D(5)(conv_layer1)\n",
    "conv_layer2 = Conv1D(128, 5, activation='relu')(pool_layer1)\n",
    "pool_layer2 = MaxPooling1D(5)(conv_layer2)\n",
    "conv_layer3 = Conv1D(128, 5, activation='relu')(pool_layer2)\n",
    "pool_layer3 = MaxPooling1D(35)(conv_layer3)\n",
    "# conv_layer4 = Conv1D(128, 8, activation='relu')(pool_layer3)\n",
    "# pool_layer4 = MaxPooling1D(26)(conv_layer4)\n",
    "flatten_layer = Flatten()(pool_layer3)\n",
    "dense_layer = Dense(128, activation='relu')(flatten_layer)\n",
    "tf.random.set_seed(0)\n",
    "drop_layer1 = Dropout(.2)(dense_layer)\n",
    "predict_layer = Dense(LABEL_NUM, activation='softmax')(drop_layer1)\n",
    "\n",
    "model=Model(seq_input, predict_layer)\n",
    "model.compile(loss='categorical_crossentropy',\n",
    "              optimizer='rmsprop',\n",
    "              metrics=['acc'])\n",
    "model.summary()\n",
    "cp = ModelCheckpoint('model_cnn.hdf5',monitor='val_acc',verbose=1,save_best_only=True)"
   ]
  },
  {
   "cell_type": "code",
   "execution_count": null,
   "metadata": {
    "scrolled": true
   },
   "outputs": [
    {
     "name": "stdout",
     "output_type": "stream",
     "text": [
      "Epoch 1/5\n",
      "58724/58724 [==============================] - ETA: 0s - loss: 1.4340 - acc: 0.3800\n",
      "Epoch 00001: val_acc improved from -inf to 0.26101, saving model to model_cnn.hdf5\n",
      "58724/58724 [==============================] - 4368s 74ms/step - loss: 1.4340 - acc: 0.3800 - val_loss: 1.5249 - val_acc: 0.2610\n",
      "Epoch 2/5\n",
      " 6275/58724 [==>...........................] - ETA: 1:00:15 - loss: 1.5583 - acc: 0.3067"
     ]
    }
   ],
   "source": [
    "history = model.fit(x_train, y_train, epochs=5, validation_data=(x_test, y_test), batch_size=2, callbacks=[cp])"
   ]
  },
  {
   "cell_type": "code",
   "execution_count": null,
   "metadata": {},
   "outputs": [],
   "source": []
  }
 ],
 "metadata": {
  "kernelspec": {
   "display_name": "Python 3",
   "language": "python",
   "name": "python3"
  }
 },
 "nbformat": 4,
 "nbformat_minor": 4
}
