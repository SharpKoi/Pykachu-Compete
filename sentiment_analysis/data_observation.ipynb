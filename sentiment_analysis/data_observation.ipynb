{
 "cells": [
  {
   "cell_type": "markdown",
   "metadata": {},
   "source": [
    "# Data Observation"
   ]
  },
  {
   "cell_type": "markdown",
   "metadata": {},
   "source": [
    "## Import packages"
   ]
  },
  {
   "cell_type": "code",
   "execution_count": 1,
   "metadata": {},
   "outputs": [],
   "source": [
    "import pandas as pd\n",
    "import re\n",
    "pd.set_option('display.max_colwidth', 0)"
   ]
  },
  {
   "cell_type": "code",
   "execution_count": 2,
   "metadata": {},
   "outputs": [],
   "source": [
    "train_backup = pd.read_csv('data/train.csv')"
   ]
  },
  {
   "cell_type": "code",
   "execution_count": 7,
   "metadata": {},
   "outputs": [],
   "source": [
    "test_backup = pd.read_csv('data/cleaned_data/test_sol24.csv')"
   ]
  },
  {
   "cell_type": "code",
   "execution_count": 8,
   "metadata": {},
   "outputs": [],
   "source": [
    "traindf = train_backup.copy()\n",
    "testdf = test_backup.copy()"
   ]
  },
  {
   "cell_type": "code",
   "execution_count": 5,
   "metadata": {},
   "outputs": [],
   "source": [
    "review_list = list(traindf['review'])\n",
    "rating_list = list(traindf['rating'])"
   ]
  },
  {
   "cell_type": "code",
   "execution_count": 6,
   "metadata": {},
   "outputs": [
    {
     "name": "stdout",
     "output_type": "stream",
     "text": [
      "146811 146811\n"
     ]
    }
   ],
   "source": [
    "print(len(review_list), len(rating_list))"
   ]
  },
  {
   "cell_type": "code",
   "execution_count": 7,
   "metadata": {},
   "outputs": [],
   "source": [
    "traindf['review'] = traindf['review'].str.strip().str.lower()"
   ]
  },
  {
   "cell_type": "markdown",
   "metadata": {},
   "source": [
    "## 評論中只包含good的評分狀況"
   ]
  },
  {
   "cell_type": "code",
   "execution_count": 39,
   "metadata": {
    "scrolled": true
   },
   "outputs": [
    {
     "name": "stdout",
     "output_type": "stream",
     "text": [
      "             rating\n",
      "count  61592.000000\n",
      "mean   3.752078    \n",
      "std    1.086374    \n",
      "min    1.000000    \n",
      "25%    3.000000    \n",
      "50%    4.000000    \n",
      "75%    5.000000    \n",
      "max    5.000000    \n"
     ]
    },
    {
     "data": {
      "text/html": [
       "<div>\n",
       "<style scoped>\n",
       "    .dataframe tbody tr th:only-of-type {\n",
       "        vertical-align: middle;\n",
       "    }\n",
       "\n",
       "    .dataframe tbody tr th {\n",
       "        vertical-align: top;\n",
       "    }\n",
       "\n",
       "    .dataframe thead th {\n",
       "        text-align: right;\n",
       "    }\n",
       "</style>\n",
       "<table border=\"1\" class=\"dataframe\">\n",
       "  <thead>\n",
       "    <tr style=\"text-align: right;\">\n",
       "      <th></th>\n",
       "      <th>review</th>\n",
       "    </tr>\n",
       "    <tr>\n",
       "      <th>rating</th>\n",
       "      <th></th>\n",
       "    </tr>\n",
       "  </thead>\n",
       "  <tbody>\n",
       "    <tr>\n",
       "      <th>1</th>\n",
       "      <td>3170</td>\n",
       "    </tr>\n",
       "    <tr>\n",
       "      <th>2</th>\n",
       "      <td>2689</td>\n",
       "    </tr>\n",
       "    <tr>\n",
       "      <th>3</th>\n",
       "      <td>18786</td>\n",
       "    </tr>\n",
       "    <tr>\n",
       "      <th>4</th>\n",
       "      <td>18543</td>\n",
       "    </tr>\n",
       "    <tr>\n",
       "      <th>5</th>\n",
       "      <td>18404</td>\n",
       "    </tr>\n",
       "  </tbody>\n",
       "</table>\n",
       "</div>"
      ],
      "text/plain": [
       "        review\n",
       "rating        \n",
       "1       3170  \n",
       "2       2689  \n",
       "3       18786 \n",
       "4       18543 \n",
       "5       18404 "
      ]
     },
     "execution_count": 39,
     "metadata": {},
     "output_type": "execute_result"
    }
   ],
   "source": [
    "# 評論中包含 'good' \n",
    "good_review = traindf[traindf['review'].str.contains('good', re.IGNORECASE)]\n",
    "print(good_review.describe())\n",
    "good_review.groupby('rating').count()"
   ]
  },
  {
   "cell_type": "markdown",
   "metadata": {},
   "source": [
    "## 評論中不包含任何單詞的長相"
   ]
  },
  {
   "cell_type": "code",
   "execution_count": 9,
   "metadata": {},
   "outputs": [
    {
     "name": "stdout",
     "output_type": "stream",
     "text": [
      "          rating\n",
      "count  69.000000\n",
      "mean   3.826087 \n",
      "std    0.856747 \n",
      "min    1.000000 \n",
      "25%    3.000000 \n",
      "50%    4.000000 \n",
      "75%    4.000000 \n",
      "max    5.000000 \n"
     ]
    },
    {
     "data": {
      "text/html": [
       "<div>\n",
       "<style scoped>\n",
       "    .dataframe tbody tr th:only-of-type {\n",
       "        vertical-align: middle;\n",
       "    }\n",
       "\n",
       "    .dataframe tbody tr th {\n",
       "        vertical-align: top;\n",
       "    }\n",
       "\n",
       "    .dataframe thead th {\n",
       "        text-align: right;\n",
       "    }\n",
       "</style>\n",
       "<table border=\"1\" class=\"dataframe\">\n",
       "  <thead>\n",
       "    <tr style=\"text-align: right;\">\n",
       "      <th></th>\n",
       "      <th>review</th>\n",
       "      <th>rating</th>\n",
       "    </tr>\n",
       "  </thead>\n",
       "  <tbody>\n",
       "    <tr>\n",
       "      <th>32762</th>\n",
       "      <td>👍🏻👍🏻👍🏻👍🏻👍🏻👍🏻👍🏻👍🏻👍🏻👍🏻👍🏻👍🏻👍🏻👍🏻👍🏻👍🏻👍🏻👍🏻👍🏻👍🏻👍🏻👍🏻👍🏻👍🏻👍🏻👍🏻👍🏻 👍🏻👍🏻👍🏻👍🏻👍🏻👍🏻👍🏻👍🏻👍🏻👍🏻👍🏻👍🏻👍🏻👍🏻👍🏻👍🏻👍🏻👍🏻👍🏻👍🏻👍🏻👍🏻👍🏻👍🏻👍🏻👍🏻👍🏻👍🏻👍🏻 👍🏻👍🏻</td>\n",
       "      <td>3</td>\n",
       "    </tr>\n",
       "    <tr>\n",
       "      <th>76559</th>\n",
       "      <td>✨💎💎✨💎💎✨ 💎💎💎💎💎💎💎 💎💎💎💎💎💎💎 ✨💎💎💎💎💎✨ ✨✨💎💎💎✨✨ ✨✨✨💎✨✨✨ ✨💎💎✨💎💎✨ 💎💎💎💎💎💎💎 💎💎💎💎💎💎💎 ✨💎💎💎💎💎✨ ✨✨💎💎💎✨✨ ✨✨✨💎✨✨✨ ✨💎💎✨💎💎✨ 💎💎💎💎💎💎💎 💎💎💎💎💎💎💎 ✨💎💎💎💎💎✨ ✨✨💎💎💎✨✨ ✨✨✨💎✨✨✨ ✨💎💎✨💎💎✨ 💎💎💎💎💎💎💎 💎💎💎💎💎💎💎 ✨💎💎💎💎💎✨ ✨✨💎💎💎✨✨ ✨✨✨💎✨✨✨</td>\n",
       "      <td>4</td>\n",
       "    </tr>\n",
       "    <tr>\n",
       "      <th>91100</th>\n",
       "      <td>👍👍👍👍👍👍👍👍👍👍👍👍👍👍👍👍👍👍👍👍👍👍👍👍👍👍 👍👍👍👍👍👍👍👍👍👍👍👍👍👍👍👍👍👍👍👍👍👍👍👍👍👍👍👍👍👍👍 👍👍👍👍👍👍👍👍👍👍👍👍👍👍👍👍👍👍👍👍👍👍👍👍👍👍👍👍👍👍👍 👍👍👍👍👍👍👍👍👍👍👍👍👍👍👍👍👍👍👍👍👍👍👍👍👍👍👍👍👍👍👍👍</td>\n",
       "      <td>4</td>\n",
       "    </tr>\n",
       "    <tr>\n",
       "      <th>92696</th>\n",
       "      <td>🌟💚🌟🌟💚🌟💙🌟 🌟💚💚💚💚🌟💚🌟 🌟💚🌟🌟💚🌟💚🌟 🌟💚🌟🌟💚🌟💙🌟 🌟💚💚💚💚🌟💚🌟 🌟💚🌟🌟💚🌟💚🌟 🌟💚🌟🌟💚🌟💙🌟 🌟💚💚💚💚🌟💚🌟 🌟💚🌟🌟💚🌟💚🌟 🌟💚🌟🌟💚🌟💙🌟 🌟💚💚💚💚🌟💚🌟 🌟💚🌟🌟💚🌟💚🌟</td>\n",
       "      <td>4</td>\n",
       "    </tr>\n",
       "    <tr>\n",
       "      <th>109204</th>\n",
       "      <td>🥰🥰🥰🥰🥰🥰🥰🥰🥰🥰🥰🥰🥰🥰🥰🥰 👍👍👍👍👍👍👍👍👍👍👍👍👍👍👍👍 🥰🥰🥰🥰🥰🥰🥰🥰🥰🥰🥰🥰🥰🥰🥰🥰 👍👍👍👍👍👍👍👍👍👍👍👍👍👍👍👍</td>\n",
       "      <td>5</td>\n",
       "    </tr>\n",
       "    <tr>\n",
       "      <th>59329</th>\n",
       "      <td>👍🏻.......... .......... .......... .......... ..........  .......... ...........</td>\n",
       "      <td>3</td>\n",
       "    </tr>\n",
       "    <tr>\n",
       "      <th>134948</th>\n",
       "      <td>😍😍😍😍😍😍😍😍😍😍😍 😍😍😍😍😍😍😍😍😍😍😍 😍😍😍😍😍😍😍😍😍😍😍 😍😍😍😍😍😍😍😍😍😍😍 😍😍😍😍😍😍😍😍😍😍😍</td>\n",
       "      <td>5</td>\n",
       "    </tr>\n",
       "    <tr>\n",
       "      <th>20653</th>\n",
       "      <td>☁😊☁☁😊☁😁☁ ☁😊☁☁😊☁☁☁ ☁😊😊😊😊☁😊☁ ☁😊☁☁😊☁😊☁ ☁😊☁☁😊☁😊☁ ☁😊☁☁😊☁😁☁ ☁😊☁☁😊☁☁☁ ☁😊😊😊😊☁😊☁ ☁😊☁☁😊☁😊☁ ☁😊☁☁😊☁😊☁</td>\n",
       "      <td>2</td>\n",
       "    </tr>\n",
       "    <tr>\n",
       "      <th>98468</th>\n",
       "      <td>=============•============== •••••••••••••••••••••••••••••••••••••••</td>\n",
       "      <td>4</td>\n",
       "    </tr>\n",
       "    <tr>\n",
       "      <th>81771</th>\n",
       "      <td>👌 👌 👌 👌 👌 👌 👌 👌 👌 👌 👌 👌 👌 👌 👌 👌 👌 👌 👌 👌 👌 👌 👌 👌 👌 👌 👌 👌 👌 👌 👌 👌 👌 👌 👌 👌 👌 👌 👌 👌 👌 👌 👌 👌 👌 👌 👌 👌 👌 👌 👌 👌 👌 👌 👌 👌 👌 👌 👌 👌 👌 👌 👌 👌 👌 👌 👌 👌 👌 👌 👌 👌 👌 👌 👌 👌 👌 👌 👌 👌 👌 👌 👌 👌 👌 👌 👌 👌 👌 👌 👌 👌 👌 👌 👌 👌 👌 👌</td>\n",
       "      <td>4</td>\n",
       "    </tr>\n",
       "  </tbody>\n",
       "</table>\n",
       "</div>"
      ],
      "text/plain": [
       "                                                                                                                                                                                                     review  \\\n",
       "32762   👍🏻👍🏻👍🏻👍🏻👍🏻👍🏻👍🏻👍🏻👍🏻👍🏻👍🏻👍🏻👍🏻👍🏻👍🏻👍🏻👍🏻👍🏻👍🏻👍🏻👍🏻👍🏻👍🏻👍🏻👍🏻👍🏻👍🏻 👍🏻👍🏻👍🏻👍🏻👍🏻👍🏻👍🏻👍🏻👍🏻👍🏻👍🏻👍🏻👍🏻👍🏻👍🏻👍🏻👍🏻👍🏻👍🏻👍🏻👍🏻👍🏻👍🏻👍🏻👍🏻👍🏻👍🏻👍🏻👍🏻 👍🏻👍🏻                                                                                \n",
       "76559   ✨💎💎✨💎💎✨ 💎💎💎💎💎💎💎 💎💎💎💎💎💎💎 ✨💎💎💎💎💎✨ ✨✨💎💎💎✨✨ ✨✨✨💎✨✨✨ ✨💎💎✨💎💎✨ 💎💎💎💎💎💎💎 💎💎💎💎💎💎💎 ✨💎💎💎💎💎✨ ✨✨💎💎💎✨✨ ✨✨✨💎✨✨✨ ✨💎💎✨💎💎✨ 💎💎💎💎💎💎💎 💎💎💎💎💎💎💎 ✨💎💎💎💎💎✨ ✨✨💎💎💎✨✨ ✨✨✨💎✨✨✨ ✨💎💎✨💎💎✨ 💎💎💎💎💎💎💎 💎💎💎💎💎💎💎 ✨💎💎💎💎💎✨ ✨✨💎💎💎✨✨ ✨✨✨💎✨✨✨       \n",
       "91100   👍👍👍👍👍👍👍👍👍👍👍👍👍👍👍👍👍👍👍👍👍👍👍👍👍👍 👍👍👍👍👍👍👍👍👍👍👍👍👍👍👍👍👍👍👍👍👍👍👍👍👍👍👍👍👍👍👍 👍👍👍👍👍👍👍👍👍👍👍👍👍👍👍👍👍👍👍👍👍👍👍👍👍👍👍👍👍👍👍 👍👍👍👍👍👍👍👍👍👍👍👍👍👍👍👍👍👍👍👍👍👍👍👍👍👍👍👍👍👍👍👍                                                                           \n",
       "92696   🌟💚🌟🌟💚🌟💙🌟 🌟💚💚💚💚🌟💚🌟 🌟💚🌟🌟💚🌟💚🌟 🌟💚🌟🌟💚🌟💙🌟 🌟💚💚💚💚🌟💚🌟 🌟💚🌟🌟💚🌟💚🌟 🌟💚🌟🌟💚🌟💙🌟 🌟💚💚💚💚🌟💚🌟 🌟💚🌟🌟💚🌟💚🌟 🌟💚🌟🌟💚🌟💙🌟 🌟💚💚💚💚🌟💚🌟 🌟💚🌟🌟💚🌟💚🌟                                                                                           \n",
       "109204  🥰🥰🥰🥰🥰🥰🥰🥰🥰🥰🥰🥰🥰🥰🥰🥰 👍👍👍👍👍👍👍👍👍👍👍👍👍👍👍👍 🥰🥰🥰🥰🥰🥰🥰🥰🥰🥰🥰🥰🥰🥰🥰🥰 👍👍👍👍👍👍👍👍👍👍👍👍👍👍👍👍                                                                                                                                   \n",
       "59329   👍🏻.......... .......... .......... .......... ..........  .......... ...........                                                                                                                      \n",
       "134948  😍😍😍😍😍😍😍😍😍😍😍 😍😍😍😍😍😍😍😍😍😍😍 😍😍😍😍😍😍😍😍😍😍😍 😍😍😍😍😍😍😍😍😍😍😍 😍😍😍😍😍😍😍😍😍😍😍                                                                                                                                           \n",
       "20653   ☁😊☁☁😊☁😁☁ ☁😊☁☁😊☁☁☁ ☁😊😊😊😊☁😊☁ ☁😊☁☁😊☁😊☁ ☁😊☁☁😊☁😊☁ ☁😊☁☁😊☁😁☁ ☁😊☁☁😊☁☁☁ ☁😊😊😊😊☁😊☁ ☁😊☁☁😊☁😊☁ ☁😊☁☁😊☁😊☁                                                                                                             \n",
       "98468   =============•============== •••••••••••••••••••••••••••••••••••••••                                                                                                                                  \n",
       "81771   👌 👌 👌 👌 👌 👌 👌 👌 👌 👌 👌 👌 👌 👌 👌 👌 👌 👌 👌 👌 👌 👌 👌 👌 👌 👌 👌 👌 👌 👌 👌 👌 👌 👌 👌 👌 👌 👌 👌 👌 👌 👌 👌 👌 👌 👌 👌 👌 👌 👌 👌 👌 👌 👌 👌 👌 👌 👌 👌 👌 👌 👌 👌 👌 👌 👌 👌 👌 👌 👌 👌 👌 👌 👌 👌 👌 👌 👌 👌 👌 👌 👌 👌 👌 👌 👌 👌 👌 👌 👌 👌 👌 👌 👌 👌 👌 👌 👌   \n",
       "\n",
       "        rating  \n",
       "32762   3       \n",
       "76559   4       \n",
       "91100   4       \n",
       "92696   4       \n",
       "109204  5       \n",
       "59329   3       \n",
       "134948  5       \n",
       "20653   2       \n",
       "98468   4       \n",
       "81771   4       "
      ]
     },
     "execution_count": 9,
     "metadata": {},
     "output_type": "execute_result"
    }
   ],
   "source": [
    "# 評論中只包含符號的\n",
    "symbol_review = traindf[traindf['review'].str.match(r'^[^\\w\\r\\n]+$')]\n",
    "print(symbol_review.describe())\n",
    "symbol_review.sample(10)"
   ]
  },
  {
   "cell_type": "markdown",
   "metadata": {},
   "source": [
    "## 評論中含有 \"😁😄😊🥰😍👍👍\" 這些表情的評分狀況"
   ]
  },
  {
   "cell_type": "code",
   "execution_count": 38,
   "metadata": {},
   "outputs": [
    {
     "data": {
      "text/html": [
       "<div>\n",
       "<style scoped>\n",
       "    .dataframe tbody tr th:only-of-type {\n",
       "        vertical-align: middle;\n",
       "    }\n",
       "\n",
       "    .dataframe tbody tr th {\n",
       "        vertical-align: top;\n",
       "    }\n",
       "\n",
       "    .dataframe thead th {\n",
       "        text-align: right;\n",
       "    }\n",
       "</style>\n",
       "<table border=\"1\" class=\"dataframe\">\n",
       "  <thead>\n",
       "    <tr style=\"text-align: right;\">\n",
       "      <th></th>\n",
       "      <th>review</th>\n",
       "    </tr>\n",
       "    <tr>\n",
       "      <th>rating</th>\n",
       "      <th></th>\n",
       "    </tr>\n",
       "  </thead>\n",
       "  <tbody>\n",
       "    <tr>\n",
       "      <th>3</th>\n",
       "      <td>9</td>\n",
       "    </tr>\n",
       "    <tr>\n",
       "      <th>4</th>\n",
       "      <td>6</td>\n",
       "    </tr>\n",
       "    <tr>\n",
       "      <th>5</th>\n",
       "      <td>10</td>\n",
       "    </tr>\n",
       "  </tbody>\n",
       "</table>\n",
       "</div>"
      ],
      "text/plain": [
       "        review\n",
       "rating        \n",
       "3       9     \n",
       "4       6     \n",
       "5       10    "
      ]
     },
     "execution_count": 38,
     "metadata": {},
     "output_type": "execute_result"
    }
   ],
   "source": [
    "# 評論中有這些表情的\n",
    "symbol_review[symbol_review['review'].str.match(r'[😁😄😊🥰😍👍👍🏻]')].groupby('rating').count()"
   ]
  },
  {
   "cell_type": "code",
   "execution_count": 12,
   "metadata": {
    "scrolled": true
   },
   "outputs": [
    {
     "name": "stdout",
     "output_type": "stream",
     "text": [
      "            rating\n",
      "count  2375.000000\n",
      "mean   3.948211   \n",
      "std    1.231541   \n",
      "min    1.000000   \n",
      "25%    4.000000   \n",
      "50%    4.000000   \n",
      "75%    5.000000   \n",
      "max    5.000000   \n"
     ]
    }
   ],
   "source": [
    "# 評論中含有unicode空白符的\n",
    "uspace_review = traindf[traindf['review'].str.contains(u'\\u200b')]\n",
    "print(uspace_review.describe())"
   ]
  },
  {
   "cell_type": "code",
   "execution_count": 25,
   "metadata": {},
   "outputs": [
    {
     "name": "stderr",
     "output_type": "stream",
     "text": [
      "C:\\Users\\pb580\\anaconda3\\envs\\ML_Env\\lib\\site-packages\\pandas\\core\\strings.py:1954: UserWarning: This pattern has match groups. To actually get the groups, use str.extract.\n",
      "  return func(self, *args, **kwargs)\n"
     ]
    },
    {
     "data": {
      "text/html": [
       "<div>\n",
       "<style scoped>\n",
       "    .dataframe tbody tr th:only-of-type {\n",
       "        vertical-align: middle;\n",
       "    }\n",
       "\n",
       "    .dataframe tbody tr th {\n",
       "        vertical-align: top;\n",
       "    }\n",
       "\n",
       "    .dataframe thead th {\n",
       "        text-align: right;\n",
       "    }\n",
       "</style>\n",
       "<table border=\"1\" class=\"dataframe\">\n",
       "  <thead>\n",
       "    <tr style=\"text-align: right;\">\n",
       "      <th></th>\n",
       "      <th>review_id</th>\n",
       "      <th>review</th>\n",
       "      <th>rating</th>\n",
       "    </tr>\n",
       "  </thead>\n",
       "  <tbody>\n",
       "    <tr>\n",
       "      <th>116695</th>\n",
       "      <td>116695</td>\n",
       "      <td>Is ok, cute shop, delivery nhanhhhhhhhhhhhhhhh</td>\n",
       "      <td>5</td>\n",
       "    </tr>\n",
       "    <tr>\n",
       "      <th>50914</th>\n",
       "      <td>50914</td>\n",
       "      <td>Thanksssssssssssssss sis Just sedikittttt its long until ....</td>\n",
       "      <td>3</td>\n",
       "    </tr>\n",
       "    <tr>\n",
       "      <th>40590</th>\n",
       "      <td>40590</td>\n",
       "      <td>Store delivery a little slow But transport is faster You get very little Mini. Over in the children love it. Cheap Hgaaaa love</td>\n",
       "      <td>3</td>\n",
       "    </tr>\n",
       "    <tr>\n",
       "      <th>127243</th>\n",
       "      <td>127243</td>\n",
       "      <td>Baguusss tebel rajutnyaa same material rapettt pulaaa rajuttt nyaa also, its color also corresponds deskripsiii, price murahhh nyaaa bgtttt</td>\n",
       "      <td>5</td>\n",
       "    </tr>\n",
       "    <tr>\n",
       "      <th>141068</th>\n",
       "      <td>141068</td>\n",
       "      <td>Thanks Seller ❣️ Her clothes bagussss my customers sukaaa😍 Recommended seller 💕</td>\n",
       "      <td>5</td>\n",
       "    </tr>\n",
       "    <tr>\n",
       "      <th>77296</th>\n",
       "      <td>77296</td>\n",
       "      <td>Trimsssssssssssssssssssss, okeeee seller response. Good quality bangeeeet</td>\n",
       "      <td>4</td>\n",
       "    </tr>\n",
       "    <tr>\n",
       "      <th>48477</th>\n",
       "      <td>48477</td>\n",
       "      <td>Delivery a bit long, but the goods are baguss according hargaaa</td>\n",
       "      <td>3</td>\n",
       "    </tr>\n",
       "    <tr>\n",
       "      <th>138094</th>\n",
       "      <td>138094</td>\n",
       "      <td>Mantuuuuuuuuul ... Mantuuuuuuuuuuul ... Mantuuuuuuuuuuuuuu ... Nice to order. Fast delivery just a day sajaaaa ... 😁</td>\n",
       "      <td>5</td>\n",
       "    </tr>\n",
       "    <tr>\n",
       "      <th>48990</th>\n",
       "      <td>48990</td>\n",
       "      <td>Acnes want to try new products may fit, aamiiiiinnnnnnnn</td>\n",
       "      <td>3</td>\n",
       "    </tr>\n",
       "    <tr>\n",
       "      <th>107313</th>\n",
       "      <td>107313</td>\n",
       "      <td>toko langgananku buat keperluan si kecil..thankkssssss sellerrrrr .... tooooooooooopppppppppppppppppppppppppppp</td>\n",
       "      <td>5</td>\n",
       "    </tr>\n",
       "  </tbody>\n",
       "</table>\n",
       "</div>"
      ],
      "text/plain": [
       "        review_id  \\\n",
       "116695  116695      \n",
       "50914   50914       \n",
       "40590   40590       \n",
       "127243  127243      \n",
       "141068  141068      \n",
       "77296   77296       \n",
       "48477   48477       \n",
       "138094  138094      \n",
       "48990   48990       \n",
       "107313  107313      \n",
       "\n",
       "                                                                                                                                             review  \\\n",
       "116695  Is ok, cute shop, delivery nhanhhhhhhhhhhhhhhh                                                                                                \n",
       "50914   Thanksssssssssssssss sis Just sedikittttt its long until ....                                                                                 \n",
       "40590   Store delivery a little slow But transport is faster You get very little Mini. Over in the children love it. Cheap Hgaaaa love                \n",
       "127243  Baguusss tebel rajutnyaa same material rapettt pulaaa rajuttt nyaa also, its color also corresponds deskripsiii, price murahhh nyaaa bgtttt   \n",
       "141068  Thanks Seller ❣️ Her clothes bagussss my customers sukaaa😍 Recommended seller 💕                                                               \n",
       "77296   Trimsssssssssssssssssssss, okeeee seller response. Good quality bangeeeet                                                                     \n",
       "48477   Delivery a bit long, but the goods are baguss according hargaaa                                                                               \n",
       "138094  Mantuuuuuuuuul ... Mantuuuuuuuuuuul ... Mantuuuuuuuuuuuuuu ... Nice to order. Fast delivery just a day sajaaaa ... 😁                          \n",
       "48990   Acnes want to try new products may fit, aamiiiiinnnnnnnn                                                                                      \n",
       "107313  toko langgananku buat keperluan si kecil..thankkssssss sellerrrrr .... tooooooooooopppppppppppppppppppppppppppp                               \n",
       "\n",
       "        rating  \n",
       "116695  5       \n",
       "50914   3       \n",
       "40590   3       \n",
       "127243  5       \n",
       "141068  5       \n",
       "77296   4       \n",
       "48477   3       \n",
       "138094  5       \n",
       "48990   3       \n",
       "107313  5       "
      ]
     },
     "execution_count": 25,
     "metadata": {},
     "output_type": "execute_result"
    }
   ],
   "source": [
    "dupchar_pat = re.compile(r'([a-zA-z_])\\1{2,}')\n",
    "dupdf = traindf[traindf['review'].str.contains(dupchar_pat)]\n",
    "dupdf.sample(10)"
   ]
  }
 ],
 "metadata": {
  "kernelspec": {
   "display_name": "Python 3",
   "language": "python",
   "name": "python3"
  },
  "language_info": {
   "codemirror_mode": {
    "name": "ipython",
    "version": 3
   },
   "file_extension": ".py",
   "mimetype": "text/x-python",
   "name": "python",
   "nbconvert_exporter": "python",
   "pygments_lexer": "ipython3",
   "version": "3.7.7"
  }
 },
 "nbformat": 4,
 "nbformat_minor": 4
}
