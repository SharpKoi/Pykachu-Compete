{
 "cells": [
  {
   "cell_type": "markdown",
   "metadata": {},
   "source": [
    "# Data Observation"
   ]
  },
  {
   "cell_type": "markdown",
   "metadata": {},
   "source": [
    "## Import packages"
   ]
  },
  {
   "cell_type": "code",
   "execution_count": 2,
   "metadata": {},
   "outputs": [],
   "source": [
    "import pandas as pd\n",
    "import re\n",
    "pd.set_option('display.max_colwidth', 0)"
   ]
  },
  {
   "cell_type": "code",
   "execution_count": 3,
   "metadata": {},
   "outputs": [],
   "source": [
    "train_backup = pd.read_csv('data/train.csv')"
   ]
  },
  {
   "cell_type": "code",
   "execution_count": 4,
   "metadata": {},
   "outputs": [],
   "source": [
    "test_backup = pd.read_csv('data/test.csv')"
   ]
  },
  {
   "cell_type": "code",
   "execution_count": 5,
   "metadata": {},
   "outputs": [],
   "source": [
    "traindf = train_backup.copy()\n",
    "testdf = test_backup.copy()"
   ]
  },
  {
   "cell_type": "code",
   "execution_count": 6,
   "metadata": {},
   "outputs": [],
   "source": [
    "review_list = list(traindf['review'])\n",
    "rating_list = list(traindf['rating'])"
   ]
  },
  {
   "cell_type": "code",
   "execution_count": 7,
   "metadata": {},
   "outputs": [
    {
     "name": "stdout",
     "output_type": "stream",
     "text": [
      "146811 146811\n"
     ]
    }
   ],
   "source": [
    "print(len(review_list), len(rating_list))"
   ]
  },
  {
   "cell_type": "code",
   "execution_count": 8,
   "metadata": {},
   "outputs": [],
   "source": [
    "traindf.drop('review_id', axis=1, inplace=True)\n",
    "traindf['review'] = traindf['review'].str.strip().str.lower()"
   ]
  },
  {
   "cell_type": "markdown",
   "metadata": {},
   "source": [
    "## 評論中只包含good的評分狀況"
   ]
  },
  {
   "cell_type": "code",
   "execution_count": 39,
   "metadata": {
    "scrolled": true
   },
   "outputs": [
    {
     "name": "stdout",
     "output_type": "stream",
     "text": [
      "             rating\n",
      "count  61592.000000\n",
      "mean   3.752078    \n",
      "std    1.086374    \n",
      "min    1.000000    \n",
      "25%    3.000000    \n",
      "50%    4.000000    \n",
      "75%    5.000000    \n",
      "max    5.000000    \n"
     ]
    },
    {
     "data": {
      "text/html": [
       "<div>\n",
       "<style scoped>\n",
       "    .dataframe tbody tr th:only-of-type {\n",
       "        vertical-align: middle;\n",
       "    }\n",
       "\n",
       "    .dataframe tbody tr th {\n",
       "        vertical-align: top;\n",
       "    }\n",
       "\n",
       "    .dataframe thead th {\n",
       "        text-align: right;\n",
       "    }\n",
       "</style>\n",
       "<table border=\"1\" class=\"dataframe\">\n",
       "  <thead>\n",
       "    <tr style=\"text-align: right;\">\n",
       "      <th></th>\n",
       "      <th>review</th>\n",
       "    </tr>\n",
       "    <tr>\n",
       "      <th>rating</th>\n",
       "      <th></th>\n",
       "    </tr>\n",
       "  </thead>\n",
       "  <tbody>\n",
       "    <tr>\n",
       "      <th>1</th>\n",
       "      <td>3170</td>\n",
       "    </tr>\n",
       "    <tr>\n",
       "      <th>2</th>\n",
       "      <td>2689</td>\n",
       "    </tr>\n",
       "    <tr>\n",
       "      <th>3</th>\n",
       "      <td>18786</td>\n",
       "    </tr>\n",
       "    <tr>\n",
       "      <th>4</th>\n",
       "      <td>18543</td>\n",
       "    </tr>\n",
       "    <tr>\n",
       "      <th>5</th>\n",
       "      <td>18404</td>\n",
       "    </tr>\n",
       "  </tbody>\n",
       "</table>\n",
       "</div>"
      ],
      "text/plain": [
       "        review\n",
       "rating        \n",
       "1       3170  \n",
       "2       2689  \n",
       "3       18786 \n",
       "4       18543 \n",
       "5       18404 "
      ]
     },
     "execution_count": 39,
     "metadata": {},
     "output_type": "execute_result"
    }
   ],
   "source": [
    "# 評論中包含 'good' \n",
    "good_review = traindf[traindf['review'].str.contains('good', re.IGNORECASE)]\n",
    "print(good_review.describe())\n",
    "good_review.groupby('rating').count()"
   ]
  },
  {
   "cell_type": "markdown",
   "metadata": {},
   "source": [
    "## 評論中不包含任何單詞的長相"
   ]
  },
  {
   "cell_type": "code",
   "execution_count": 9,
   "metadata": {},
   "outputs": [
    {
     "name": "stdout",
     "output_type": "stream",
     "text": [
      "          rating\n",
      "count  69.000000\n",
      "mean   3.826087 \n",
      "std    0.856747 \n",
      "min    1.000000 \n",
      "25%    3.000000 \n",
      "50%    4.000000 \n",
      "75%    4.000000 \n",
      "max    5.000000 \n"
     ]
    },
    {
     "data": {
      "text/html": [
       "<div>\n",
       "<style scoped>\n",
       "    .dataframe tbody tr th:only-of-type {\n",
       "        vertical-align: middle;\n",
       "    }\n",
       "\n",
       "    .dataframe tbody tr th {\n",
       "        vertical-align: top;\n",
       "    }\n",
       "\n",
       "    .dataframe thead th {\n",
       "        text-align: right;\n",
       "    }\n",
       "</style>\n",
       "<table border=\"1\" class=\"dataframe\">\n",
       "  <thead>\n",
       "    <tr style=\"text-align: right;\">\n",
       "      <th></th>\n",
       "      <th>review</th>\n",
       "      <th>rating</th>\n",
       "    </tr>\n",
       "  </thead>\n",
       "  <tbody>\n",
       "    <tr>\n",
       "      <th>32762</th>\n",
       "      <td>👍🏻👍🏻👍🏻👍🏻👍🏻👍🏻👍🏻👍🏻👍🏻👍🏻👍🏻👍🏻👍🏻👍🏻👍🏻👍🏻👍🏻👍🏻👍🏻👍🏻👍🏻👍🏻👍🏻👍🏻👍🏻👍🏻👍🏻 👍🏻👍🏻👍🏻👍🏻👍🏻👍🏻👍🏻👍🏻👍🏻👍🏻👍🏻👍🏻👍🏻👍🏻👍🏻👍🏻👍🏻👍🏻👍🏻👍🏻👍🏻👍🏻👍🏻👍🏻👍🏻👍🏻👍🏻👍🏻👍🏻 👍🏻👍🏻</td>\n",
       "      <td>3</td>\n",
       "    </tr>\n",
       "    <tr>\n",
       "      <th>76559</th>\n",
       "      <td>✨💎💎✨💎💎✨ 💎💎💎💎💎💎💎 💎💎💎💎💎💎💎 ✨💎💎💎💎💎✨ ✨✨💎💎💎✨✨ ✨✨✨💎✨✨✨ ✨💎💎✨💎💎✨ 💎💎💎💎💎💎💎 💎💎💎💎💎💎💎 ✨💎💎💎💎💎✨ ✨✨💎💎💎✨✨ ✨✨✨💎✨✨✨ ✨💎💎✨💎💎✨ 💎💎💎💎💎💎💎 💎💎💎💎💎💎💎 ✨💎💎💎💎💎✨ ✨✨💎💎💎✨✨ ✨✨✨💎✨✨✨ ✨💎💎✨💎💎✨ 💎💎💎💎💎💎💎 💎💎💎💎💎💎💎 ✨💎💎💎💎💎✨ ✨✨💎💎💎✨✨ ✨✨✨💎✨✨✨</td>\n",
       "      <td>4</td>\n",
       "    </tr>\n",
       "    <tr>\n",
       "      <th>91100</th>\n",
       "      <td>👍👍👍👍👍👍👍👍👍👍👍👍👍👍👍👍👍👍👍👍👍👍👍👍👍👍 👍👍👍👍👍👍👍👍👍👍👍👍👍👍👍👍👍👍👍👍👍👍👍👍👍👍👍👍👍👍👍 👍👍👍👍👍👍👍👍👍👍👍👍👍👍👍👍👍👍👍👍👍👍👍👍👍👍👍👍👍👍👍 👍👍👍👍👍👍👍👍👍👍👍👍👍👍👍👍👍👍👍👍👍👍👍👍👍👍👍👍👍👍👍👍</td>\n",
       "      <td>4</td>\n",
       "    </tr>\n",
       "    <tr>\n",
       "      <th>92696</th>\n",
       "      <td>🌟💚🌟🌟💚🌟💙🌟 🌟💚💚💚💚🌟💚🌟 🌟💚🌟🌟💚🌟💚🌟 🌟💚🌟🌟💚🌟💙🌟 🌟💚💚💚💚🌟💚🌟 🌟💚🌟🌟💚🌟💚🌟 🌟💚🌟🌟💚🌟💙🌟 🌟💚💚💚💚🌟💚🌟 🌟💚🌟🌟💚🌟💚🌟 🌟💚🌟🌟💚🌟💙🌟 🌟💚💚💚💚🌟💚🌟 🌟💚🌟🌟💚🌟💚🌟</td>\n",
       "      <td>4</td>\n",
       "    </tr>\n",
       "    <tr>\n",
       "      <th>109204</th>\n",
       "      <td>🥰🥰🥰🥰🥰🥰🥰🥰🥰🥰🥰🥰🥰🥰🥰🥰 👍👍👍👍👍👍👍👍👍👍👍👍👍👍👍👍 🥰🥰🥰🥰🥰🥰🥰🥰🥰🥰🥰🥰🥰🥰🥰🥰 👍👍👍👍👍👍👍👍👍👍👍👍👍👍👍👍</td>\n",
       "      <td>5</td>\n",
       "    </tr>\n",
       "    <tr>\n",
       "      <th>59329</th>\n",
       "      <td>👍🏻.......... .......... .......... .......... ..........  .......... ...........</td>\n",
       "      <td>3</td>\n",
       "    </tr>\n",
       "    <tr>\n",
       "      <th>134948</th>\n",
       "      <td>😍😍😍😍😍😍😍😍😍😍😍 😍😍😍😍😍😍😍😍😍😍😍 😍😍😍😍😍😍😍😍😍😍😍 😍😍😍😍😍😍😍😍😍😍😍 😍😍😍😍😍😍😍😍😍😍😍</td>\n",
       "      <td>5</td>\n",
       "    </tr>\n",
       "    <tr>\n",
       "      <th>20653</th>\n",
       "      <td>☁😊☁☁😊☁😁☁ ☁😊☁☁😊☁☁☁ ☁😊😊😊😊☁😊☁ ☁😊☁☁😊☁😊☁ ☁😊☁☁😊☁😊☁ ☁😊☁☁😊☁😁☁ ☁😊☁☁😊☁☁☁ ☁😊😊😊😊☁😊☁ ☁😊☁☁😊☁😊☁ ☁😊☁☁😊☁😊☁</td>\n",
       "      <td>2</td>\n",
       "    </tr>\n",
       "    <tr>\n",
       "      <th>98468</th>\n",
       "      <td>=============•============== •••••••••••••••••••••••••••••••••••••••</td>\n",
       "      <td>4</td>\n",
       "    </tr>\n",
       "    <tr>\n",
       "      <th>81771</th>\n",
       "      <td>👌 👌 👌 👌 👌 👌 👌 👌 👌 👌 👌 👌 👌 👌 👌 👌 👌 👌 👌 👌 👌 👌 👌 👌 👌 👌 👌 👌 👌 👌 👌 👌 👌 👌 👌 👌 👌 👌 👌 👌 👌 👌 👌 👌 👌 👌 👌 👌 👌 👌 👌 👌 👌 👌 👌 👌 👌 👌 👌 👌 👌 👌 👌 👌 👌 👌 👌 👌 👌 👌 👌 👌 👌 👌 👌 👌 👌 👌 👌 👌 👌 👌 👌 👌 👌 👌 👌 👌 👌 👌 👌 👌 👌 👌 👌 👌 👌 👌</td>\n",
       "      <td>4</td>\n",
       "    </tr>\n",
       "  </tbody>\n",
       "</table>\n",
       "</div>"
      ],
      "text/plain": [
       "                                                                                                                                                                                                     review  \\\n",
       "32762   👍🏻👍🏻👍🏻👍🏻👍🏻👍🏻👍🏻👍🏻👍🏻👍🏻👍🏻👍🏻👍🏻👍🏻👍🏻👍🏻👍🏻👍🏻👍🏻👍🏻👍🏻👍🏻👍🏻👍🏻👍🏻👍🏻👍🏻 👍🏻👍🏻👍🏻👍🏻👍🏻👍🏻👍🏻👍🏻👍🏻👍🏻👍🏻👍🏻👍🏻👍🏻👍🏻👍🏻👍🏻👍🏻👍🏻👍🏻👍🏻👍🏻👍🏻👍🏻👍🏻👍🏻👍🏻👍🏻👍🏻 👍🏻👍🏻                                                                                \n",
       "76559   ✨💎💎✨💎💎✨ 💎💎💎💎💎💎💎 💎💎💎💎💎💎💎 ✨💎💎💎💎💎✨ ✨✨💎💎💎✨✨ ✨✨✨💎✨✨✨ ✨💎💎✨💎💎✨ 💎💎💎💎💎💎💎 💎💎💎💎💎💎💎 ✨💎💎💎💎💎✨ ✨✨💎💎💎✨✨ ✨✨✨💎✨✨✨ ✨💎💎✨💎💎✨ 💎💎💎💎💎💎💎 💎💎💎💎💎💎💎 ✨💎💎💎💎💎✨ ✨✨💎💎💎✨✨ ✨✨✨💎✨✨✨ ✨💎💎✨💎💎✨ 💎💎💎💎💎💎💎 💎💎💎💎💎💎💎 ✨💎💎💎💎💎✨ ✨✨💎💎💎✨✨ ✨✨✨💎✨✨✨       \n",
       "91100   👍👍👍👍👍👍👍👍👍👍👍👍👍👍👍👍👍👍👍👍👍👍👍👍👍👍 👍👍👍👍👍👍👍👍👍👍👍👍👍👍👍👍👍👍👍👍👍👍👍👍👍👍👍👍👍👍👍 👍👍👍👍👍👍👍👍👍👍👍👍👍👍👍👍👍👍👍👍👍👍👍👍👍👍👍👍👍👍👍 👍👍👍👍👍👍👍👍👍👍👍👍👍👍👍👍👍👍👍👍👍👍👍👍👍👍👍👍👍👍👍👍                                                                           \n",
       "92696   🌟💚🌟🌟💚🌟💙🌟 🌟💚💚💚💚🌟💚🌟 🌟💚🌟🌟💚🌟💚🌟 🌟💚🌟🌟💚🌟💙🌟 🌟💚💚💚💚🌟💚🌟 🌟💚🌟🌟💚🌟💚🌟 🌟💚🌟🌟💚🌟💙🌟 🌟💚💚💚💚🌟💚🌟 🌟💚🌟🌟💚🌟💚🌟 🌟💚🌟🌟💚🌟💙🌟 🌟💚💚💚💚🌟💚🌟 🌟💚🌟🌟💚🌟💚🌟                                                                                           \n",
       "109204  🥰🥰🥰🥰🥰🥰🥰🥰🥰🥰🥰🥰🥰🥰🥰🥰 👍👍👍👍👍👍👍👍👍👍👍👍👍👍👍👍 🥰🥰🥰🥰🥰🥰🥰🥰🥰🥰🥰🥰🥰🥰🥰🥰 👍👍👍👍👍👍👍👍👍👍👍👍👍👍👍👍                                                                                                                                   \n",
       "59329   👍🏻.......... .......... .......... .......... ..........  .......... ...........                                                                                                                      \n",
       "134948  😍😍😍😍😍😍😍😍😍😍😍 😍😍😍😍😍😍😍😍😍😍😍 😍😍😍😍😍😍😍😍😍😍😍 😍😍😍😍😍😍😍😍😍😍😍 😍😍😍😍😍😍😍😍😍😍😍                                                                                                                                           \n",
       "20653   ☁😊☁☁😊☁😁☁ ☁😊☁☁😊☁☁☁ ☁😊😊😊😊☁😊☁ ☁😊☁☁😊☁😊☁ ☁😊☁☁😊☁😊☁ ☁😊☁☁😊☁😁☁ ☁😊☁☁😊☁☁☁ ☁😊😊😊😊☁😊☁ ☁😊☁☁😊☁😊☁ ☁😊☁☁😊☁😊☁                                                                                                             \n",
       "98468   =============•============== •••••••••••••••••••••••••••••••••••••••                                                                                                                                  \n",
       "81771   👌 👌 👌 👌 👌 👌 👌 👌 👌 👌 👌 👌 👌 👌 👌 👌 👌 👌 👌 👌 👌 👌 👌 👌 👌 👌 👌 👌 👌 👌 👌 👌 👌 👌 👌 👌 👌 👌 👌 👌 👌 👌 👌 👌 👌 👌 👌 👌 👌 👌 👌 👌 👌 👌 👌 👌 👌 👌 👌 👌 👌 👌 👌 👌 👌 👌 👌 👌 👌 👌 👌 👌 👌 👌 👌 👌 👌 👌 👌 👌 👌 👌 👌 👌 👌 👌 👌 👌 👌 👌 👌 👌 👌 👌 👌 👌 👌 👌   \n",
       "\n",
       "        rating  \n",
       "32762   3       \n",
       "76559   4       \n",
       "91100   4       \n",
       "92696   4       \n",
       "109204  5       \n",
       "59329   3       \n",
       "134948  5       \n",
       "20653   2       \n",
       "98468   4       \n",
       "81771   4       "
      ]
     },
     "execution_count": 9,
     "metadata": {},
     "output_type": "execute_result"
    }
   ],
   "source": [
    "# 評論中只包含符號的\n",
    "symbol_review = traindf[traindf['review'].str.match(r'^[^\\w\\r\\n]+$')]\n",
    "print(symbol_review.describe())\n",
    "symbol_review.sample(10)"
   ]
  },
  {
   "cell_type": "markdown",
   "metadata": {},
   "source": [
    "## 評論中含有 \"😁😄😊🥰😍👍👍\" 這些表情的評分狀況"
   ]
  },
  {
   "cell_type": "code",
   "execution_count": 38,
   "metadata": {},
   "outputs": [
    {
     "data": {
      "text/html": [
       "<div>\n",
       "<style scoped>\n",
       "    .dataframe tbody tr th:only-of-type {\n",
       "        vertical-align: middle;\n",
       "    }\n",
       "\n",
       "    .dataframe tbody tr th {\n",
       "        vertical-align: top;\n",
       "    }\n",
       "\n",
       "    .dataframe thead th {\n",
       "        text-align: right;\n",
       "    }\n",
       "</style>\n",
       "<table border=\"1\" class=\"dataframe\">\n",
       "  <thead>\n",
       "    <tr style=\"text-align: right;\">\n",
       "      <th></th>\n",
       "      <th>review</th>\n",
       "    </tr>\n",
       "    <tr>\n",
       "      <th>rating</th>\n",
       "      <th></th>\n",
       "    </tr>\n",
       "  </thead>\n",
       "  <tbody>\n",
       "    <tr>\n",
       "      <th>3</th>\n",
       "      <td>9</td>\n",
       "    </tr>\n",
       "    <tr>\n",
       "      <th>4</th>\n",
       "      <td>6</td>\n",
       "    </tr>\n",
       "    <tr>\n",
       "      <th>5</th>\n",
       "      <td>10</td>\n",
       "    </tr>\n",
       "  </tbody>\n",
       "</table>\n",
       "</div>"
      ],
      "text/plain": [
       "        review\n",
       "rating        \n",
       "3       9     \n",
       "4       6     \n",
       "5       10    "
      ]
     },
     "execution_count": 38,
     "metadata": {},
     "output_type": "execute_result"
    }
   ],
   "source": [
    "# 評論中有這些表情的\n",
    "symbol_review[symbol_review['review'].str.match(r'[😁😄😊🥰😍👍👍🏻]')].groupby('rating').count()"
   ]
  },
  {
   "cell_type": "code",
   "execution_count": 12,
   "metadata": {
    "scrolled": true
   },
   "outputs": [
    {
     "name": "stdout",
     "output_type": "stream",
     "text": [
      "            rating\n",
      "count  2375.000000\n",
      "mean   3.948211   \n",
      "std    1.231541   \n",
      "min    1.000000   \n",
      "25%    4.000000   \n",
      "50%    4.000000   \n",
      "75%    5.000000   \n",
      "max    5.000000   \n"
     ]
    }
   ],
   "source": [
    "# 評論中含有unicode空白符的\n",
    "uspace_review = traindf[traindf['review'].str.contains(u'\\u200b')]\n",
    "print(uspace_review.describe())"
   ]
  },
  {
   "cell_type": "code",
   "execution_count": 40,
   "metadata": {},
   "outputs": [
    {
     "name": "stderr",
     "output_type": "stream",
     "text": [
      "C:\\Users\\pb580\\anaconda3\\envs\\ML_Env\\lib\\site-packages\\pandas\\core\\strings.py:1954: UserWarning: This pattern has match groups. To actually get the groups, use str.extract.\n",
      "  return func(self, *args, **kwargs)\n"
     ]
    },
    {
     "data": {
      "text/html": [
       "<div>\n",
       "<style scoped>\n",
       "    .dataframe tbody tr th:only-of-type {\n",
       "        vertical-align: middle;\n",
       "    }\n",
       "\n",
       "    .dataframe tbody tr th {\n",
       "        vertical-align: top;\n",
       "    }\n",
       "\n",
       "    .dataframe thead th {\n",
       "        text-align: right;\n",
       "    }\n",
       "</style>\n",
       "<table border=\"1\" class=\"dataframe\">\n",
       "  <thead>\n",
       "    <tr style=\"text-align: right;\">\n",
       "      <th></th>\n",
       "      <th>review</th>\n",
       "      <th>rating</th>\n",
       "    </tr>\n",
       "  </thead>\n",
       "  <tbody>\n",
       "    <tr>\n",
       "      <th>65423</th>\n",
       "      <td>baguus. dalemannya material just for long enough. so rich gituh wear shorts. hemmm but okay</td>\n",
       "      <td>4</td>\n",
       "    </tr>\n",
       "    <tr>\n",
       "      <th>95453</th>\n",
       "      <td>ok ...... lighten hhgghkks sdkdkol be 1121222222eeddfjj sshhbdjisjsjssedfftff dfffff</td>\n",
       "      <td>4</td>\n",
       "    </tr>\n",
       "    <tr>\n",
       "      <th>74125</th>\n",
       "      <td>order has been received. sellernya quick response. the product is ok. makasihhhhhhh ...............................</td>\n",
       "      <td>4</td>\n",
       "    </tr>\n",
       "    <tr>\n",
       "      <th>6312</th>\n",
       "      <td>sorry disappointed bgtt this. chat then in the empty goods, i said refund until just fit my stuff back for a refund chat gak in response at all until the limit of 3 days from shopee. although i reply his seharus loss of 50 thousand refund but could only 44 thousand. parahhh😌</td>\n",
       "      <td>1</td>\n",
       "    </tr>\n",
       "    <tr>\n",
       "      <th>114300</th>\n",
       "      <td>can not wait for cobaaaaaaaa, her baby may nyamaaaannnnnnn. thanks seller</td>\n",
       "      <td>5</td>\n",
       "    </tr>\n",
       "    <tr>\n",
       "      <th>97855</th>\n",
       "      <td>material according satisfied price bangettttttt</td>\n",
       "      <td>4</td>\n",
       "    </tr>\n",
       "    <tr>\n",
       "      <th>122464</th>\n",
       "      <td>the arrival goods lbh cepet, nice materials, printing and drawing also bagussss 59,000 bngt prices, bakal will estimate the size lbh big anyway, this is exactly the size of a regular krtu, tpi gpp, tetep memuaskan😍😍😍😍</td>\n",
       "      <td>5</td>\n",
       "    </tr>\n",
       "    <tr>\n",
       "      <th>146766</th>\n",
       "      <td>orders are, survived until the goal. , , , 😍 😍 😍 😍 😘 😘 😘 😘 packaging and delivery of its processes quickly, safely and rapii pancking 👍 👍 👍 👍 as always puassss shopping here. , , 💕 💕 💕 💕 💕 happy shopping deh kalo accordance with the order, 😊😊 thank seller🙏</td>\n",
       "      <td>5</td>\n",
       "    </tr>\n",
       "    <tr>\n",
       "      <th>74556</th>\n",
       "      <td>bagussssssszssssss sukakkakakakakaakkakaakak bangettytttt</td>\n",
       "      <td>4</td>\n",
       "    </tr>\n",
       "    <tr>\n",
       "      <th>87711</th>\n",
       "      <td>top up terusssssssssssssssssmenerururururururssssssssssssswkwkwkwkwkwkkwkwkwkwkwkwkwkkwwkwkkwkwkwkwkwkwkwkwkwkkwwkkwkwkwkwkwkwkkwkwkwkwkwkwkwkkwkwkwkwkwkwkwkkwkwkwkwkkwkwkwkwkwkw</td>\n",
       "      <td>4</td>\n",
       "    </tr>\n",
       "  </tbody>\n",
       "</table>\n",
       "</div>"
      ],
      "text/plain": [
       "                                                                                                                                                                                                                                                                                     review  \\\n",
       "65423   baguus. dalemannya material just for long enough. so rich gituh wear shorts. hemmm but okay                                                                                                                                                                                           \n",
       "95453   ok ...... lighten hhgghkks sdkdkol be 1121222222eeddfjj sshhbdjisjsjssedfftff dfffff                                                                                                                                                                                                  \n",
       "74125   order has been received. sellernya quick response. the product is ok. makasihhhhhhh ...............................                                                                                                                                                                   \n",
       "6312    sorry disappointed bgtt this. chat then in the empty goods, i said refund until just fit my stuff back for a refund chat gak in response at all until the limit of 3 days from shopee. although i reply his seharus loss of 50 thousand refund but could only 44 thousand. parahhh😌   \n",
       "114300  can not wait for cobaaaaaaaa, her baby may nyamaaaannnnnnn. thanks seller                                                                                                                                                                                                             \n",
       "97855   material according satisfied price bangettttttt                                                                                                                                                                                                                                       \n",
       "122464  the arrival goods lbh cepet, nice materials, printing and drawing also bagussss 59,000 bngt prices, bakal will estimate the size lbh big anyway, this is exactly the size of a regular krtu, tpi gpp, tetep memuaskan😍😍😍😍                                                             \n",
       "146766  orders are, survived until the goal. , , , 😍 😍 😍 😍 😘 😘 😘 😘 packaging and delivery of its processes quickly, safely and rapii pancking 👍 👍 👍 👍 as always puassss shopping here. , , 💕 💕 💕 💕 💕 happy shopping deh kalo accordance with the order, 😊😊 thank seller🙏                      \n",
       "74556   bagussssssszssssss sukakkakakakakaakkakaakak bangettytttt                                                                                                                                                                                                                             \n",
       "87711   top up terusssssssssssssssssmenerururururururssssssssssssswkwkwkwkwkwkkwkwkwkwkwkwkwkkwwkwkkwkwkwkwkwkwkwkwkwkkwwkkwkwkwkwkwkwkkwkwkwkwkwkwkwkkwkwkwkwkwkwkwkkwkwkwkwkkwkwkwkwkwkw                                                                                                    \n",
       "\n",
       "        rating  \n",
       "65423   4       \n",
       "95453   4       \n",
       "74125   4       \n",
       "6312    1       \n",
       "114300  5       \n",
       "97855   4       \n",
       "122464  5       \n",
       "146766  5       \n",
       "74556   4       \n",
       "87711   4       "
      ]
     },
     "execution_count": 40,
     "metadata": {},
     "output_type": "execute_result"
    }
   ],
   "source": [
    "dupchar_pat = re.compile(r'([a-zA-z_])\\1{2,}')\n",
    "dupdf = traindf[traindf['review'].str.contains(dupchar_pat)]\n",
    "dupdf.sample(10)"
   ]
  }
 ],
 "metadata": {
  "kernelspec": {
   "display_name": "Python 3",
   "language": "python",
   "name": "python3"
  },
  "language_info": {
   "codemirror_mode": {
    "name": "ipython",
    "version": 3
   },
   "file_extension": ".py",
   "mimetype": "text/x-python",
   "name": "python",
   "nbconvert_exporter": "python",
   "pygments_lexer": "ipython3",
   "version": "3.7.7"
  }
 },
 "nbformat": 4,
 "nbformat_minor": 4
}
