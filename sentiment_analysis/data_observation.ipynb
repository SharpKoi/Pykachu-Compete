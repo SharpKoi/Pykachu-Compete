{
 "cells": [
  {
   "cell_type": "markdown",
   "metadata": {},
   "source": [
    "# Data Observation"
   ]
  },
  {
   "cell_type": "markdown",
   "metadata": {},
   "source": [
    "## Import packages"
   ]
  },
  {
   "cell_type": "code",
   "execution_count": 1,
   "metadata": {},
   "outputs": [],
   "source": [
    "import pandas as pd\n",
    "import re\n",
    "pd.set_option('display.max_colwidth', 0)"
   ]
  },
  {
   "cell_type": "code",
   "execution_count": 2,
   "metadata": {},
   "outputs": [],
   "source": [
    "train_backup = pd.read_csv('data/train.csv')"
   ]
  },
  {
   "cell_type": "code",
   "execution_count": 3,
   "metadata": {},
   "outputs": [],
   "source": [
    "test_backup = pd.read_csv('data/test.csv')"
   ]
  },
  {
   "cell_type": "code",
   "execution_count": 4,
   "metadata": {},
   "outputs": [],
   "source": [
    "traindf = train_backup.copy()\n",
    "testdf = test_backup.copy()"
   ]
  },
  {
   "cell_type": "code",
   "execution_count": 5,
   "metadata": {},
   "outputs": [],
   "source": [
    "review_list = list(traindf['review'])\n",
    "rating_list = list(traindf['rating'])"
   ]
  },
  {
   "cell_type": "code",
   "execution_count": 6,
   "metadata": {},
   "outputs": [
    {
     "name": "stdout",
     "output_type": "stream",
     "text": [
      "146811 146811\n"
     ]
    }
   ],
   "source": [
    "print(len(review_list), len(rating_list))"
   ]
  },
  {
   "cell_type": "code",
   "execution_count": 7,
   "metadata": {},
   "outputs": [],
   "source": [
    "traindf.drop('review_id', axis=1, inplace=True)\n",
    "traindf['review'] = traindf['review'].str.strip().str.lower()"
   ]
  },
  {
   "cell_type": "markdown",
   "metadata": {},
   "source": [
    "## 評論中只包含good的評分狀況"
   ]
  },
  {
   "cell_type": "code",
   "execution_count": 39,
   "metadata": {
    "scrolled": true
   },
   "outputs": [
    {
     "name": "stdout",
     "output_type": "stream",
     "text": [
      "             rating\n",
      "count  61592.000000\n",
      "mean   3.752078    \n",
      "std    1.086374    \n",
      "min    1.000000    \n",
      "25%    3.000000    \n",
      "50%    4.000000    \n",
      "75%    5.000000    \n",
      "max    5.000000    \n"
     ]
    },
    {
     "data": {
      "text/html": [
       "<div>\n",
       "<style scoped>\n",
       "    .dataframe tbody tr th:only-of-type {\n",
       "        vertical-align: middle;\n",
       "    }\n",
       "\n",
       "    .dataframe tbody tr th {\n",
       "        vertical-align: top;\n",
       "    }\n",
       "\n",
       "    .dataframe thead th {\n",
       "        text-align: right;\n",
       "    }\n",
       "</style>\n",
       "<table border=\"1\" class=\"dataframe\">\n",
       "  <thead>\n",
       "    <tr style=\"text-align: right;\">\n",
       "      <th></th>\n",
       "      <th>review</th>\n",
       "    </tr>\n",
       "    <tr>\n",
       "      <th>rating</th>\n",
       "      <th></th>\n",
       "    </tr>\n",
       "  </thead>\n",
       "  <tbody>\n",
       "    <tr>\n",
       "      <th>1</th>\n",
       "      <td>3170</td>\n",
       "    </tr>\n",
       "    <tr>\n",
       "      <th>2</th>\n",
       "      <td>2689</td>\n",
       "    </tr>\n",
       "    <tr>\n",
       "      <th>3</th>\n",
       "      <td>18786</td>\n",
       "    </tr>\n",
       "    <tr>\n",
       "      <th>4</th>\n",
       "      <td>18543</td>\n",
       "    </tr>\n",
       "    <tr>\n",
       "      <th>5</th>\n",
       "      <td>18404</td>\n",
       "    </tr>\n",
       "  </tbody>\n",
       "</table>\n",
       "</div>"
      ],
      "text/plain": [
       "        review\n",
       "rating        \n",
       "1       3170  \n",
       "2       2689  \n",
       "3       18786 \n",
       "4       18543 \n",
       "5       18404 "
      ]
     },
     "execution_count": 39,
     "metadata": {},
     "output_type": "execute_result"
    }
   ],
   "source": [
    "# 評論中包含 'good' \n",
    "good_review = traindf[traindf['review'].str.contains('good', re.IGNORECASE)]\n",
    "print(good_review.describe())\n",
    "good_review.groupby('rating').count()"
   ]
  },
  {
   "cell_type": "markdown",
   "metadata": {},
   "source": [
    "## 評論中不包含任何單詞的長相"
   ]
  },
  {
   "cell_type": "code",
   "execution_count": 9,
   "metadata": {},
   "outputs": [
    {
     "name": "stdout",
     "output_type": "stream",
     "text": [
      "          rating\n",
      "count  69.000000\n",
      "mean   3.826087 \n",
      "std    0.856747 \n",
      "min    1.000000 \n",
      "25%    3.000000 \n",
      "50%    4.000000 \n",
      "75%    4.000000 \n",
      "max    5.000000 \n"
     ]
    },
    {
     "data": {
      "text/html": [
       "<div>\n",
       "<style scoped>\n",
       "    .dataframe tbody tr th:only-of-type {\n",
       "        vertical-align: middle;\n",
       "    }\n",
       "\n",
       "    .dataframe tbody tr th {\n",
       "        vertical-align: top;\n",
       "    }\n",
       "\n",
       "    .dataframe thead th {\n",
       "        text-align: right;\n",
       "    }\n",
       "</style>\n",
       "<table border=\"1\" class=\"dataframe\">\n",
       "  <thead>\n",
       "    <tr style=\"text-align: right;\">\n",
       "      <th></th>\n",
       "      <th>review</th>\n",
       "      <th>rating</th>\n",
       "    </tr>\n",
       "  </thead>\n",
       "  <tbody>\n",
       "    <tr>\n",
       "      <th>32762</th>\n",
       "      <td>👍🏻👍🏻👍🏻👍🏻👍🏻👍🏻👍🏻👍🏻👍🏻👍🏻👍🏻👍🏻👍🏻👍🏻👍🏻👍🏻👍🏻👍🏻👍🏻👍🏻👍🏻👍🏻👍🏻👍🏻👍🏻👍🏻👍🏻 👍🏻👍🏻👍🏻👍🏻👍🏻👍🏻👍🏻👍🏻👍🏻👍🏻👍🏻👍🏻👍🏻👍🏻👍🏻👍🏻👍🏻👍🏻👍🏻👍🏻👍🏻👍🏻👍🏻👍🏻👍🏻👍🏻👍🏻👍🏻👍🏻 👍🏻👍🏻</td>\n",
       "      <td>3</td>\n",
       "    </tr>\n",
       "    <tr>\n",
       "      <th>76559</th>\n",
       "      <td>✨💎💎✨💎💎✨ 💎💎💎💎💎💎💎 💎💎💎💎💎💎💎 ✨💎💎💎💎💎✨ ✨✨💎💎💎✨✨ ✨✨✨💎✨✨✨ ✨💎💎✨💎💎✨ 💎💎💎💎💎💎💎 💎💎💎💎💎💎💎 ✨💎💎💎💎💎✨ ✨✨💎💎💎✨✨ ✨✨✨💎✨✨✨ ✨💎💎✨💎💎✨ 💎💎💎💎💎💎💎 💎💎💎💎💎💎💎 ✨💎💎💎💎💎✨ ✨✨💎💎💎✨✨ ✨✨✨💎✨✨✨ ✨💎💎✨💎💎✨ 💎💎💎💎💎💎💎 💎💎💎💎💎💎💎 ✨💎💎💎💎💎✨ ✨✨💎💎💎✨✨ ✨✨✨💎✨✨✨</td>\n",
       "      <td>4</td>\n",
       "    </tr>\n",
       "    <tr>\n",
       "      <th>91100</th>\n",
       "      <td>👍👍👍👍👍👍👍👍👍👍👍👍👍👍👍👍👍👍👍👍👍👍👍👍👍👍 👍👍👍👍👍👍👍👍👍👍👍👍👍👍👍👍👍👍👍👍👍👍👍👍👍👍👍👍👍👍👍 👍👍👍👍👍👍👍👍👍👍👍👍👍👍👍👍👍👍👍👍👍👍👍👍👍👍👍👍👍👍👍 👍👍👍👍👍👍👍👍👍👍👍👍👍👍👍👍👍👍👍👍👍👍👍👍👍👍👍👍👍👍👍👍</td>\n",
       "      <td>4</td>\n",
       "    </tr>\n",
       "    <tr>\n",
       "      <th>92696</th>\n",
       "      <td>🌟💚🌟🌟💚🌟💙🌟 🌟💚💚💚💚🌟💚🌟 🌟💚🌟🌟💚🌟💚🌟 🌟💚🌟🌟💚🌟💙🌟 🌟💚💚💚💚🌟💚🌟 🌟💚🌟🌟💚🌟💚🌟 🌟💚🌟🌟💚🌟💙🌟 🌟💚💚💚💚🌟💚🌟 🌟💚🌟🌟💚🌟💚🌟 🌟💚🌟🌟💚🌟💙🌟 🌟💚💚💚💚🌟💚🌟 🌟💚🌟🌟💚🌟💚🌟</td>\n",
       "      <td>4</td>\n",
       "    </tr>\n",
       "    <tr>\n",
       "      <th>109204</th>\n",
       "      <td>🥰🥰🥰🥰🥰🥰🥰🥰🥰🥰🥰🥰🥰🥰🥰🥰 👍👍👍👍👍👍👍👍👍👍👍👍👍👍👍👍 🥰🥰🥰🥰🥰🥰🥰🥰🥰🥰🥰🥰🥰🥰🥰🥰 👍👍👍👍👍👍👍👍👍👍👍👍👍👍👍👍</td>\n",
       "      <td>5</td>\n",
       "    </tr>\n",
       "    <tr>\n",
       "      <th>59329</th>\n",
       "      <td>👍🏻.......... .......... .......... .......... ..........  .......... ...........</td>\n",
       "      <td>3</td>\n",
       "    </tr>\n",
       "    <tr>\n",
       "      <th>134948</th>\n",
       "      <td>😍😍😍😍😍😍😍😍😍😍😍 😍😍😍😍😍😍😍😍😍😍😍 😍😍😍😍😍😍😍😍😍😍😍 😍😍😍😍😍😍😍😍😍😍😍 😍😍😍😍😍😍😍😍😍😍😍</td>\n",
       "      <td>5</td>\n",
       "    </tr>\n",
       "    <tr>\n",
       "      <th>20653</th>\n",
       "      <td>☁😊☁☁😊☁😁☁ ☁😊☁☁😊☁☁☁ ☁😊😊😊😊☁😊☁ ☁😊☁☁😊☁😊☁ ☁😊☁☁😊☁😊☁ ☁😊☁☁😊☁😁☁ ☁😊☁☁😊☁☁☁ ☁😊😊😊😊☁😊☁ ☁😊☁☁😊☁😊☁ ☁😊☁☁😊☁😊☁</td>\n",
       "      <td>2</td>\n",
       "    </tr>\n",
       "    <tr>\n",
       "      <th>98468</th>\n",
       "      <td>=============•============== •••••••••••••••••••••••••••••••••••••••</td>\n",
       "      <td>4</td>\n",
       "    </tr>\n",
       "    <tr>\n",
       "      <th>81771</th>\n",
       "      <td>👌 👌 👌 👌 👌 👌 👌 👌 👌 👌 👌 👌 👌 👌 👌 👌 👌 👌 👌 👌 👌 👌 👌 👌 👌 👌 👌 👌 👌 👌 👌 👌 👌 👌 👌 👌 👌 👌 👌 👌 👌 👌 👌 👌 👌 👌 👌 👌 👌 👌 👌 👌 👌 👌 👌 👌 👌 👌 👌 👌 👌 👌 👌 👌 👌 👌 👌 👌 👌 👌 👌 👌 👌 👌 👌 👌 👌 👌 👌 👌 👌 👌 👌 👌 👌 👌 👌 👌 👌 👌 👌 👌 👌 👌 👌 👌 👌 👌</td>\n",
       "      <td>4</td>\n",
       "    </tr>\n",
       "  </tbody>\n",
       "</table>\n",
       "</div>"
      ],
      "text/plain": [
       "                                                                                                                                                                                                     review  \\\n",
       "32762   👍🏻👍🏻👍🏻👍🏻👍🏻👍🏻👍🏻👍🏻👍🏻👍🏻👍🏻👍🏻👍🏻👍🏻👍🏻👍🏻👍🏻👍🏻👍🏻👍🏻👍🏻👍🏻👍🏻👍🏻👍🏻👍🏻👍🏻 👍🏻👍🏻👍🏻👍🏻👍🏻👍🏻👍🏻👍🏻👍🏻👍🏻👍🏻👍🏻👍🏻👍🏻👍🏻👍🏻👍🏻👍🏻👍🏻👍🏻👍🏻👍🏻👍🏻👍🏻👍🏻👍🏻👍🏻👍🏻👍🏻 👍🏻👍🏻                                                                                \n",
       "76559   ✨💎💎✨💎💎✨ 💎💎💎💎💎💎💎 💎💎💎💎💎💎💎 ✨💎💎💎💎💎✨ ✨✨💎💎💎✨✨ ✨✨✨💎✨✨✨ ✨💎💎✨💎💎✨ 💎💎💎💎💎💎💎 💎💎💎💎💎💎💎 ✨💎💎💎💎💎✨ ✨✨💎💎💎✨✨ ✨✨✨💎✨✨✨ ✨💎💎✨💎💎✨ 💎💎💎💎💎💎💎 💎💎💎💎💎💎💎 ✨💎💎💎💎💎✨ ✨✨💎💎💎✨✨ ✨✨✨💎✨✨✨ ✨💎💎✨💎💎✨ 💎💎💎💎💎💎💎 💎💎💎💎💎💎💎 ✨💎💎💎💎💎✨ ✨✨💎💎💎✨✨ ✨✨✨💎✨✨✨       \n",
       "91100   👍👍👍👍👍👍👍👍👍👍👍👍👍👍👍👍👍👍👍👍👍👍👍👍👍👍 👍👍👍👍👍👍👍👍👍👍👍👍👍👍👍👍👍👍👍👍👍👍👍👍👍👍👍👍👍👍👍 👍👍👍👍👍👍👍👍👍👍👍👍👍👍👍👍👍👍👍👍👍👍👍👍👍👍👍👍👍👍👍 👍👍👍👍👍👍👍👍👍👍👍👍👍👍👍👍👍👍👍👍👍👍👍👍👍👍👍👍👍👍👍👍                                                                           \n",
       "92696   🌟💚🌟🌟💚🌟💙🌟 🌟💚💚💚💚🌟💚🌟 🌟💚🌟🌟💚🌟💚🌟 🌟💚🌟🌟💚🌟💙🌟 🌟💚💚💚💚🌟💚🌟 🌟💚🌟🌟💚🌟💚🌟 🌟💚🌟🌟💚🌟💙🌟 🌟💚💚💚💚🌟💚🌟 🌟💚🌟🌟💚🌟💚🌟 🌟💚🌟🌟💚🌟💙🌟 🌟💚💚💚💚🌟💚🌟 🌟💚🌟🌟💚🌟💚🌟                                                                                           \n",
       "109204  🥰🥰🥰🥰🥰🥰🥰🥰🥰🥰🥰🥰🥰🥰🥰🥰 👍👍👍👍👍👍👍👍👍👍👍👍👍👍👍👍 🥰🥰🥰🥰🥰🥰🥰🥰🥰🥰🥰🥰🥰🥰🥰🥰 👍👍👍👍👍👍👍👍👍👍👍👍👍👍👍👍                                                                                                                                   \n",
       "59329   👍🏻.......... .......... .......... .......... ..........  .......... ...........                                                                                                                      \n",
       "134948  😍😍😍😍😍😍😍😍😍😍😍 😍😍😍😍😍😍😍😍😍😍😍 😍😍😍😍😍😍😍😍😍😍😍 😍😍😍😍😍😍😍😍😍😍😍 😍😍😍😍😍😍😍😍😍😍😍                                                                                                                                           \n",
       "20653   ☁😊☁☁😊☁😁☁ ☁😊☁☁😊☁☁☁ ☁😊😊😊😊☁😊☁ ☁😊☁☁😊☁😊☁ ☁😊☁☁😊☁😊☁ ☁😊☁☁😊☁😁☁ ☁😊☁☁😊☁☁☁ ☁😊😊😊😊☁😊☁ ☁😊☁☁😊☁😊☁ ☁😊☁☁😊☁😊☁                                                                                                             \n",
       "98468   =============•============== •••••••••••••••••••••••••••••••••••••••                                                                                                                                  \n",
       "81771   👌 👌 👌 👌 👌 👌 👌 👌 👌 👌 👌 👌 👌 👌 👌 👌 👌 👌 👌 👌 👌 👌 👌 👌 👌 👌 👌 👌 👌 👌 👌 👌 👌 👌 👌 👌 👌 👌 👌 👌 👌 👌 👌 👌 👌 👌 👌 👌 👌 👌 👌 👌 👌 👌 👌 👌 👌 👌 👌 👌 👌 👌 👌 👌 👌 👌 👌 👌 👌 👌 👌 👌 👌 👌 👌 👌 👌 👌 👌 👌 👌 👌 👌 👌 👌 👌 👌 👌 👌 👌 👌 👌 👌 👌 👌 👌 👌 👌   \n",
       "\n",
       "        rating  \n",
       "32762   3       \n",
       "76559   4       \n",
       "91100   4       \n",
       "92696   4       \n",
       "109204  5       \n",
       "59329   3       \n",
       "134948  5       \n",
       "20653   2       \n",
       "98468   4       \n",
       "81771   4       "
      ]
     },
     "execution_count": 9,
     "metadata": {},
     "output_type": "execute_result"
    }
   ],
   "source": [
    "# 評論中只包含符號的\n",
    "symbol_review = traindf[traindf['review'].str.match(r'^[^\\w\\r\\n]+$')]\n",
    "print(symbol_review.describe())\n",
    "symbol_review.sample(10)"
   ]
  },
  {
   "cell_type": "markdown",
   "metadata": {},
   "source": [
    "## 評論中含有 \"😁😄😊🥰😍👍👍\" 這些表情的評分狀況"
   ]
  },
  {
   "cell_type": "code",
   "execution_count": 38,
   "metadata": {},
   "outputs": [
    {
     "data": {
      "text/html": [
       "<div>\n",
       "<style scoped>\n",
       "    .dataframe tbody tr th:only-of-type {\n",
       "        vertical-align: middle;\n",
       "    }\n",
       "\n",
       "    .dataframe tbody tr th {\n",
       "        vertical-align: top;\n",
       "    }\n",
       "\n",
       "    .dataframe thead th {\n",
       "        text-align: right;\n",
       "    }\n",
       "</style>\n",
       "<table border=\"1\" class=\"dataframe\">\n",
       "  <thead>\n",
       "    <tr style=\"text-align: right;\">\n",
       "      <th></th>\n",
       "      <th>review</th>\n",
       "    </tr>\n",
       "    <tr>\n",
       "      <th>rating</th>\n",
       "      <th></th>\n",
       "    </tr>\n",
       "  </thead>\n",
       "  <tbody>\n",
       "    <tr>\n",
       "      <th>3</th>\n",
       "      <td>9</td>\n",
       "    </tr>\n",
       "    <tr>\n",
       "      <th>4</th>\n",
       "      <td>6</td>\n",
       "    </tr>\n",
       "    <tr>\n",
       "      <th>5</th>\n",
       "      <td>10</td>\n",
       "    </tr>\n",
       "  </tbody>\n",
       "</table>\n",
       "</div>"
      ],
      "text/plain": [
       "        review\n",
       "rating        \n",
       "3       9     \n",
       "4       6     \n",
       "5       10    "
      ]
     },
     "execution_count": 38,
     "metadata": {},
     "output_type": "execute_result"
    }
   ],
   "source": [
    "# 評論中有這些表情的\n",
    "symbol_review[symbol_review['review'].str.match(r'[😁😄😊🥰😍👍👍🏻]')].groupby('rating').count()"
   ]
  },
  {
   "cell_type": "code",
   "execution_count": 12,
   "metadata": {
    "scrolled": true
   },
   "outputs": [
    {
     "name": "stdout",
     "output_type": "stream",
     "text": [
      "            rating\n",
      "count  2375.000000\n",
      "mean   3.948211   \n",
      "std    1.231541   \n",
      "min    1.000000   \n",
      "25%    4.000000   \n",
      "50%    4.000000   \n",
      "75%    5.000000   \n",
      "max    5.000000   \n"
     ]
    }
   ],
   "source": [
    "# 評論中含有unicode空白符的\n",
    "uspace_review = traindf[traindf['review'].str.contains(u'\\u200b')]\n",
    "print(uspace_review.describe())"
   ]
  },
  {
   "cell_type": "code",
   "execution_count": 9,
   "metadata": {},
   "outputs": [
    {
     "name": "stderr",
     "output_type": "stream",
     "text": [
      "C:\\Users\\pb580\\anaconda3\\envs\\ML_Env\\lib\\site-packages\\pandas\\core\\strings.py:1954: UserWarning: This pattern has match groups. To actually get the groups, use str.extract.\n",
      "  return func(self, *args, **kwargs)\n"
     ]
    },
    {
     "data": {
      "text/html": [
       "<div>\n",
       "<style scoped>\n",
       "    .dataframe tbody tr th:only-of-type {\n",
       "        vertical-align: middle;\n",
       "    }\n",
       "\n",
       "    .dataframe tbody tr th {\n",
       "        vertical-align: top;\n",
       "    }\n",
       "\n",
       "    .dataframe thead th {\n",
       "        text-align: right;\n",
       "    }\n",
       "</style>\n",
       "<table border=\"1\" class=\"dataframe\">\n",
       "  <thead>\n",
       "    <tr style=\"text-align: right;\">\n",
       "      <th></th>\n",
       "      <th>review</th>\n",
       "      <th>rating</th>\n",
       "    </tr>\n",
       "  </thead>\n",
       "  <tbody>\n",
       "    <tr>\n",
       "      <th>22741</th>\n",
       "      <td>laaamaaa bgt, pesen new nyampe 17th, on 1st june. fortunately, before the eid sampenya. pesenan where people already diyanyain mulu ... 😣😣😣</td>\n",
       "      <td>2</td>\n",
       "    </tr>\n",
       "    <tr>\n",
       "      <th>47812</th>\n",
       "      <td>loved it ... free shipping scarfnyaaaa its course rather lamaa to garut until 1 new mggu sent that was once there japri here ...</td>\n",
       "      <td>3</td>\n",
       "    </tr>\n",
       "    <tr>\n",
       "      <th>50066</th>\n",
       "      <td>bagusss..cma glue his urng tighter so afraid of his offense mata2</td>\n",
       "      <td>3</td>\n",
       "    </tr>\n",
       "    <tr>\n",
       "      <th>131815</th>\n",
       "      <td>very cantikkkkk .... contented ... the price is very cheap buy ..</td>\n",
       "      <td>5</td>\n",
       "    </tr>\n",
       "    <tr>\n",
       "      <th>122121</th>\n",
       "      <td>baguss quality fast delivery sekalii okelaaahhh ....</td>\n",
       "      <td>5</td>\n",
       "    </tr>\n",
       "    <tr>\n",
       "      <th>103198</th>\n",
       "      <td>yeee end who in waiting to come as well, the goods arrived safely. to order and secure really because in packs with thick so secure really thinks. hopefully this fit in my skin</td>\n",
       "      <td>4</td>\n",
       "    </tr>\n",
       "    <tr>\n",
       "      <th>135974</th>\n",
       "      <td>sukaaaaaaa bgtttttttttt sistaaaaaaa makasihhhhh yaaaaaaaaa cucokkkkkkk meyonggggggg dechhhhhhhh</td>\n",
       "      <td>5</td>\n",
       "    </tr>\n",
       "    <tr>\n",
       "      <th>61025</th>\n",
       "      <td>okaaaaaaaaaayyyyy boooossssss ..... goods perfect landing ... cucooookkkkk thankyouuuuuuu ..... 😉</td>\n",
       "      <td>3</td>\n",
       "    </tr>\n",
       "    <tr>\n",
       "      <th>135784</th>\n",
       "      <td>orders booked in accordance with reply .... delivery in very neatly packing .... sering2 flash sale yaaa .... thanks nutrimart n shopee ...</td>\n",
       "      <td>5</td>\n",
       "    </tr>\n",
       "    <tr>\n",
       "      <th>65852</th>\n",
       "      <td>austria beautiful, sure, like always super quality, genuine lammmm more tags ❤️❤️ shop also very luonnnn cug mask again, more households will ug 😍😍😍</td>\n",
       "      <td>4</td>\n",
       "    </tr>\n",
       "  </tbody>\n",
       "</table>\n",
       "</div>"
      ],
      "text/plain": [
       "                                                                                                                                                                                  review  \\\n",
       "22741   laaamaaa bgt, pesen new nyampe 17th, on 1st june. fortunately, before the eid sampenya. pesenan where people already diyanyain mulu ... 😣😣😣                                        \n",
       "47812   loved it ... free shipping scarfnyaaaa its course rather lamaa to garut until 1 new mggu sent that was once there japri here ...                                                   \n",
       "50066   bagusss..cma glue his urng tighter so afraid of his offense mata2                                                                                                                  \n",
       "131815  very cantikkkkk .... contented ... the price is very cheap buy ..                                                                                                                  \n",
       "122121  baguss quality fast delivery sekalii okelaaahhh ....                                                                                                                               \n",
       "103198  yeee end who in waiting to come as well, the goods arrived safely. to order and secure really because in packs with thick so secure really thinks. hopefully this fit in my skin   \n",
       "135974  sukaaaaaaa bgtttttttttt sistaaaaaaa makasihhhhh yaaaaaaaaa cucokkkkkkk meyonggggggg dechhhhhhhh                                                                                    \n",
       "61025   okaaaaaaaaaayyyyy boooossssss ..... goods perfect landing ... cucooookkkkk thankyouuuuuuu ..... 😉                                                                                  \n",
       "135784  orders booked in accordance with reply .... delivery in very neatly packing .... sering2 flash sale yaaa .... thanks nutrimart n shopee ...                                        \n",
       "65852   austria beautiful, sure, like always super quality, genuine lammmm more tags ❤️❤️ shop also very luonnnn cug mask again, more households will ug 😍😍😍                               \n",
       "\n",
       "        rating  \n",
       "22741   2       \n",
       "47812   3       \n",
       "50066   3       \n",
       "131815  5       \n",
       "122121  5       \n",
       "103198  4       \n",
       "135974  5       \n",
       "61025   3       \n",
       "135784  5       \n",
       "65852   4       "
      ]
     },
     "execution_count": 9,
     "metadata": {},
     "output_type": "execute_result"
    }
   ],
   "source": [
    "dupchar_pat = re.compile(r'([a-zA-z_])\\1{2,}')\n",
    "dupdf = traindf[traindf['review'].str.contains(dupchar_pat)]\n",
    "dupdf.sample(10)"
   ]
  },
  {
   "cell_type": "code",
   "execution_count": 14,
   "metadata": {},
   "outputs": [
    {
     "data": {
      "text/html": [
       "<div>\n",
       "<style scoped>\n",
       "    .dataframe tbody tr th:only-of-type {\n",
       "        vertical-align: middle;\n",
       "    }\n",
       "\n",
       "    .dataframe tbody tr th {\n",
       "        vertical-align: top;\n",
       "    }\n",
       "\n",
       "    .dataframe thead th {\n",
       "        text-align: right;\n",
       "    }\n",
       "</style>\n",
       "<table border=\"1\" class=\"dataframe\">\n",
       "  <thead>\n",
       "    <tr style=\"text-align: right;\">\n",
       "      <th></th>\n",
       "      <th>review_id</th>\n",
       "      <th>review</th>\n",
       "    </tr>\n",
       "  </thead>\n",
       "  <tbody>\n",
       "    <tr>\n",
       "      <th>0</th>\n",
       "      <td>1</td>\n",
       "      <td>Great danger, cool, motif and cantik2 jg models. Delivery cepet. Tp packing less okay krn only wear clear plastic nerawang klihtan contents jd</td>\n",
       "    </tr>\n",
       "    <tr>\n",
       "      <th>1</th>\n",
       "      <td>2</td>\n",
       "      <td>One of the shades don't fit well</td>\n",
       "    </tr>\n",
       "    <tr>\n",
       "      <th>2</th>\n",
       "      <td>3</td>\n",
       "      <td>Very comfortable</td>\n",
       "    </tr>\n",
       "    <tr>\n",
       "      <th>3</th>\n",
       "      <td>4</td>\n",
       "      <td>Fast delivery. Product expiry is on Dec 2022. Product wrap properly. No damage on the item.</td>\n",
       "    </tr>\n",
       "    <tr>\n",
       "      <th>4</th>\n",
       "      <td>5</td>\n",
       "      <td>it's sooooo cute! i like playing with the glitters better than browsing on my phone now. item was also deliered earlier than i expected. thank you seller! may you have more buyers to come. 😊😊😊</td>\n",
       "    </tr>\n",
       "  </tbody>\n",
       "</table>\n",
       "</div>"
      ],
      "text/plain": [
       "   review_id  \\\n",
       "0  1           \n",
       "1  2           \n",
       "2  3           \n",
       "3  4           \n",
       "4  5           \n",
       "\n",
       "                                                                                                                                                                                             review  \n",
       "0  Great danger, cool, motif and cantik2 jg models. Delivery cepet. Tp packing less okay krn only wear clear plastic nerawang klihtan contents jd                                                    \n",
       "1  One of the shades don't fit well                                                                                                                                                                  \n",
       "2  Very comfortable                                                                                                                                                                                  \n",
       "3  Fast delivery. Product expiry is on Dec 2022. Product wrap properly. No damage on the item.                                                                                                       \n",
       "4  it's sooooo cute! i like playing with the glitters better than browsing on my phone now. item was also deliered earlier than i expected. thank you seller! may you have more buyers to come. 😊😊😊  "
      ]
     },
     "execution_count": 14,
     "metadata": {},
     "output_type": "execute_result"
    }
   ],
   "source": [
    "testdf.head()"
   ]
  },
  {
   "cell_type": "code",
   "execution_count": null,
   "metadata": {},
   "outputs": [],
   "source": []
  }
 ],
 "metadata": {
  "kernelspec": {
   "display_name": "Python 3",
   "language": "python",
   "name": "python3"
  },
  "language_info": {
   "codemirror_mode": {
    "name": "ipython",
    "version": 3
   },
   "file_extension": ".py",
   "mimetype": "text/x-python",
   "name": "python",
   "nbconvert_exporter": "python",
   "pygments_lexer": "ipython3",
   "version": "3.7.7"
  }
 },
 "nbformat": 4,
 "nbformat_minor": 4
}
