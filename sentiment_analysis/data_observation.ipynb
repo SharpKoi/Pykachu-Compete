{
 "cells": [
  {
   "cell_type": "markdown",
   "metadata": {},
   "source": [
    "## Import packages"
   ]
  },
  {
   "cell_type": "code",
   "execution_count": 8,
   "metadata": {},
   "outputs": [],
   "source": [
    "import pandas as pd\n",
    "pd.set_option('display.max_colwidth', 0)"
   ]
  },
  {
   "cell_type": "code",
   "execution_count": 39,
   "metadata": {},
   "outputs": [],
   "source": [
    "train_backup = pd.read_csv('data/train.csv')"
   ]
  },
  {
   "cell_type": "code",
   "execution_count": 40,
   "metadata": {},
   "outputs": [],
   "source": [
    "test_backup = pd.read_csv('data/test.csv')"
   ]
  },
  {
   "cell_type": "code",
   "execution_count": 41,
   "metadata": {},
   "outputs": [],
   "source": [
    "train_df = train_backup.copy()\n",
    "test_df = test_backup.copy()"
   ]
  },
  {
   "cell_type": "code",
   "execution_count": 57,
   "metadata": {},
   "outputs": [],
   "source": [
    "review_list = list(train_df['review'])\n",
    "rating_list = list(train_df['rating'])"
   ]
  },
  {
   "cell_type": "code",
   "execution_count": 62,
   "metadata": {},
   "outputs": [
    {
     "name": "stdout",
     "output_type": "stream",
     "text": [
      "146811 146811\n"
     ]
    }
   ],
   "source": [
    "print(len(review_list), len(rating_list))"
   ]
  },
  {
   "cell_type": "code",
   "execution_count": 65,
   "metadata": {},
   "outputs": [],
   "source": [
    "train_list = list(zip(review_list, rating_list))"
   ]
  },
  {
   "cell_type": "code",
   "execution_count": 75,
   "metadata": {},
   "outputs": [
    {
     "data": {
      "text/plain": [
       "('Rdtanya replace broken glass, broken chargernya', 1)"
      ]
     },
     "execution_count": 75,
     "metadata": {},
     "output_type": "execute_result"
    }
   ],
   "source": [
    "list(train_list)[1]"
   ]
  },
  {
   "cell_type": "code",
   "execution_count": 30,
   "metadata": {},
   "outputs": [
    {
     "data": {
      "text/html": [
       "<div>\n",
       "<style scoped>\n",
       "    .dataframe tbody tr th:only-of-type {\n",
       "        vertical-align: middle;\n",
       "    }\n",
       "\n",
       "    .dataframe tbody tr th {\n",
       "        vertical-align: top;\n",
       "    }\n",
       "\n",
       "    .dataframe thead th {\n",
       "        text-align: right;\n",
       "    }\n",
       "</style>\n",
       "<table border=\"1\" class=\"dataframe\">\n",
       "  <thead>\n",
       "    <tr style=\"text-align: right;\">\n",
       "      <th></th>\n",
       "      <th>review_id</th>\n",
       "      <th>review</th>\n",
       "      <th>rating</th>\n",
       "    </tr>\n",
       "  </thead>\n",
       "  <tbody>\n",
       "    <tr>\n",
       "      <th>129515</th>\n",
       "      <td>129515</td>\n",
       "      <td>everything ok . thank u seller . good product quality good product quality good product quality good product quality good product quality good product quality good product quality good product quality good product quality</td>\n",
       "      <td>5</td>\n",
       "    </tr>\n",
       "    <tr>\n",
       "      <th>22118</th>\n",
       "      <td>22118</td>\n",
       "      <td>Product quality standards</td>\n",
       "      <td>2</td>\n",
       "    </tr>\n",
       "    <tr>\n",
       "      <th>134835</th>\n",
       "      <td>134835</td>\n",
       "      <td>good quality</td>\n",
       "      <td>5</td>\n",
       "    </tr>\n",
       "    <tr>\n",
       "      <th>142426</th>\n",
       "      <td>142426</td>\n",
       "      <td>Shop delivery but lacks restaurant agreed refund and then, there it is again looking forward to most traffic k hic</td>\n",
       "      <td>5</td>\n",
       "    </tr>\n",
       "    <tr>\n",
       "      <th>57463</th>\n",
       "      <td>57463</td>\n",
       "      <td>Product quality good price good product delivery speed well</td>\n",
       "      <td>3</td>\n",
       "    </tr>\n",
       "    <tr>\n",
       "      <th>129887</th>\n",
       "      <td>129887</td>\n",
       "      <td>Very good value Speed ​​of delivery is very good. Product quality is very good</td>\n",
       "      <td>5</td>\n",
       "    </tr>\n",
       "    <tr>\n",
       "      <th>107904</th>\n",
       "      <td>107904</td>\n",
       "      <td>The product quality is excellent. Delivery speed is very good. The product price is very good.</td>\n",
       "      <td>5</td>\n",
       "    </tr>\n",
       "    <tr>\n",
       "      <th>59103</th>\n",
       "      <td>59103</td>\n",
       "      <td>Tp dear motives that dipesen ama yg gk dateng appropriate, Mickey Mouse motif pesen tp reply until volkadot 😓😪</td>\n",
       "      <td>3</td>\n",
       "    </tr>\n",
       "    <tr>\n",
       "      <th>67727</th>\n",
       "      <td>67727</td>\n",
       "      <td>Tq freegift !!</td>\n",
       "      <td>4</td>\n",
       "    </tr>\n",
       "    <tr>\n",
       "      <th>60049</th>\n",
       "      <td>60049</td>\n",
       "      <td>According to the image .. Mantull ... Cpt delivery, the seller is also ok.  Cuman should buy 12oz, huhu</td>\n",
       "      <td>3</td>\n",
       "    </tr>\n",
       "  </tbody>\n",
       "</table>\n",
       "</div>"
      ],
      "text/plain": [
       "        review_id  \\\n",
       "129515  129515      \n",
       "22118   22118       \n",
       "134835  134835      \n",
       "142426  142426      \n",
       "57463   57463       \n",
       "129887  129887      \n",
       "107904  107904      \n",
       "59103   59103       \n",
       "67727   67727       \n",
       "60049   60049       \n",
       "\n",
       "                                                                                                                                                                                                                               review  \\\n",
       "129515  everything ok . thank u seller . good product quality good product quality good product quality good product quality good product quality good product quality good product quality good product quality good product quality   \n",
       "22118    Product quality standards                                                                                                                                                                                                      \n",
       "134835  good quality                                                                                                                                                                                                                    \n",
       "142426  Shop delivery but lacks restaurant agreed refund and then, there it is again looking forward to most traffic k hic                                                                                                              \n",
       "57463    Product quality good price good product delivery speed well                                                                                                                                                                    \n",
       "129887   Very good value Speed ​​of delivery is very good. Product quality is very good                                                                                                                                                 \n",
       "107904   The product quality is excellent. Delivery speed is very good. The product price is very good.                                                                                                                                 \n",
       "59103   Tp dear motives that dipesen ama yg gk dateng appropriate, Mickey Mouse motif pesen tp reply until volkadot 😓😪                                                                                                                  \n",
       "67727   Tq freegift !!                                                                                                                                                                                                                  \n",
       "60049   According to the image .. Mantull ... Cpt delivery, the seller is also ok.  Cuman should buy 12oz, huhu                                                                                                                         \n",
       "\n",
       "        rating  \n",
       "129515  5       \n",
       "22118   2       \n",
       "134835  5       \n",
       "142426  5       \n",
       "57463   3       \n",
       "129887  5       \n",
       "107904  5       \n",
       "59103   3       \n",
       "67727   4       \n",
       "60049   3       "
      ]
     },
     "execution_count": 30,
     "metadata": {},
     "output_type": "execute_result"
    }
   ],
   "source": [
    "train_df.sample(10)"
   ]
  },
  {
   "cell_type": "code",
   "execution_count": 32,
   "metadata": {},
   "outputs": [
    {
     "data": {
      "text/html": [
       "<div>\n",
       "<style scoped>\n",
       "    .dataframe tbody tr th:only-of-type {\n",
       "        vertical-align: middle;\n",
       "    }\n",
       "\n",
       "    .dataframe tbody tr th {\n",
       "        vertical-align: top;\n",
       "    }\n",
       "\n",
       "    .dataframe thead th {\n",
       "        text-align: right;\n",
       "    }\n",
       "</style>\n",
       "<table border=\"1\" class=\"dataframe\">\n",
       "  <thead>\n",
       "    <tr style=\"text-align: right;\">\n",
       "      <th></th>\n",
       "      <th>review_id</th>\n",
       "      <th>review</th>\n",
       "    </tr>\n",
       "  </thead>\n",
       "  <tbody>\n",
       "    <tr>\n",
       "      <th>57166</th>\n",
       "      <td>57166</td>\n",
       "      <td>Nice quality..sakto also click 150gc ko..tapos speed also dumating..ang bait more seller..👍👍👍👍👍</td>\n",
       "    </tr>\n",
       "    <tr>\n",
       "      <th>56807</th>\n",
       "      <td>56807</td>\n",
       "      <td>Very good value Speed ​​of delivery is very good.</td>\n",
       "    </tr>\n",
       "    <tr>\n",
       "      <th>23836</th>\n",
       "      <td>23836</td>\n",
       "      <td>Tulisan'y why white? In red when the pic</td>\n",
       "    </tr>\n",
       "    <tr>\n",
       "      <th>29836</th>\n",
       "      <td>29836</td>\n",
       "      <td>ok nha Gogoshdohdvswdhxdhdhsdhsvsogehshdfhdhddhdhhyh</td>\n",
       "    </tr>\n",
       "    <tr>\n",
       "      <th>27251</th>\n",
       "      <td>27251</td>\n",
       "      <td>Nice quality for a cheap price it is worth. Also fast delivery. He came immediately. Thank you seller and JNT 😊</td>\n",
       "    </tr>\n",
       "    <tr>\n",
       "      <th>11103</th>\n",
       "      <td>11103</td>\n",
       "      <td>Awaited product berikutnya.harga n packking steady</td>\n",
       "    </tr>\n",
       "    <tr>\n",
       "      <th>20625</th>\n",
       "      <td>20625</td>\n",
       "      <td>Good stuff ml cm delivery</td>\n",
       "    </tr>\n",
       "    <tr>\n",
       "      <th>48975</th>\n",
       "      <td>48975</td>\n",
       "      <td>Awesome speed of the ship awesome awesome quality goods CP value awesome service</td>\n",
       "    </tr>\n",
       "    <tr>\n",
       "      <th>39278</th>\n",
       "      <td>39278</td>\n",
       "      <td>According to the image, nggk nyesel buy disini👌🏻</td>\n",
       "    </tr>\n",
       "    <tr>\n",
       "      <th>28101</th>\n",
       "      <td>28101</td>\n",
       "      <td>Original goods, packaging fast, secure packing, the hefty price, thanks ...</td>\n",
       "    </tr>\n",
       "  </tbody>\n",
       "</table>\n",
       "</div>"
      ],
      "text/plain": [
       "       review_id  \\\n",
       "57166  57166       \n",
       "56807  56807       \n",
       "23836  23836       \n",
       "29836  29836       \n",
       "27251  27251       \n",
       "11103  11103       \n",
       "20625  20625       \n",
       "48975  48975       \n",
       "39278  39278       \n",
       "28101  28101       \n",
       "\n",
       "                                                                                                                review  \n",
       "57166  Nice quality..sakto also click 150gc ko..tapos speed also dumating..ang bait more seller..👍👍👍👍👍                  \n",
       "56807  Very good value Speed ​​of delivery is very good.                                                                \n",
       "23836  Tulisan'y why white? In red when the pic                                                                         \n",
       "29836  ok nha Gogoshdohdvswdhxdhdhsdhsvsogehshdfhdhddhdhhyh                                                             \n",
       "27251  Nice quality for a cheap price it is worth. Also fast delivery. He came immediately. Thank you seller and JNT 😊  \n",
       "11103  Awaited product berikutnya.harga n packking steady                                                               \n",
       "20625  Good stuff ml cm delivery                                                                                        \n",
       "48975  Awesome speed of the ship awesome awesome quality goods CP value awesome service                                 \n",
       "39278  According to the image, nggk nyesel buy disini👌🏻                                                                 \n",
       "28101  Original goods, packaging fast, secure packing, the hefty price, thanks ...                                      "
      ]
     },
     "execution_count": 32,
     "metadata": {},
     "output_type": "execute_result"
    }
   ],
   "source": [
    "test_df.sample(10)"
   ]
  },
  {
   "cell_type": "code",
   "execution_count": 31,
   "metadata": {},
   "outputs": [],
   "source": [
    "train_df.drop('review_id', axis=1, inplace=True)\n",
    "train_df['review'] = train_df['review'].str.lower()"
   ]
  },
  {
   "cell_type": "code",
   "execution_count": null,
   "metadata": {},
   "outputs": [],
   "source": [
    "train"
   ]
  }
 ],
 "metadata": {
  "kernelspec": {
   "display_name": "Python 3",
   "language": "python",
   "name": "python3"
  },
  "language_info": {
   "codemirror_mode": {
    "name": "ipython",
    "version": 3
   },
   "file_extension": ".py",
   "mimetype": "text/x-python",
   "name": "python",
   "nbconvert_exporter": "python",
   "pygments_lexer": "ipython3",
   "version": "3.7.7"
  }
 },
 "nbformat": 4,
 "nbformat_minor": 4
}
