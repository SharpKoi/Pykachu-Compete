{
 "cells": [
  {
   "cell_type": "markdown",
   "metadata": {},
   "source": [
    "# Data Segmented Fitting\n",
    "就是先訓練出data中每個詞的詞向量，再訓練 一個分辨負評好評的模型 ，再訓練 一個分辨負評分數的模型 跟 一個分辨好評分數的模型  \n",
    "*1. embeding-trained model*  \n",
    "*2. bad-ok-good model*  \n",
    "*3. bad-review classify model*  \n",
    "*4. good-review classify model*  \n",
    "\n",
    "\n",
    "We use the **embeding-trained model(1)** to train the **bad-ok-good model(2)**.  \n",
    "  \n",
    "Then use the **bad-ok-good model(1)** to classify the texts in test data into bad-ok-good form. \n",
    "  \n",
    "Use **embeding-trained model(1)** to train **bad-review model(3)** and **good-review model(4)**.  \n",
    "  \n",
    "Finally use **bad-review model(3)** to predict those bad review, and **good-review model(4)** to predict those good review.  "
   ]
  },
  {
   "cell_type": "markdown",
   "metadata": {},
   "source": [
    "## Import packages"
   ]
  },
  {
   "cell_type": "code",
   "execution_count": 1,
   "metadata": {},
   "outputs": [],
   "source": [
    "import os\n",
    "\n",
    "import numpy as np\n",
    "import pandas as pd\n",
    "\n",
    "import plotly.express as px\n",
    "import plotly.graph_objects as go\n",
    "from plotly.subplots import make_subplots\n",
    "\n",
    "from keras.utils import plot_model\n",
    "from keras.layers import Dense, Input, Flatten\n",
    "from keras.layers import Conv1D, GlobalMaxPooling1D, MaxPooling1D, Embedding, Dropout\n",
    "from keras.layers.normalization import BatchNormalization\n",
    "from keras.models import Model\n",
    "from keras.callbacks import ModelCheckpoint\n",
    "\n",
    "from pipline import FittingData, plot_model_history"
   ]
  },
  {
   "cell_type": "code",
   "execution_count": 2,
   "metadata": {},
   "outputs": [],
   "source": [
    "MAX_VOCABULARY_NUM = 200000\n",
    "WORD_SEQUENCE_LENGTH = 1000"
   ]
  },
  {
   "cell_type": "markdown",
   "metadata": {},
   "source": [
    "## Load pre-trained CNN model"
   ]
  },
  {
   "cell_type": "code",
   "execution_count": null,
   "metadata": {},
   "outputs": [],
   "source": []
  }
 ],
 "metadata": {
  "kernelspec": {
   "display_name": "Python 3",
   "language": "python",
   "name": "python3"
  },
  "language_info": {
   "codemirror_mode": {
    "name": "ipython",
    "version": 3
   },
   "file_extension": ".py",
   "mimetype": "text/x-python",
   "name": "python",
   "nbconvert_exporter": "python",
   "pygments_lexer": "ipython3",
   "version": "3.7.7"
  }
 },
 "nbformat": 4,
 "nbformat_minor": 4
}
